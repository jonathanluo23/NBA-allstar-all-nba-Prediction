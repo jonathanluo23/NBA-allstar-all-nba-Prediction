{
  "nbformat": 4,
  "nbformat_minor": 0,
  "metadata": {
    "colab": {
      "name": "Modeling All-Star.ipynb",
      "provenance": [],
      "authorship_tag": "ABX9TyMi9QFmfgHBsnB/rsIcDCnZ",
      "include_colab_link": true
    },
    "kernelspec": {
      "name": "python3",
      "display_name": "Python 3"
    },
    "language_info": {
      "name": "python"
    }
  },
  "cells": [
    {
      "cell_type": "markdown",
      "metadata": {
        "id": "view-in-github",
        "colab_type": "text"
      },
      "source": [
        "<a href=\"https://colab.research.google.com/github/jonathanluo23/NBA-allstar-all-nba-Prediction/blob/main/Modeling_All_Star.ipynb\" target=\"_parent\"><img src=\"https://colab.research.google.com/assets/colab-badge.svg\" alt=\"Open In Colab\"/></a>"
      ]
    },
    {
      "cell_type": "markdown",
      "source": [
        "#Train Test Split"
      ],
      "metadata": {
        "id": "OLUhX6k_rpRc"
      }
    },
    {
      "cell_type": "code",
      "source": [
        "import pandas as pd\n",
        "import numpy as np\n",
        "\n",
        "from google.colab import drive\n",
        "drive.mount('/content/drive/')"
      ],
      "metadata": {
        "colab": {
          "base_uri": "https://localhost:8080/"
        },
        "id": "Os0G5d4vmzDo",
        "outputId": "afaf96dd-3db4-42ec-b2f2-e0489b7a1d29"
      },
      "execution_count": null,
      "outputs": [
        {
          "output_type": "stream",
          "name": "stdout",
          "text": [
            "Mounted at /content/drive/\n"
          ]
        }
      ]
    },
    {
      "cell_type": "code",
      "source": [
        "data = pd.read_csv('/content/drive/MyDrive/Capstone/features_allstar')\n",
        "data"
      ],
      "metadata": {
        "colab": {
          "base_uri": "https://localhost:8080/",
          "height": 424
        },
        "id": "Y9GxkP2Gm5k5",
        "outputId": "9c69aac0-2e5d-4067-c974-1570b8e4e140"
      },
      "execution_count": null,
      "outputs": [
        {
          "output_type": "execute_result",
          "data": {
            "text/plain": [
              "           PIE      POSS       FGM       FGA       FTM       FTA       AST  \\\n",
              "0     0.694731  0.327672  0.339809  0.415240  0.397395  0.331058  0.540045   \n",
              "1     0.437634  0.331238  0.339809  0.351921  0.225032  0.376859  0.204132   \n",
              "2     0.605293  0.639555  0.708391  0.726190  0.608492  0.648300  0.491915   \n",
              "3     0.731632  0.365066  0.688276  0.644164  0.608492  0.610308  0.593746   \n",
              "4     0.869063  0.623336  0.865016  0.860573  0.657989  0.657040  0.568187   \n",
              "...        ...       ...       ...       ...       ...       ...       ...   \n",
              "5329  0.537071  0.181210  0.443154  0.479934  0.225032  0.305702  0.593746   \n",
              "5330  0.736907  0.853446  0.883919  0.878163  0.803580  0.773438  0.781773   \n",
              "5331  0.484695  0.531204  0.443154  0.432405  0.423716  0.469857  0.204132   \n",
              "5332  0.281296  0.623161  0.497437  0.531531  0.266438  0.248934  0.364866   \n",
              "5333  0.000000  0.031402  0.000000  0.337898  0.000000  0.000000  0.000000   \n",
              "\n",
              "           TOV       PTS  PLUS_MINUS  Y  \n",
              "0     0.409157  0.364654    0.645435  0  \n",
              "1     0.465928  0.304896    0.202159  0  \n",
              "2     0.670808  0.658228    0.726321  0  \n",
              "3     0.560714  0.614272    0.845783  0  \n",
              "4     0.491722  0.753611    0.477736  0  \n",
              "...        ...       ...         ... ..  \n",
              "5329  0.581339  0.411726    0.484965  0  \n",
              "5330  0.756013  0.844027    0.672536  1  \n",
              "5331  0.267857  0.449854    0.455946  0  \n",
              "5332  0.307468  0.467574    0.583796  0  \n",
              "5333  0.000000  0.000000    0.000000  0  \n",
              "\n",
              "[5334 rows x 11 columns]"
            ],
            "text/html": [
              "\n",
              "  <div id=\"df-7afefc50-6b41-4e0b-8626-4315e8628854\">\n",
              "    <div class=\"colab-df-container\">\n",
              "      <div>\n",
              "<style scoped>\n",
              "    .dataframe tbody tr th:only-of-type {\n",
              "        vertical-align: middle;\n",
              "    }\n",
              "\n",
              "    .dataframe tbody tr th {\n",
              "        vertical-align: top;\n",
              "    }\n",
              "\n",
              "    .dataframe thead th {\n",
              "        text-align: right;\n",
              "    }\n",
              "</style>\n",
              "<table border=\"1\" class=\"dataframe\">\n",
              "  <thead>\n",
              "    <tr style=\"text-align: right;\">\n",
              "      <th></th>\n",
              "      <th>PIE</th>\n",
              "      <th>POSS</th>\n",
              "      <th>FGM</th>\n",
              "      <th>FGA</th>\n",
              "      <th>FTM</th>\n",
              "      <th>FTA</th>\n",
              "      <th>AST</th>\n",
              "      <th>TOV</th>\n",
              "      <th>PTS</th>\n",
              "      <th>PLUS_MINUS</th>\n",
              "      <th>Y</th>\n",
              "    </tr>\n",
              "  </thead>\n",
              "  <tbody>\n",
              "    <tr>\n",
              "      <th>0</th>\n",
              "      <td>0.694731</td>\n",
              "      <td>0.327672</td>\n",
              "      <td>0.339809</td>\n",
              "      <td>0.415240</td>\n",
              "      <td>0.397395</td>\n",
              "      <td>0.331058</td>\n",
              "      <td>0.540045</td>\n",
              "      <td>0.409157</td>\n",
              "      <td>0.364654</td>\n",
              "      <td>0.645435</td>\n",
              "      <td>0</td>\n",
              "    </tr>\n",
              "    <tr>\n",
              "      <th>1</th>\n",
              "      <td>0.437634</td>\n",
              "      <td>0.331238</td>\n",
              "      <td>0.339809</td>\n",
              "      <td>0.351921</td>\n",
              "      <td>0.225032</td>\n",
              "      <td>0.376859</td>\n",
              "      <td>0.204132</td>\n",
              "      <td>0.465928</td>\n",
              "      <td>0.304896</td>\n",
              "      <td>0.202159</td>\n",
              "      <td>0</td>\n",
              "    </tr>\n",
              "    <tr>\n",
              "      <th>2</th>\n",
              "      <td>0.605293</td>\n",
              "      <td>0.639555</td>\n",
              "      <td>0.708391</td>\n",
              "      <td>0.726190</td>\n",
              "      <td>0.608492</td>\n",
              "      <td>0.648300</td>\n",
              "      <td>0.491915</td>\n",
              "      <td>0.670808</td>\n",
              "      <td>0.658228</td>\n",
              "      <td>0.726321</td>\n",
              "      <td>0</td>\n",
              "    </tr>\n",
              "    <tr>\n",
              "      <th>3</th>\n",
              "      <td>0.731632</td>\n",
              "      <td>0.365066</td>\n",
              "      <td>0.688276</td>\n",
              "      <td>0.644164</td>\n",
              "      <td>0.608492</td>\n",
              "      <td>0.610308</td>\n",
              "      <td>0.593746</td>\n",
              "      <td>0.560714</td>\n",
              "      <td>0.614272</td>\n",
              "      <td>0.845783</td>\n",
              "      <td>0</td>\n",
              "    </tr>\n",
              "    <tr>\n",
              "      <th>4</th>\n",
              "      <td>0.869063</td>\n",
              "      <td>0.623336</td>\n",
              "      <td>0.865016</td>\n",
              "      <td>0.860573</td>\n",
              "      <td>0.657989</td>\n",
              "      <td>0.657040</td>\n",
              "      <td>0.568187</td>\n",
              "      <td>0.491722</td>\n",
              "      <td>0.753611</td>\n",
              "      <td>0.477736</td>\n",
              "      <td>0</td>\n",
              "    </tr>\n",
              "    <tr>\n",
              "      <th>...</th>\n",
              "      <td>...</td>\n",
              "      <td>...</td>\n",
              "      <td>...</td>\n",
              "      <td>...</td>\n",
              "      <td>...</td>\n",
              "      <td>...</td>\n",
              "      <td>...</td>\n",
              "      <td>...</td>\n",
              "      <td>...</td>\n",
              "      <td>...</td>\n",
              "      <td>...</td>\n",
              "    </tr>\n",
              "    <tr>\n",
              "      <th>5329</th>\n",
              "      <td>0.537071</td>\n",
              "      <td>0.181210</td>\n",
              "      <td>0.443154</td>\n",
              "      <td>0.479934</td>\n",
              "      <td>0.225032</td>\n",
              "      <td>0.305702</td>\n",
              "      <td>0.593746</td>\n",
              "      <td>0.581339</td>\n",
              "      <td>0.411726</td>\n",
              "      <td>0.484965</td>\n",
              "      <td>0</td>\n",
              "    </tr>\n",
              "    <tr>\n",
              "      <th>5330</th>\n",
              "      <td>0.736907</td>\n",
              "      <td>0.853446</td>\n",
              "      <td>0.883919</td>\n",
              "      <td>0.878163</td>\n",
              "      <td>0.803580</td>\n",
              "      <td>0.773438</td>\n",
              "      <td>0.781773</td>\n",
              "      <td>0.756013</td>\n",
              "      <td>0.844027</td>\n",
              "      <td>0.672536</td>\n",
              "      <td>1</td>\n",
              "    </tr>\n",
              "    <tr>\n",
              "      <th>5331</th>\n",
              "      <td>0.484695</td>\n",
              "      <td>0.531204</td>\n",
              "      <td>0.443154</td>\n",
              "      <td>0.432405</td>\n",
              "      <td>0.423716</td>\n",
              "      <td>0.469857</td>\n",
              "      <td>0.204132</td>\n",
              "      <td>0.267857</td>\n",
              "      <td>0.449854</td>\n",
              "      <td>0.455946</td>\n",
              "      <td>0</td>\n",
              "    </tr>\n",
              "    <tr>\n",
              "      <th>5332</th>\n",
              "      <td>0.281296</td>\n",
              "      <td>0.623161</td>\n",
              "      <td>0.497437</td>\n",
              "      <td>0.531531</td>\n",
              "      <td>0.266438</td>\n",
              "      <td>0.248934</td>\n",
              "      <td>0.364866</td>\n",
              "      <td>0.307468</td>\n",
              "      <td>0.467574</td>\n",
              "      <td>0.583796</td>\n",
              "      <td>0</td>\n",
              "    </tr>\n",
              "    <tr>\n",
              "      <th>5333</th>\n",
              "      <td>0.000000</td>\n",
              "      <td>0.031402</td>\n",
              "      <td>0.000000</td>\n",
              "      <td>0.337898</td>\n",
              "      <td>0.000000</td>\n",
              "      <td>0.000000</td>\n",
              "      <td>0.000000</td>\n",
              "      <td>0.000000</td>\n",
              "      <td>0.000000</td>\n",
              "      <td>0.000000</td>\n",
              "      <td>0</td>\n",
              "    </tr>\n",
              "  </tbody>\n",
              "</table>\n",
              "<p>5334 rows × 11 columns</p>\n",
              "</div>\n",
              "      <button class=\"colab-df-convert\" onclick=\"convertToInteractive('df-7afefc50-6b41-4e0b-8626-4315e8628854')\"\n",
              "              title=\"Convert this dataframe to an interactive table.\"\n",
              "              style=\"display:none;\">\n",
              "        \n",
              "  <svg xmlns=\"http://www.w3.org/2000/svg\" height=\"24px\"viewBox=\"0 0 24 24\"\n",
              "       width=\"24px\">\n",
              "    <path d=\"M0 0h24v24H0V0z\" fill=\"none\"/>\n",
              "    <path d=\"M18.56 5.44l.94 2.06.94-2.06 2.06-.94-2.06-.94-.94-2.06-.94 2.06-2.06.94zm-11 1L8.5 8.5l.94-2.06 2.06-.94-2.06-.94L8.5 2.5l-.94 2.06-2.06.94zm10 10l.94 2.06.94-2.06 2.06-.94-2.06-.94-.94-2.06-.94 2.06-2.06.94z\"/><path d=\"M17.41 7.96l-1.37-1.37c-.4-.4-.92-.59-1.43-.59-.52 0-1.04.2-1.43.59L10.3 9.45l-7.72 7.72c-.78.78-.78 2.05 0 2.83L4 21.41c.39.39.9.59 1.41.59.51 0 1.02-.2 1.41-.59l7.78-7.78 2.81-2.81c.8-.78.8-2.07 0-2.86zM5.41 20L4 18.59l7.72-7.72 1.47 1.35L5.41 20z\"/>\n",
              "  </svg>\n",
              "      </button>\n",
              "      \n",
              "  <style>\n",
              "    .colab-df-container {\n",
              "      display:flex;\n",
              "      flex-wrap:wrap;\n",
              "      gap: 12px;\n",
              "    }\n",
              "\n",
              "    .colab-df-convert {\n",
              "      background-color: #E8F0FE;\n",
              "      border: none;\n",
              "      border-radius: 50%;\n",
              "      cursor: pointer;\n",
              "      display: none;\n",
              "      fill: #1967D2;\n",
              "      height: 32px;\n",
              "      padding: 0 0 0 0;\n",
              "      width: 32px;\n",
              "    }\n",
              "\n",
              "    .colab-df-convert:hover {\n",
              "      background-color: #E2EBFA;\n",
              "      box-shadow: 0px 1px 2px rgba(60, 64, 67, 0.3), 0px 1px 3px 1px rgba(60, 64, 67, 0.15);\n",
              "      fill: #174EA6;\n",
              "    }\n",
              "\n",
              "    [theme=dark] .colab-df-convert {\n",
              "      background-color: #3B4455;\n",
              "      fill: #D2E3FC;\n",
              "    }\n",
              "\n",
              "    [theme=dark] .colab-df-convert:hover {\n",
              "      background-color: #434B5C;\n",
              "      box-shadow: 0px 1px 3px 1px rgba(0, 0, 0, 0.15);\n",
              "      filter: drop-shadow(0px 1px 2px rgba(0, 0, 0, 0.3));\n",
              "      fill: #FFFFFF;\n",
              "    }\n",
              "  </style>\n",
              "\n",
              "      <script>\n",
              "        const buttonEl =\n",
              "          document.querySelector('#df-7afefc50-6b41-4e0b-8626-4315e8628854 button.colab-df-convert');\n",
              "        buttonEl.style.display =\n",
              "          google.colab.kernel.accessAllowed ? 'block' : 'none';\n",
              "\n",
              "        async function convertToInteractive(key) {\n",
              "          const element = document.querySelector('#df-7afefc50-6b41-4e0b-8626-4315e8628854');\n",
              "          const dataTable =\n",
              "            await google.colab.kernel.invokeFunction('convertToInteractive',\n",
              "                                                     [key], {});\n",
              "          if (!dataTable) return;\n",
              "\n",
              "          const docLinkHtml = 'Like what you see? Visit the ' +\n",
              "            '<a target=\"_blank\" href=https://colab.research.google.com/notebooks/data_table.ipynb>data table notebook</a>'\n",
              "            + ' to learn more about interactive tables.';\n",
              "          element.innerHTML = '';\n",
              "          dataTable['output_type'] = 'display_data';\n",
              "          await google.colab.output.renderOutput(dataTable, element);\n",
              "          const docLink = document.createElement('div');\n",
              "          docLink.innerHTML = docLinkHtml;\n",
              "          element.appendChild(docLink);\n",
              "        }\n",
              "      </script>\n",
              "    </div>\n",
              "  </div>\n",
              "  "
            ]
          },
          "metadata": {},
          "execution_count": 3
        }
      ]
    },
    {
      "cell_type": "code",
      "source": [
        "X_cols = data.iloc[:,:-1]\n",
        "y_cols = data.iloc[:,-1]"
      ],
      "metadata": {
        "id": "9smuQxr3q9Si"
      },
      "execution_count": null,
      "outputs": []
    },
    {
      "cell_type": "code",
      "source": [
        "X_cols"
      ],
      "metadata": {
        "colab": {
          "base_uri": "https://localhost:8080/",
          "height": 424
        },
        "id": "JVrkJL7XrE0z",
        "outputId": "4bae768b-44a2-439b-be6e-b9f228a26127"
      },
      "execution_count": null,
      "outputs": [
        {
          "output_type": "execute_result",
          "data": {
            "text/plain": [
              "           PIE      POSS       FGM       FGA       FTM       FTA       AST  \\\n",
              "0     0.694731  0.327672  0.339809  0.415240  0.397395  0.331058  0.540045   \n",
              "1     0.437634  0.331238  0.339809  0.351921  0.225032  0.376859  0.204132   \n",
              "2     0.605293  0.639555  0.708391  0.726190  0.608492  0.648300  0.491915   \n",
              "3     0.731632  0.365066  0.688276  0.644164  0.608492  0.610308  0.593746   \n",
              "4     0.869063  0.623336  0.865016  0.860573  0.657989  0.657040  0.568187   \n",
              "...        ...       ...       ...       ...       ...       ...       ...   \n",
              "5329  0.537071  0.181210  0.443154  0.479934  0.225032  0.305702  0.593746   \n",
              "5330  0.736907  0.853446  0.883919  0.878163  0.803580  0.773438  0.781773   \n",
              "5331  0.484695  0.531204  0.443154  0.432405  0.423716  0.469857  0.204132   \n",
              "5332  0.281296  0.623161  0.497437  0.531531  0.266438  0.248934  0.364866   \n",
              "5333  0.000000  0.031402  0.000000  0.337898  0.000000  0.000000  0.000000   \n",
              "\n",
              "           TOV       PTS  PLUS_MINUS  \n",
              "0     0.409157  0.364654    0.645435  \n",
              "1     0.465928  0.304896    0.202159  \n",
              "2     0.670808  0.658228    0.726321  \n",
              "3     0.560714  0.614272    0.845783  \n",
              "4     0.491722  0.753611    0.477736  \n",
              "...        ...       ...         ...  \n",
              "5329  0.581339  0.411726    0.484965  \n",
              "5330  0.756013  0.844027    0.672536  \n",
              "5331  0.267857  0.449854    0.455946  \n",
              "5332  0.307468  0.467574    0.583796  \n",
              "5333  0.000000  0.000000    0.000000  \n",
              "\n",
              "[5334 rows x 10 columns]"
            ],
            "text/html": [
              "\n",
              "  <div id=\"df-a2b8d419-361b-45d3-b64c-64c3fcdd9945\">\n",
              "    <div class=\"colab-df-container\">\n",
              "      <div>\n",
              "<style scoped>\n",
              "    .dataframe tbody tr th:only-of-type {\n",
              "        vertical-align: middle;\n",
              "    }\n",
              "\n",
              "    .dataframe tbody tr th {\n",
              "        vertical-align: top;\n",
              "    }\n",
              "\n",
              "    .dataframe thead th {\n",
              "        text-align: right;\n",
              "    }\n",
              "</style>\n",
              "<table border=\"1\" class=\"dataframe\">\n",
              "  <thead>\n",
              "    <tr style=\"text-align: right;\">\n",
              "      <th></th>\n",
              "      <th>PIE</th>\n",
              "      <th>POSS</th>\n",
              "      <th>FGM</th>\n",
              "      <th>FGA</th>\n",
              "      <th>FTM</th>\n",
              "      <th>FTA</th>\n",
              "      <th>AST</th>\n",
              "      <th>TOV</th>\n",
              "      <th>PTS</th>\n",
              "      <th>PLUS_MINUS</th>\n",
              "    </tr>\n",
              "  </thead>\n",
              "  <tbody>\n",
              "    <tr>\n",
              "      <th>0</th>\n",
              "      <td>0.694731</td>\n",
              "      <td>0.327672</td>\n",
              "      <td>0.339809</td>\n",
              "      <td>0.415240</td>\n",
              "      <td>0.397395</td>\n",
              "      <td>0.331058</td>\n",
              "      <td>0.540045</td>\n",
              "      <td>0.409157</td>\n",
              "      <td>0.364654</td>\n",
              "      <td>0.645435</td>\n",
              "    </tr>\n",
              "    <tr>\n",
              "      <th>1</th>\n",
              "      <td>0.437634</td>\n",
              "      <td>0.331238</td>\n",
              "      <td>0.339809</td>\n",
              "      <td>0.351921</td>\n",
              "      <td>0.225032</td>\n",
              "      <td>0.376859</td>\n",
              "      <td>0.204132</td>\n",
              "      <td>0.465928</td>\n",
              "      <td>0.304896</td>\n",
              "      <td>0.202159</td>\n",
              "    </tr>\n",
              "    <tr>\n",
              "      <th>2</th>\n",
              "      <td>0.605293</td>\n",
              "      <td>0.639555</td>\n",
              "      <td>0.708391</td>\n",
              "      <td>0.726190</td>\n",
              "      <td>0.608492</td>\n",
              "      <td>0.648300</td>\n",
              "      <td>0.491915</td>\n",
              "      <td>0.670808</td>\n",
              "      <td>0.658228</td>\n",
              "      <td>0.726321</td>\n",
              "    </tr>\n",
              "    <tr>\n",
              "      <th>3</th>\n",
              "      <td>0.731632</td>\n",
              "      <td>0.365066</td>\n",
              "      <td>0.688276</td>\n",
              "      <td>0.644164</td>\n",
              "      <td>0.608492</td>\n",
              "      <td>0.610308</td>\n",
              "      <td>0.593746</td>\n",
              "      <td>0.560714</td>\n",
              "      <td>0.614272</td>\n",
              "      <td>0.845783</td>\n",
              "    </tr>\n",
              "    <tr>\n",
              "      <th>4</th>\n",
              "      <td>0.869063</td>\n",
              "      <td>0.623336</td>\n",
              "      <td>0.865016</td>\n",
              "      <td>0.860573</td>\n",
              "      <td>0.657989</td>\n",
              "      <td>0.657040</td>\n",
              "      <td>0.568187</td>\n",
              "      <td>0.491722</td>\n",
              "      <td>0.753611</td>\n",
              "      <td>0.477736</td>\n",
              "    </tr>\n",
              "    <tr>\n",
              "      <th>...</th>\n",
              "      <td>...</td>\n",
              "      <td>...</td>\n",
              "      <td>...</td>\n",
              "      <td>...</td>\n",
              "      <td>...</td>\n",
              "      <td>...</td>\n",
              "      <td>...</td>\n",
              "      <td>...</td>\n",
              "      <td>...</td>\n",
              "      <td>...</td>\n",
              "    </tr>\n",
              "    <tr>\n",
              "      <th>5329</th>\n",
              "      <td>0.537071</td>\n",
              "      <td>0.181210</td>\n",
              "      <td>0.443154</td>\n",
              "      <td>0.479934</td>\n",
              "      <td>0.225032</td>\n",
              "      <td>0.305702</td>\n",
              "      <td>0.593746</td>\n",
              "      <td>0.581339</td>\n",
              "      <td>0.411726</td>\n",
              "      <td>0.484965</td>\n",
              "    </tr>\n",
              "    <tr>\n",
              "      <th>5330</th>\n",
              "      <td>0.736907</td>\n",
              "      <td>0.853446</td>\n",
              "      <td>0.883919</td>\n",
              "      <td>0.878163</td>\n",
              "      <td>0.803580</td>\n",
              "      <td>0.773438</td>\n",
              "      <td>0.781773</td>\n",
              "      <td>0.756013</td>\n",
              "      <td>0.844027</td>\n",
              "      <td>0.672536</td>\n",
              "    </tr>\n",
              "    <tr>\n",
              "      <th>5331</th>\n",
              "      <td>0.484695</td>\n",
              "      <td>0.531204</td>\n",
              "      <td>0.443154</td>\n",
              "      <td>0.432405</td>\n",
              "      <td>0.423716</td>\n",
              "      <td>0.469857</td>\n",
              "      <td>0.204132</td>\n",
              "      <td>0.267857</td>\n",
              "      <td>0.449854</td>\n",
              "      <td>0.455946</td>\n",
              "    </tr>\n",
              "    <tr>\n",
              "      <th>5332</th>\n",
              "      <td>0.281296</td>\n",
              "      <td>0.623161</td>\n",
              "      <td>0.497437</td>\n",
              "      <td>0.531531</td>\n",
              "      <td>0.266438</td>\n",
              "      <td>0.248934</td>\n",
              "      <td>0.364866</td>\n",
              "      <td>0.307468</td>\n",
              "      <td>0.467574</td>\n",
              "      <td>0.583796</td>\n",
              "    </tr>\n",
              "    <tr>\n",
              "      <th>5333</th>\n",
              "      <td>0.000000</td>\n",
              "      <td>0.031402</td>\n",
              "      <td>0.000000</td>\n",
              "      <td>0.337898</td>\n",
              "      <td>0.000000</td>\n",
              "      <td>0.000000</td>\n",
              "      <td>0.000000</td>\n",
              "      <td>0.000000</td>\n",
              "      <td>0.000000</td>\n",
              "      <td>0.000000</td>\n",
              "    </tr>\n",
              "  </tbody>\n",
              "</table>\n",
              "<p>5334 rows × 10 columns</p>\n",
              "</div>\n",
              "      <button class=\"colab-df-convert\" onclick=\"convertToInteractive('df-a2b8d419-361b-45d3-b64c-64c3fcdd9945')\"\n",
              "              title=\"Convert this dataframe to an interactive table.\"\n",
              "              style=\"display:none;\">\n",
              "        \n",
              "  <svg xmlns=\"http://www.w3.org/2000/svg\" height=\"24px\"viewBox=\"0 0 24 24\"\n",
              "       width=\"24px\">\n",
              "    <path d=\"M0 0h24v24H0V0z\" fill=\"none\"/>\n",
              "    <path d=\"M18.56 5.44l.94 2.06.94-2.06 2.06-.94-2.06-.94-.94-2.06-.94 2.06-2.06.94zm-11 1L8.5 8.5l.94-2.06 2.06-.94-2.06-.94L8.5 2.5l-.94 2.06-2.06.94zm10 10l.94 2.06.94-2.06 2.06-.94-2.06-.94-.94-2.06-.94 2.06-2.06.94z\"/><path d=\"M17.41 7.96l-1.37-1.37c-.4-.4-.92-.59-1.43-.59-.52 0-1.04.2-1.43.59L10.3 9.45l-7.72 7.72c-.78.78-.78 2.05 0 2.83L4 21.41c.39.39.9.59 1.41.59.51 0 1.02-.2 1.41-.59l7.78-7.78 2.81-2.81c.8-.78.8-2.07 0-2.86zM5.41 20L4 18.59l7.72-7.72 1.47 1.35L5.41 20z\"/>\n",
              "  </svg>\n",
              "      </button>\n",
              "      \n",
              "  <style>\n",
              "    .colab-df-container {\n",
              "      display:flex;\n",
              "      flex-wrap:wrap;\n",
              "      gap: 12px;\n",
              "    }\n",
              "\n",
              "    .colab-df-convert {\n",
              "      background-color: #E8F0FE;\n",
              "      border: none;\n",
              "      border-radius: 50%;\n",
              "      cursor: pointer;\n",
              "      display: none;\n",
              "      fill: #1967D2;\n",
              "      height: 32px;\n",
              "      padding: 0 0 0 0;\n",
              "      width: 32px;\n",
              "    }\n",
              "\n",
              "    .colab-df-convert:hover {\n",
              "      background-color: #E2EBFA;\n",
              "      box-shadow: 0px 1px 2px rgba(60, 64, 67, 0.3), 0px 1px 3px 1px rgba(60, 64, 67, 0.15);\n",
              "      fill: #174EA6;\n",
              "    }\n",
              "\n",
              "    [theme=dark] .colab-df-convert {\n",
              "      background-color: #3B4455;\n",
              "      fill: #D2E3FC;\n",
              "    }\n",
              "\n",
              "    [theme=dark] .colab-df-convert:hover {\n",
              "      background-color: #434B5C;\n",
              "      box-shadow: 0px 1px 3px 1px rgba(0, 0, 0, 0.15);\n",
              "      filter: drop-shadow(0px 1px 2px rgba(0, 0, 0, 0.3));\n",
              "      fill: #FFFFFF;\n",
              "    }\n",
              "  </style>\n",
              "\n",
              "      <script>\n",
              "        const buttonEl =\n",
              "          document.querySelector('#df-a2b8d419-361b-45d3-b64c-64c3fcdd9945 button.colab-df-convert');\n",
              "        buttonEl.style.display =\n",
              "          google.colab.kernel.accessAllowed ? 'block' : 'none';\n",
              "\n",
              "        async function convertToInteractive(key) {\n",
              "          const element = document.querySelector('#df-a2b8d419-361b-45d3-b64c-64c3fcdd9945');\n",
              "          const dataTable =\n",
              "            await google.colab.kernel.invokeFunction('convertToInteractive',\n",
              "                                                     [key], {});\n",
              "          if (!dataTable) return;\n",
              "\n",
              "          const docLinkHtml = 'Like what you see? Visit the ' +\n",
              "            '<a target=\"_blank\" href=https://colab.research.google.com/notebooks/data_table.ipynb>data table notebook</a>'\n",
              "            + ' to learn more about interactive tables.';\n",
              "          element.innerHTML = '';\n",
              "          dataTable['output_type'] = 'display_data';\n",
              "          await google.colab.output.renderOutput(dataTable, element);\n",
              "          const docLink = document.createElement('div');\n",
              "          docLink.innerHTML = docLinkHtml;\n",
              "          element.appendChild(docLink);\n",
              "        }\n",
              "      </script>\n",
              "    </div>\n",
              "  </div>\n",
              "  "
            ]
          },
          "metadata": {},
          "execution_count": 5
        }
      ]
    },
    {
      "cell_type": "code",
      "source": [
        "from sklearn.model_selection import train_test_split"
      ],
      "metadata": {
        "id": "wias1pAga_u-"
      },
      "execution_count": null,
      "outputs": []
    },
    {
      "cell_type": "code",
      "source": [
        "X_train_cols,X_test_cols,y_train_cols,y_test_cols = train_test_split(X_cols, y_cols,test_size=.25,random_state=2021)"
      ],
      "metadata": {
        "id": "hGybX1GhrGaA"
      },
      "execution_count": null,
      "outputs": []
    },
    {
      "cell_type": "code",
      "source": [
        "X = data.iloc[:,:-1].values\n",
        "y = data.iloc[:,-1].values"
      ],
      "metadata": {
        "id": "PGEHNK3xnG3R"
      },
      "execution_count": null,
      "outputs": []
    },
    {
      "cell_type": "code",
      "source": [
        "y"
      ],
      "metadata": {
        "colab": {
          "base_uri": "https://localhost:8080/"
        },
        "id": "WcwsxHKIo6Qc",
        "outputId": "365eca4c-a068-41ae-bcdc-b8112973e0f3"
      },
      "execution_count": null,
      "outputs": [
        {
          "output_type": "execute_result",
          "data": {
            "text/plain": [
              "array([0, 0, 0, ..., 0, 0, 0])"
            ]
          },
          "metadata": {},
          "execution_count": 9
        }
      ]
    },
    {
      "cell_type": "code",
      "source": [
        "X"
      ],
      "metadata": {
        "colab": {
          "base_uri": "https://localhost:8080/"
        },
        "id": "9QV68jUho00O",
        "outputId": "adea5f41-993b-43ce-efd0-f4a6d7e6d8fe"
      },
      "execution_count": null,
      "outputs": [
        {
          "output_type": "execute_result",
          "data": {
            "text/plain": [
              "array([[0.69473079, 0.3276722 , 0.33980883, ..., 0.40915682, 0.36465366,\n",
              "        0.64543456],\n",
              "       [0.43763423, 0.33123809, 0.33980883, ..., 0.46592818, 0.30489565,\n",
              "        0.20215921],\n",
              "       [0.60529279, 0.63955453, 0.70839071, ..., 0.67080811, 0.65822803,\n",
              "        0.72632127],\n",
              "       ...,\n",
              "       [0.48469549, 0.5312036 , 0.44315435, ..., 0.26785658, 0.44985355,\n",
              "        0.45594583],\n",
              "       [0.28129562, 0.62316102, 0.49743745, ..., 0.30746824, 0.46757381,\n",
              "        0.58379557],\n",
              "       [0.        , 0.03140176, 0.        , ..., 0.        , 0.        ,\n",
              "        0.        ]])"
            ]
          },
          "metadata": {},
          "execution_count": 10
        }
      ]
    },
    {
      "cell_type": "code",
      "source": [
        "X_train,X_test,y_train,y_test = train_test_split(X, y,test_size=.25,random_state=2021)"
      ],
      "metadata": {
        "id": "eXpIz47Do0DB"
      },
      "execution_count": null,
      "outputs": []
    },
    {
      "cell_type": "markdown",
      "source": [
        "#Descision Tree"
      ],
      "metadata": {
        "id": "_TI0sCwLjRSa"
      }
    },
    {
      "cell_type": "code",
      "source": [
        "!pip install imblearn==0.0"
      ],
      "metadata": {
        "colab": {
          "base_uri": "https://localhost:8080/"
        },
        "id": "7qIDpCN0phlo",
        "outputId": "a716fb10-94da-46e9-cd86-a134e80191bf"
      },
      "execution_count": null,
      "outputs": [
        {
          "output_type": "stream",
          "name": "stdout",
          "text": [
            "Looking in indexes: https://pypi.org/simple, https://us-python.pkg.dev/colab-wheels/public/simple/\n",
            "Requirement already satisfied: imblearn==0.0 in /usr/local/lib/python3.7/dist-packages (0.0)\n",
            "Requirement already satisfied: imbalanced-learn in /usr/local/lib/python3.7/dist-packages (from imblearn==0.0) (0.8.1)\n",
            "Requirement already satisfied: joblib>=0.11 in /usr/local/lib/python3.7/dist-packages (from imbalanced-learn->imblearn==0.0) (1.1.0)\n",
            "Requirement already satisfied: scikit-learn>=0.24 in /usr/local/lib/python3.7/dist-packages (from imbalanced-learn->imblearn==0.0) (1.0.2)\n",
            "Requirement already satisfied: numpy>=1.13.3 in /usr/local/lib/python3.7/dist-packages (from imbalanced-learn->imblearn==0.0) (1.21.6)\n",
            "Requirement already satisfied: scipy>=0.19.1 in /usr/local/lib/python3.7/dist-packages (from imbalanced-learn->imblearn==0.0) (1.4.1)\n",
            "Requirement already satisfied: threadpoolctl>=2.0.0 in /usr/local/lib/python3.7/dist-packages (from scikit-learn>=0.24->imbalanced-learn->imblearn==0.0) (3.1.0)\n"
          ]
        }
      ]
    },
    {
      "cell_type": "code",
      "source": [
        "# import required packages for splitting data\n",
        "from sklearn import model_selection\n",
        "from sklearn import linear_model\n",
        "from sklearn import ensemble\n",
        "from sklearn.model_selection import cross_val_score\n",
        "from sklearn.model_selection import train_test_split\n",
        "\n",
        "# import required packages for evaluating models\n",
        "from sklearn import metrics\n",
        "from sklearn.metrics import confusion_matrix\n",
        "from sklearn.metrics import classification_report\n",
        "from sklearn.metrics import roc_auc_score\n",
        "from sklearn.metrics import accuracy_score\n",
        "from sklearn.metrics import precision_recall_fscore_support\n",
        "\n",
        "# import `Decision Tree` model\n",
        "from sklearn.tree import DecisionTreeClassifier\n",
        "\n",
        "# balance the data\n",
        "from imblearn.over_sampling import SMOTE"
      ],
      "metadata": {
        "id": "P9dbuMlypMRP"
      },
      "execution_count": null,
      "outputs": []
    },
    {
      "cell_type": "code",
      "source": [
        "#Create a Decision Tree Classifier\n",
        "clf = DecisionTreeClassifier()\n",
        "\n",
        "#Train the model using the training sets\n",
        "clf.fit(X_train, y_train)\n",
        "\n",
        "#Predict the response for test dataset\n",
        "y_pred = clf.predict(X_test)"
      ],
      "metadata": {
        "id": "r3RzGEHvpKKd"
      },
      "execution_count": null,
      "outputs": []
    },
    {
      "cell_type": "code",
      "source": [
        "print(classification_report(y_test, y_pred))"
      ],
      "metadata": {
        "colab": {
          "base_uri": "https://localhost:8080/"
        },
        "id": "-_G1qrAqpO18",
        "outputId": "2a6c7b60-ad0c-4442-b3af-d23ed5e4c15c"
      },
      "execution_count": null,
      "outputs": [
        {
          "output_type": "stream",
          "name": "stdout",
          "text": [
            "              precision    recall  f1-score   support\n",
            "\n",
            "           0       0.98      0.97      0.98      1269\n",
            "           1       0.58      0.71      0.64        65\n",
            "\n",
            "    accuracy                           0.96      1334\n",
            "   macro avg       0.78      0.84      0.81      1334\n",
            "weighted avg       0.97      0.96      0.96      1334\n",
            "\n"
          ]
        }
      ]
    },
    {
      "cell_type": "code",
      "source": [
        "cnf_matrix = metrics.confusion_matrix(y_test, y_pred)\n",
        "cnf_matrix"
      ],
      "metadata": {
        "colab": {
          "base_uri": "https://localhost:8080/"
        },
        "id": "Ml9ZNIjPppXV",
        "outputId": "3703ac8c-be24-4a78-faa7-5ec7dee7803f"
      },
      "execution_count": null,
      "outputs": [
        {
          "output_type": "execute_result",
          "data": {
            "text/plain": [
              "array([[1236,   33],\n",
              "       [  19,   46]])"
            ]
          },
          "metadata": {},
          "execution_count": 16
        }
      ]
    },
    {
      "cell_type": "code",
      "source": [
        "import seaborn as sns\n",
        "import matplotlib.pyplot as plt\n",
        "class_names=[0,1] # name  of classes\n",
        "fig, ax = plt.subplots()\n",
        "tick_marks = np.arange(len(class_names))\n",
        "plt.xticks(tick_marks, class_names)\n",
        "plt.yticks(tick_marks, class_names)\n",
        "# create heatmap\n",
        "sns.heatmap(pd.DataFrame(cnf_matrix), annot=True, cmap=\"YlGnBu\" ,fmt='g')\n",
        "ax.xaxis.set_label_position(\"top\")\n",
        "plt.tight_layout()\n",
        "plt.title('Confusion matrix', y=1.1)\n",
        "plt.ylabel('Actual label')\n",
        "plt.xlabel('Predicted label')"
      ],
      "metadata": {
        "colab": {
          "base_uri": "https://localhost:8080/",
          "height": 342
        },
        "id": "xWGRH7sBpZqo",
        "outputId": "08215740-c136-47c5-d178-d610c57a2da6"
      },
      "execution_count": null,
      "outputs": [
        {
          "output_type": "execute_result",
          "data": {
            "text/plain": [
              "Text(0.5, 257.44, 'Predicted label')"
            ]
          },
          "metadata": {},
          "execution_count": 17
        },
        {
          "output_type": "display_data",
          "data": {
            "text/plain": [
              "<Figure size 432x288 with 2 Axes>"
            ],
            "image/png": "[encoded data removed]"
          },
          "metadata": {
            "needs_background": "light"
          }
        }
      ]
    },
    {
      "cell_type": "code",
      "source": [
        "print(\"Accuracy:\",metrics.accuracy_score(y_test, y_pred))\n",
        "print(\"Precision:\",metrics.precision_score(y_test, y_pred))\n",
        "print(\"Recall:\",metrics.recall_score(y_test, y_pred))"
      ],
      "metadata": {
        "colab": {
          "base_uri": "https://localhost:8080/"
        },
        "id": "TzVIXhZHp29u",
        "outputId": "bb0cc72f-0406-46b1-fdb2-5a4829cab61f"
      },
      "execution_count": null,
      "outputs": [
        {
          "output_type": "stream",
          "name": "stdout",
          "text": [
            "Accuracy: 0.9610194902548725\n",
            "Precision: 0.5822784810126582\n",
            "Recall: 0.7076923076923077\n"
          ]
        }
      ]
    },
    {
      "cell_type": "code",
      "source": [
        "y_pred_proba = clf.predict_proba(X_test)[::,1]\n",
        "fpr, tpr, _ = metrics.roc_curve(y_test,  y_pred_proba)\n",
        "auc = metrics.roc_auc_score(y_test, y_pred_proba)\n",
        "plt.plot(fpr,tpr,label= 'AUC = %0.2f' % auc)\n",
        "plt.legend(loc=4)\n",
        "plt.title('Receiver Operating Characteristic (ROC)')\n",
        "plt.ylabel('True Positive Rate')\n",
        "plt.xlabel('False Positive Rate')\n",
        "plt.show()\n",
        "print('AUC Score:', auc)"
      ],
      "metadata": {
        "colab": {
          "base_uri": "https://localhost:8080/",
          "height": 312
        },
        "id": "tx-j342ap4Yw",
        "outputId": "da68a7d2-3194-43c0-98c2-12a229c7cc4c"
      },
      "execution_count": null,
      "outputs": [
        {
          "output_type": "display_data",
          "data": {
            "text/plain": [
              "<Figure size 432x288 with 1 Axes>"
            ],
            "image/png": "[encoded data removed]"
          },
          "metadata": {
            "needs_background": "light"
          }
        },
        {
          "output_type": "stream",
          "name": "stdout",
          "text": [
            "AUC Score: 0.84084378977996\n"
          ]
        }
      ]
    },
    {
      "cell_type": "code",
      "source": [
        "feature_imp = pd.Series(clf.feature_importances_, index=list(X_train_cols.columns)).sort_values(ascending=False)\n",
        "feature_imp"
      ],
      "metadata": {
        "colab": {
          "base_uri": "https://localhost:8080/"
        },
        "id": "yVLwpN35p7g2",
        "outputId": "e8080eef-a348-480d-f36e-4a7ffb1e506b"
      },
      "execution_count": null,
      "outputs": [
        {
          "output_type": "execute_result",
          "data": {
            "text/plain": [
              "PTS           0.483719\n",
              "PLUS_MINUS    0.130339\n",
              "PIE           0.094520\n",
              "POSS          0.067231\n",
              "TOV           0.066357\n",
              "AST           0.042070\n",
              "FGM           0.040256\n",
              "FTA           0.030802\n",
              "FTM           0.026365\n",
              "FGA           0.018340\n",
              "dtype: float64"
            ]
          },
          "metadata": {},
          "execution_count": 20
        }
      ]
    },
    {
      "cell_type": "code",
      "source": [
        "%matplotlib inline\n",
        "plt.style.use('ggplot')\n",
        "\n",
        "# Creating a bar plot\n",
        "sns.barplot(x=feature_imp, y=feature_imp.index,color='r')\n",
        "\n",
        "# Add labels to your graph\n",
        "plt.xlabel('Feature Importance Score')\n",
        "plt.ylabel('Features')\n",
        "plt.title(\"Visualizing Important Features\")\n",
        "plt.show()"
      ],
      "metadata": {
        "colab": {
          "base_uri": "https://localhost:8080/",
          "height": 299
        },
        "id": "3VrfeegFp_Vy",
        "outputId": "52bd2bc2-8d55-44c2-d4f8-810240450ef6"
      },
      "execution_count": null,
      "outputs": [
        {
          "output_type": "display_data",
          "data": {
            "text/plain": [
              "<Figure size 432x288 with 1 Axes>"
            ],
            "image/png": "[encoded data removed]"
          },
          "metadata": {}
        }
      ]
    },
    {
      "cell_type": "markdown",
      "source": [
        "##Evaluation"
      ],
      "metadata": {
        "id": "Nvoym7bbqFNW"
      }
    },
    {
      "cell_type": "code",
      "source": [
        "clf = DecisionTreeClassifier()"
      ],
      "metadata": {
        "id": "M3JgRUzQrZ7H"
      },
      "execution_count": null,
      "outputs": []
    },
    {
      "cell_type": "code",
      "source": [
        "#function inputs X:features.Y: Target, classifer: sklearn classifier, K:folds in cross validation, scoring: evaluation metric(f1)\n",
        "def my_eval(X, y, classifer = clf, k=10, scoring = 'f1'):\n",
        "    scores = []\n",
        "    for i in range(5):\n",
        "        #### generate random numbers to shuffle the data for training and test\n",
        "        np.random.seed(2021)\n",
        "        random_int = np.random.randint(0,3000)\n",
        "        #### create cross validation folds\n",
        "        kfold = model_selection.KFold(n_splits=k, random_state=random_int, shuffle=True)\n",
        "        #### record the score \n",
        "        score = model_selection.cross_val_score(clf, X=X, y=y, cv=kfold, scoring=scoring)\n",
        "        scores.append(score)\n",
        "    scores = np.array(scores)\n",
        "    #### we need to calculate the bias (average score) and viariance (std)\n",
        "    bias, variance = round(scores.mean(),4), round(scores.std(),4)\n",
        "    return(bias, variance)"
      ],
      "metadata": {
        "id": "MIeFyIAWqJhO"
      },
      "execution_count": null,
      "outputs": []
    },
    {
      "cell_type": "code",
      "source": [
        "# Resampling and Balancing the data\n",
        "sm = SMOTE(random_state = 2021) \n",
        "X_res, Y_res = sm.fit_resample(X_train, y_train)"
      ],
      "metadata": {
        "id": "nVC5zqjOrcfX"
      },
      "execution_count": null,
      "outputs": []
    },
    {
      "cell_type": "code",
      "source": [
        "#average f1_score from 10-fold CV \n",
        "clf = DecisionTreeClassifier()\n",
        "my_eval(X_res, Y_res, clf, 10)"
      ],
      "metadata": {
        "colab": {
          "base_uri": "https://localhost:8080/"
        },
        "id": "iEGKiLx0rdyA",
        "outputId": "a6598d19-ba29-4eac-e192-4ecc9b313e65"
      },
      "execution_count": null,
      "outputs": [
        {
          "output_type": "execute_result",
          "data": {
            "text/plain": [
              "(0.9723, 0.0052)"
            ]
          },
          "metadata": {},
          "execution_count": 25
        }
      ]
    },
    {
      "cell_type": "code",
      "source": [
        "#average ROC_AUC from 10-fold CV\n",
        "my_eval(X_res, Y_res, clf, 10, 'roc_auc')"
      ],
      "metadata": {
        "colab": {
          "base_uri": "https://localhost:8080/"
        },
        "id": "Z1DIIBn-rgrs",
        "outputId": "e3e838b4-92b7-4515-db32-f49aec15bdc5"
      },
      "execution_count": null,
      "outputs": [
        {
          "output_type": "execute_result",
          "data": {
            "text/plain": [
              "(0.9722, 0.0053)"
            ]
          },
          "metadata": {},
          "execution_count": 26
        }
      ]
    },
    {
      "cell_type": "markdown",
      "source": [
        "#Random Forest "
      ],
      "metadata": {
        "id": "tn_0CXTgjRhi"
      }
    },
    {
      "cell_type": "code",
      "source": [
        "# import 'random forest' model\n",
        "from sklearn.ensemble import RandomForestClassifier"
      ],
      "metadata": {
        "id": "s_e9iOw3bJ9Z"
      },
      "execution_count": null,
      "outputs": []
    },
    {
      "cell_type": "code",
      "source": [
        "#Create Classifier\n",
        "clf = RandomForestClassifier(n_estimators=100, random_state=2022)\n",
        "\n",
        "#Train the model using the training sets\n",
        "clf.fit(X_train, y_train)\n",
        "\n",
        "#Predict the response for test dataset\n",
        "y_pred = clf.predict(X_test)"
      ],
      "metadata": {
        "id": "u7c9BSOHmq6C"
      },
      "execution_count": null,
      "outputs": []
    },
    {
      "cell_type": "code",
      "source": [
        "print(classification_report(y_test, y_pred))"
      ],
      "metadata": {
        "colab": {
          "base_uri": "https://localhost:8080/"
        },
        "id": "8GnRiQ7DbMwM",
        "outputId": "2a0d64b5-08c4-4075-f0d5-4d988a94772a"
      },
      "execution_count": null,
      "outputs": [
        {
          "output_type": "stream",
          "name": "stdout",
          "text": [
            "              precision    recall  f1-score   support\n",
            "\n",
            "           0       0.98      0.98      0.98      1269\n",
            "           1       0.63      0.65      0.64        65\n",
            "\n",
            "    accuracy                           0.96      1334\n",
            "   macro avg       0.80      0.81      0.81      1334\n",
            "weighted avg       0.96      0.96      0.96      1334\n",
            "\n"
          ]
        }
      ]
    },
    {
      "cell_type": "code",
      "source": [
        "cnf_matrix = metrics.confusion_matrix(y_test, y_pred)\n",
        "cnf_matrix"
      ],
      "metadata": {
        "colab": {
          "base_uri": "https://localhost:8080/"
        },
        "id": "ZVpMC4DjbQHN",
        "outputId": "45396542-41be-460b-e0c8-11ca06700d86"
      },
      "execution_count": null,
      "outputs": [
        {
          "output_type": "execute_result",
          "data": {
            "text/plain": [
              "array([[1244,   25],\n",
              "       [  23,   42]])"
            ]
          },
          "metadata": {},
          "execution_count": 30
        }
      ]
    },
    {
      "cell_type": "code",
      "source": [
        "import seaborn as sns\n",
        "import matplotlib.pyplot as plt\n",
        "class_names=[0,1] # name  of classes\n",
        "fig, ax = plt.subplots()\n",
        "tick_marks = np.arange(len(class_names))\n",
        "plt.xticks(tick_marks, class_names)\n",
        "plt.yticks(tick_marks, class_names)\n",
        "# create heatmap\n",
        "sns.heatmap(pd.DataFrame(cnf_matrix), annot=True, cmap=\"YlGnBu\" ,fmt='g')\n",
        "ax.xaxis.set_label_position(\"top\")\n",
        "plt.tight_layout()\n",
        "plt.title('Confusion matrix', y=1.1)\n",
        "plt.ylabel('Actual label')\n",
        "plt.xlabel('Predicted label')"
      ],
      "metadata": {
        "colab": {
          "base_uri": "https://localhost:8080/",
          "height": 345
        },
        "id": "3qny6UQEbSqw",
        "outputId": "2b95304b-bebf-4c89-94b2-ba70a2683b98"
      },
      "execution_count": null,
      "outputs": [
        {
          "output_type": "execute_result",
          "data": {
            "text/plain": [
              "Text(0.5, 257.44, 'Predicted label')"
            ]
          },
          "metadata": {},
          "execution_count": 31
        },
        {
          "output_type": "display_data",
          "data": {
            "text/plain": [
              "<Figure size 432x288 with 2 Axes>"
            ],
            "image/png": "[encoded data removed]"
          },
          "metadata": {}
        }
      ]
    },
    {
      "cell_type": "code",
      "source": [
        "y_pred_proba = clf.predict_proba(X_test)[::,1]\n",
        "fpr, tpr, _ = metrics.roc_curve(y_test,  y_pred_proba)\n",
        "auc = metrics.roc_auc_score(y_test, y_pred_proba)\n",
        "plt.plot(fpr,tpr,label= 'AUC = %0.2f' % auc)\n",
        "plt.legend(loc=4)\n",
        "plt.title('Receiver Operating Characteristic (ROC)')\n",
        "plt.ylabel('True Positive Rate')\n",
        "plt.xlabel('False Positive Rate')\n",
        "plt.show()\n",
        "print('AUC Score:', auc)"
      ],
      "metadata": {
        "colab": {
          "base_uri": "https://localhost:8080/",
          "height": 316
        },
        "id": "Y_EXtJB0Ye4w",
        "outputId": "fb4987f3-febe-47cc-8cf7-a586a839e9bc"
      },
      "execution_count": null,
      "outputs": [
        {
          "output_type": "display_data",
          "data": {
            "text/plain": [
              "<Figure size 432x288 with 1 Axes>"
            ],
            "image/png": "[encoded data removed]"
          },
          "metadata": {}
        },
        {
          "output_type": "stream",
          "name": "stdout",
          "text": [
            "AUC Score: 0.9748257258895556\n"
          ]
        }
      ]
    },
    {
      "cell_type": "code",
      "source": [
        "feature_imp = pd.Series(clf.feature_importances_, index=list(X_train_cols.columns)).sort_values(ascending=False)\n",
        "feature_imp"
      ],
      "metadata": {
        "colab": {
          "base_uri": "https://localhost:8080/"
        },
        "id": "f1dNpGyJY9bf",
        "outputId": "c8a37589-9b1e-48d1-d551-446041e1b5c9"
      },
      "execution_count": null,
      "outputs": [
        {
          "output_type": "execute_result",
          "data": {
            "text/plain": [
              "PTS           0.162482\n",
              "FGA           0.133817\n",
              "PLUS_MINUS    0.121511\n",
              "FTM           0.116515\n",
              "FTA           0.109445\n",
              "PIE           0.108360\n",
              "FGM           0.090214\n",
              "POSS          0.059071\n",
              "AST           0.052112\n",
              "TOV           0.046473\n",
              "dtype: float64"
            ]
          },
          "metadata": {},
          "execution_count": 33
        }
      ]
    },
    {
      "cell_type": "code",
      "source": [
        "%matplotlib inline\n",
        "plt.style.use('ggplot')\n",
        "\n",
        "# Creating a bar plot\n",
        "sns.barplot(x=feature_imp, y=feature_imp.index,color='r')\n",
        "\n",
        "# Add labels to your graph\n",
        "plt.xlabel('Feature Importance Score')\n",
        "plt.ylabel('Features')\n",
        "plt.title(\"Visualizing Important Features\")\n",
        "plt.show()"
      ],
      "metadata": {
        "colab": {
          "base_uri": "https://localhost:8080/",
          "height": 299
        },
        "id": "aPJN_6_FZD6S",
        "outputId": "feeea32c-ea13-4bed-d9aa-95a087fc32a0"
      },
      "execution_count": null,
      "outputs": [
        {
          "output_type": "display_data",
          "data": {
            "text/plain": [
              "<Figure size 432x288 with 1 Axes>"
            ],
            "image/png": "[encoded data removed]"
          },
          "metadata": {}
        }
      ]
    }
  ]
}
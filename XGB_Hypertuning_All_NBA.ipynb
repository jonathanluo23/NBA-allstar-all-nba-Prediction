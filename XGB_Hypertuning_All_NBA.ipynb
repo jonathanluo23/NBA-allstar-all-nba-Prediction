{
  "nbformat": 4,
  "nbformat_minor": 0,
  "metadata": {
    "colab": {
      "name": "XGB Hypertuning All-NBA",
      "provenance": [],
      "authorship_tag": "ABX9TyOARp9fUbYAycoA2igiDjyx",
      "include_colab_link": true
    },
    "kernelspec": {
      "name": "python3",
      "display_name": "Python 3"
    },
    "language_info": {
      "name": "python"
    }
  },
  "cells": [
    {
      "cell_type": "markdown",
      "metadata": {
        "id": "view-in-github",
        "colab_type": "text"
      },
      "source": [
        "<a href=\"https://colab.research.google.com/github/jonathanluo23/NBA-allstar-all-nba-Prediction/blob/main/XGB_Hypertuning_All_NBA.ipynb\" target=\"_parent\"><img src=\"https://colab.research.google.com/assets/colab-badge.svg\" alt=\"Open In Colab\"/></a>"
      ]
    },
    {
      "cell_type": "code",
      "execution_count": null,
      "metadata": {
        "colab": {
          "base_uri": "https://localhost:8080/"
        },
        "id": "A1dXMjU7tnww",
        "outputId": "d41693a2-aac8-420f-e7f5-d8b67b48f3a8"
      },
      "outputs": [
        {
          "output_type": "stream",
          "name": "stdout",
          "text": [
            "Drive already mounted at /content/drive/; to attempt to forcibly remount, call drive.mount(\"/content/drive/\", force_remount=True).\n"
          ]
        }
      ],
      "source": [
        "import pandas as pd\n",
        "import numpy as np\n",
        "\n",
        "from google.colab import drive\n",
        "drive.mount('/content/drive/')"
      ]
    },
    {
      "cell_type": "code",
      "source": [
        "data = pd.read_csv('/content/drive/MyDrive/Capstone/features_allnba')\n",
        "data"
      ],
      "metadata": {
        "colab": {
          "base_uri": "https://localhost:8080/",
          "height": 424
        },
        "id": "LpBsOY_Fw29T",
        "outputId": "27011527-6a1b-48da-86a8-726d5d558981"
      },
      "execution_count": null,
      "outputs": [
        {
          "output_type": "execute_result",
          "data": {
            "text/plain": [
              "           PTS       FGM       PIE       FTA         W  PLUS_MINUS       FGA  \\\n",
              "0     0.331965  0.298372  0.549559  0.309540  0.512548    0.588911  0.409601   \n",
              "1     0.331965  0.359273  0.452906  0.358982  0.371560    0.299963  0.364825   \n",
              "2     0.663537  0.707735  0.601646  0.625887  0.623642    0.718178  0.733066   \n",
              "3     0.621795  0.694274  0.755714  0.615881  0.195063    0.867368  0.649253   \n",
              "4     0.762711  0.879514  0.902713  0.635549  0.575695    0.718178  0.859997   \n",
              "...        ...       ...       ...       ...       ...         ...       ...   \n",
              "5622  0.847901  0.874806  0.749689  0.814499  0.635318    0.501347  0.870871   \n",
              "5623  0.586318  0.666163  0.347545  0.421983  0.039722    0.000000  0.757987   \n",
              "5624  0.449480  0.437141  0.452906  0.474918  0.472608    0.449558  0.438665   \n",
              "5625  0.501579  0.523485  0.325719  0.335126  0.680907    0.675272  0.550525   \n",
              "5626  0.000000  0.000000  0.000000  0.000000  0.000000    0.000000  0.343872   \n",
              "\n",
              "          POSS       FTM   USG_PCT  Y  \n",
              "0     0.402178  0.307733  0.477575  0  \n",
              "1     0.474800  0.269963  0.335325  0  \n",
              "2     0.729872  0.600212  0.715859  0  \n",
              "3     0.302438  0.614219  0.488580  0  \n",
              "4     0.781053  0.640186  0.768371  0  \n",
              "...        ...       ...       ... ..  \n",
              "5622  0.859264  0.841262  0.845072  0  \n",
              "5623  0.217864  0.497239  0.428994  0  \n",
              "5624  0.459714  0.428622  0.382823  0  \n",
              "5625  0.660283  0.342032  0.375000  0  \n",
              "5626  0.025356  0.000000  0.743900  0  \n",
              "\n",
              "[5627 rows x 11 columns]"
            ],
            "text/html": [
              "\n",
              "  <div id=\"df-3a64a5fa-d26f-49f2-b8d2-2906f50d7e0a\">\n",
              "    <div class=\"colab-df-container\">\n",
              "      <div>\n",
              "<style scoped>\n",
              "    .dataframe tbody tr th:only-of-type {\n",
              "        vertical-align: middle;\n",
              "    }\n",
              "\n",
              "    .dataframe tbody tr th {\n",
              "        vertical-align: top;\n",
              "    }\n",
              "\n",
              "    .dataframe thead th {\n",
              "        text-align: right;\n",
              "    }\n",
              "</style>\n",
              "<table border=\"1\" class=\"dataframe\">\n",
              "  <thead>\n",
              "    <tr style=\"text-align: right;\">\n",
              "      <th></th>\n",
              "      <th>PTS</th>\n",
              "      <th>FGM</th>\n",
              "      <th>PIE</th>\n",
              "      <th>FTA</th>\n",
              "      <th>W</th>\n",
              "      <th>PLUS_MINUS</th>\n",
              "      <th>FGA</th>\n",
              "      <th>POSS</th>\n",
              "      <th>FTM</th>\n",
              "      <th>USG_PCT</th>\n",
              "      <th>Y</th>\n",
              "    </tr>\n",
              "  </thead>\n",
              "  <tbody>\n",
              "    <tr>\n",
              "      <th>0</th>\n",
              "      <td>0.331965</td>\n",
              "      <td>0.298372</td>\n",
              "      <td>0.549559</td>\n",
              "      <td>0.309540</td>\n",
              "      <td>0.512548</td>\n",
              "      <td>0.588911</td>\n",
              "      <td>0.409601</td>\n",
              "      <td>0.402178</td>\n",
              "      <td>0.307733</td>\n",
              "      <td>0.477575</td>\n",
              "      <td>0</td>\n",
              "    </tr>\n",
              "    <tr>\n",
              "      <th>1</th>\n",
              "      <td>0.331965</td>\n",
              "      <td>0.359273</td>\n",
              "      <td>0.452906</td>\n",
              "      <td>0.358982</td>\n",
              "      <td>0.371560</td>\n",
              "      <td>0.299963</td>\n",
              "      <td>0.364825</td>\n",
              "      <td>0.474800</td>\n",
              "      <td>0.269963</td>\n",
              "      <td>0.335325</td>\n",
              "      <td>0</td>\n",
              "    </tr>\n",
              "    <tr>\n",
              "      <th>2</th>\n",
              "      <td>0.663537</td>\n",
              "      <td>0.707735</td>\n",
              "      <td>0.601646</td>\n",
              "      <td>0.625887</td>\n",
              "      <td>0.623642</td>\n",
              "      <td>0.718178</td>\n",
              "      <td>0.733066</td>\n",
              "      <td>0.729872</td>\n",
              "      <td>0.600212</td>\n",
              "      <td>0.715859</td>\n",
              "      <td>0</td>\n",
              "    </tr>\n",
              "    <tr>\n",
              "      <th>3</th>\n",
              "      <td>0.621795</td>\n",
              "      <td>0.694274</td>\n",
              "      <td>0.755714</td>\n",
              "      <td>0.615881</td>\n",
              "      <td>0.195063</td>\n",
              "      <td>0.867368</td>\n",
              "      <td>0.649253</td>\n",
              "      <td>0.302438</td>\n",
              "      <td>0.614219</td>\n",
              "      <td>0.488580</td>\n",
              "      <td>0</td>\n",
              "    </tr>\n",
              "    <tr>\n",
              "      <th>4</th>\n",
              "      <td>0.762711</td>\n",
              "      <td>0.879514</td>\n",
              "      <td>0.902713</td>\n",
              "      <td>0.635549</td>\n",
              "      <td>0.575695</td>\n",
              "      <td>0.718178</td>\n",
              "      <td>0.859997</td>\n",
              "      <td>0.781053</td>\n",
              "      <td>0.640186</td>\n",
              "      <td>0.768371</td>\n",
              "      <td>0</td>\n",
              "    </tr>\n",
              "    <tr>\n",
              "      <th>...</th>\n",
              "      <td>...</td>\n",
              "      <td>...</td>\n",
              "      <td>...</td>\n",
              "      <td>...</td>\n",
              "      <td>...</td>\n",
              "      <td>...</td>\n",
              "      <td>...</td>\n",
              "      <td>...</td>\n",
              "      <td>...</td>\n",
              "      <td>...</td>\n",
              "      <td>...</td>\n",
              "    </tr>\n",
              "    <tr>\n",
              "      <th>5622</th>\n",
              "      <td>0.847901</td>\n",
              "      <td>0.874806</td>\n",
              "      <td>0.749689</td>\n",
              "      <td>0.814499</td>\n",
              "      <td>0.635318</td>\n",
              "      <td>0.501347</td>\n",
              "      <td>0.870871</td>\n",
              "      <td>0.859264</td>\n",
              "      <td>0.841262</td>\n",
              "      <td>0.845072</td>\n",
              "      <td>0</td>\n",
              "    </tr>\n",
              "    <tr>\n",
              "      <th>5623</th>\n",
              "      <td>0.586318</td>\n",
              "      <td>0.666163</td>\n",
              "      <td>0.347545</td>\n",
              "      <td>0.421983</td>\n",
              "      <td>0.039722</td>\n",
              "      <td>0.000000</td>\n",
              "      <td>0.757987</td>\n",
              "      <td>0.217864</td>\n",
              "      <td>0.497239</td>\n",
              "      <td>0.428994</td>\n",
              "      <td>0</td>\n",
              "    </tr>\n",
              "    <tr>\n",
              "      <th>5624</th>\n",
              "      <td>0.449480</td>\n",
              "      <td>0.437141</td>\n",
              "      <td>0.452906</td>\n",
              "      <td>0.474918</td>\n",
              "      <td>0.472608</td>\n",
              "      <td>0.449558</td>\n",
              "      <td>0.438665</td>\n",
              "      <td>0.459714</td>\n",
              "      <td>0.428622</td>\n",
              "      <td>0.382823</td>\n",
              "      <td>0</td>\n",
              "    </tr>\n",
              "    <tr>\n",
              "      <th>5625</th>\n",
              "      <td>0.501579</td>\n",
              "      <td>0.523485</td>\n",
              "      <td>0.325719</td>\n",
              "      <td>0.335126</td>\n",
              "      <td>0.680907</td>\n",
              "      <td>0.675272</td>\n",
              "      <td>0.550525</td>\n",
              "      <td>0.660283</td>\n",
              "      <td>0.342032</td>\n",
              "      <td>0.375000</td>\n",
              "      <td>0</td>\n",
              "    </tr>\n",
              "    <tr>\n",
              "      <th>5626</th>\n",
              "      <td>0.000000</td>\n",
              "      <td>0.000000</td>\n",
              "      <td>0.000000</td>\n",
              "      <td>0.000000</td>\n",
              "      <td>0.000000</td>\n",
              "      <td>0.000000</td>\n",
              "      <td>0.343872</td>\n",
              "      <td>0.025356</td>\n",
              "      <td>0.000000</td>\n",
              "      <td>0.743900</td>\n",
              "      <td>0</td>\n",
              "    </tr>\n",
              "  </tbody>\n",
              "</table>\n",
              "<p>5627 rows × 11 columns</p>\n",
              "</div>\n",
              "      <button class=\"colab-df-convert\" onclick=\"convertToInteractive('df-3a64a5fa-d26f-49f2-b8d2-2906f50d7e0a')\"\n",
              "              title=\"Convert this dataframe to an interactive table.\"\n",
              "              style=\"display:none;\">\n",
              "        \n",
              "  <svg xmlns=\"http://www.w3.org/2000/svg\" height=\"24px\"viewBox=\"0 0 24 24\"\n",
              "       width=\"24px\">\n",
              "    <path d=\"M0 0h24v24H0V0z\" fill=\"none\"/>\n",
              "    <path d=\"M18.56 5.44l.94 2.06.94-2.06 2.06-.94-2.06-.94-.94-2.06-.94 2.06-2.06.94zm-11 1L8.5 8.5l.94-2.06 2.06-.94-2.06-.94L8.5 2.5l-.94 2.06-2.06.94zm10 10l.94 2.06.94-2.06 2.06-.94-2.06-.94-.94-2.06-.94 2.06-2.06.94z\"/><path d=\"M17.41 7.96l-1.37-1.37c-.4-.4-.92-.59-1.43-.59-.52 0-1.04.2-1.43.59L10.3 9.45l-7.72 7.72c-.78.78-.78 2.05 0 2.83L4 21.41c.39.39.9.59 1.41.59.51 0 1.02-.2 1.41-.59l7.78-7.78 2.81-2.81c.8-.78.8-2.07 0-2.86zM5.41 20L4 18.59l7.72-7.72 1.47 1.35L5.41 20z\"/>\n",
              "  </svg>\n",
              "      </button>\n",
              "      \n",
              "  <style>\n",
              "    .colab-df-container {\n",
              "      display:flex;\n",
              "      flex-wrap:wrap;\n",
              "      gap: 12px;\n",
              "    }\n",
              "\n",
              "    .colab-df-convert {\n",
              "      background-color: #E8F0FE;\n",
              "      border: none;\n",
              "      border-radius: 50%;\n",
              "      cursor: pointer;\n",
              "      display: none;\n",
              "      fill: #1967D2;\n",
              "      height: 32px;\n",
              "      padding: 0 0 0 0;\n",
              "      width: 32px;\n",
              "    }\n",
              "\n",
              "    .colab-df-convert:hover {\n",
              "      background-color: #E2EBFA;\n",
              "      box-shadow: 0px 1px 2px rgba(60, 64, 67, 0.3), 0px 1px 3px 1px rgba(60, 64, 67, 0.15);\n",
              "      fill: #174EA6;\n",
              "    }\n",
              "\n",
              "    [theme=dark] .colab-df-convert {\n",
              "      background-color: #3B4455;\n",
              "      fill: #D2E3FC;\n",
              "    }\n",
              "\n",
              "    [theme=dark] .colab-df-convert:hover {\n",
              "      background-color: #434B5C;\n",
              "      box-shadow: 0px 1px 3px 1px rgba(0, 0, 0, 0.15);\n",
              "      filter: drop-shadow(0px 1px 2px rgba(0, 0, 0, 0.3));\n",
              "      fill: #FFFFFF;\n",
              "    }\n",
              "  </style>\n",
              "\n",
              "      <script>\n",
              "        const buttonEl =\n",
              "          document.querySelector('#df-3a64a5fa-d26f-49f2-b8d2-2906f50d7e0a button.colab-df-convert');\n",
              "        buttonEl.style.display =\n",
              "          google.colab.kernel.accessAllowed ? 'block' : 'none';\n",
              "\n",
              "        async function convertToInteractive(key) {\n",
              "          const element = document.querySelector('#df-3a64a5fa-d26f-49f2-b8d2-2906f50d7e0a');\n",
              "          const dataTable =\n",
              "            await google.colab.kernel.invokeFunction('convertToInteractive',\n",
              "                                                     [key], {});\n",
              "          if (!dataTable) return;\n",
              "\n",
              "          const docLinkHtml = 'Like what you see? Visit the ' +\n",
              "            '<a target=\"_blank\" href=https://colab.research.google.com/notebooks/data_table.ipynb>data table notebook</a>'\n",
              "            + ' to learn more about interactive tables.';\n",
              "          element.innerHTML = '';\n",
              "          dataTable['output_type'] = 'display_data';\n",
              "          await google.colab.output.renderOutput(dataTable, element);\n",
              "          const docLink = document.createElement('div');\n",
              "          docLink.innerHTML = docLinkHtml;\n",
              "          element.appendChild(docLink);\n",
              "        }\n",
              "      </script>\n",
              "    </div>\n",
              "  </div>\n",
              "  "
            ]
          },
          "metadata": {},
          "execution_count": 8
        }
      ]
    },
    {
      "cell_type": "code",
      "source": [
        "X = data.iloc[:,:-1]\n",
        "y = data.iloc[:,-1]"
      ],
      "metadata": {
        "id": "cqge5CtDw93e"
      },
      "execution_count": null,
      "outputs": []
    },
    {
      "cell_type": "markdown",
      "source": [
        "#Hypertuning\n"
      ],
      "metadata": {
        "id": "njFi_Xf8zq3B"
      }
    },
    {
      "cell_type": "code",
      "source": [
        "#Initiate the LR model with random hyperparameters\n",
        "import xgboost as xgb\n",
        "import warnings\n",
        "warnings.filterwarnings('ignore')\n",
        "xgb0 = xgb.XGBClassifier(learning_rate = 0.05, n_estimators=300, max_depth=5)"
      ],
      "metadata": {
        "id": "n048BFIwxBhU"
      },
      "execution_count": null,
      "outputs": []
    },
    {
      "cell_type": "code",
      "source": [
        "xgb0.fit(X,y)"
      ],
      "metadata": {
        "colab": {
          "base_uri": "https://localhost:8080/"
        },
        "id": "4b6FK3kvxBdn",
        "outputId": "043bbc83-d0f4-4c2c-8642-7047bc0bef7d"
      },
      "execution_count": null,
      "outputs": [
        {
          "output_type": "execute_result",
          "data": {
            "text/plain": [
              "XGBClassifier(learning_rate=0.05, max_depth=5, n_estimators=300)"
            ]
          },
          "metadata": {},
          "execution_count": 11
        }
      ]
    },
    {
      "cell_type": "code",
      "source": [
        "xgb0.score(X,y)"
      ],
      "metadata": {
        "colab": {
          "base_uri": "https://localhost:8080/"
        },
        "id": "PMtL3UcPxBWl",
        "outputId": "e86a0c5e-d158-4477-cc5d-8d224ecceb24"
      },
      "execution_count": null,
      "outputs": [
        {
          "output_type": "execute_result",
          "data": {
            "text/plain": [
              "1.0"
            ]
          },
          "metadata": {},
          "execution_count": 12
        }
      ]
    },
    {
      "cell_type": "code",
      "source": [
        "# You will need the following dependencies for applying Cross-validation and evaluating the cross-validated score\n",
        "\n",
        "from sklearn.model_selection import KFold\n",
        "from sklearn.model_selection import cross_val_score\n",
        "\n",
        "# Build the k-fold cross-validator\n",
        "\n",
        "kfold = KFold(n_splits=3, random_state=2019,shuffle=True)"
      ],
      "metadata": {
        "id": "8N4o_VNCxYpk"
      },
      "execution_count": null,
      "outputs": []
    },
    {
      "cell_type": "code",
      "source": [
        "result = cross_val_score(xgb0, X, y, cv=kfold, scoring='accuracy')\n",
        "print('accuracy', result.mean())\n",
        "result = cross_val_score(xgb0, X, y, cv=kfold, scoring='precision')\n",
        "print('precision', result.mean())\n",
        "result = cross_val_score(xgb0, X, y, cv=kfold, scoring='recall')\n",
        "print('recall', result.mean())"
      ],
      "metadata": {
        "colab": {
          "base_uri": "https://localhost:8080/"
        },
        "id": "MYRVEOunxb1R",
        "outputId": "4afb636f-fe24-421b-dd32-231fda52025f"
      },
      "execution_count": null,
      "outputs": [
        {
          "output_type": "stream",
          "name": "stdout",
          "text": [
            "accuracy 0.9863158493248045\n",
            "precision 0.7949882868829171\n",
            "recall 0.7226227795193313\n"
          ]
        }
      ]
    },
    {
      "cell_type": "code",
      "source": [
        "learning_rate = [0.1,0.01,0.05]\n",
        "n_estimators = [200,300,400]\n",
        "max_depth = [3,5,10]\n",
        "gamma =[5,6,7]\n",
        "colsample_bytree=[1.0, 1.5]\n",
        "param_grid = dict(learning_rate=learning_rate,n_estimators=n_estimators,max_depth=max_depth, gamma=gamma, colsample_bytree=colsample_bytree)"
      ],
      "metadata": {
        "id": "ouagD4gox6rj"
      },
      "execution_count": null,
      "outputs": []
    },
    {
      "cell_type": "code",
      "source": [
        "import numpy as np\n",
        "np.random.seed(7)\n",
        "n_estimators1 = np.random.randint(200,300,400)\n",
        "max_depth1 = np.random.randint(3,5,10)\n",
        "gamma1 = np.random.randint(5,6,7)\n",
        "param_grid1 = dict(n_estimators=n_estimators1,max_depth=max_depth1, gamma=gamma1)"
      ],
      "metadata": {
        "id": "t6P5zeB3yMGj"
      },
      "execution_count": null,
      "outputs": []
    },
    {
      "cell_type": "code",
      "source": [
        "from sklearn.model_selection import RandomizedSearchCV"
      ],
      "metadata": {
        "id": "EPm7kUojySm5"
      },
      "execution_count": null,
      "outputs": []
    },
    {
      "cell_type": "code",
      "source": [
        "random = RandomizedSearchCV(estimator=xgb0, param_distributions=param_grid1, cv = 3, n_jobs=-1)\n",
        "\n",
        "import time\n",
        "start_time = time.time()\n",
        "random_result = random.fit(X, y)\n",
        "# Summarize results\n",
        "print(\"Best: %f using %s\" % (random_result.best_score_, random_result.best_params_))\n",
        "print(\"Execution time: \" + str((time.time() - start_time)) + ' ms')"
      ],
      "metadata": {
        "colab": {
          "base_uri": "https://localhost:8080/"
        },
        "id": "tUsvr3wpyQWu",
        "outputId": "c5621da4-ecda-4396-ca0a-dcfba401d834"
      },
      "execution_count": null,
      "outputs": [
        {
          "output_type": "stream",
          "name": "stdout",
          "text": [
            "Best: 0.987916 using {'n_estimators': 219, 'max_depth': 3, 'gamma': 5}\n",
            "Execution time: 15.592237949371338 ms\n"
          ]
        }
      ]
    },
    {
      "cell_type": "markdown",
      "source": [
        "#Evaluation\n"
      ],
      "metadata": {
        "id": "KSW1QYYtzupG"
      }
    },
    {
      "cell_type": "code",
      "source": [
        "# balance the data\n",
        "from imblearn.over_sampling import SMOTE\n",
        "\n",
        "from sklearn import model_selection"
      ],
      "metadata": {
        "id": "KEYCDNqb14o7"
      },
      "execution_count": null,
      "outputs": []
    },
    {
      "cell_type": "code",
      "source": [
        "# resample/balance the data\n",
        "sm = SMOTE(random_state = 2021) \n",
        "X_res, y_res = sm.fit_resample(X, y) "
      ],
      "metadata": {
        "id": "jN9STmER1irX"
      },
      "execution_count": null,
      "outputs": []
    },
    {
      "cell_type": "code",
      "source": [
        "clf = xgb.XGBClassifier(learning_rate = 0.05,n_estimators= 219, max_depth= 3, gamma= 5)"
      ],
      "metadata": {
        "id": "riSyAgiu1inI"
      },
      "execution_count": null,
      "outputs": []
    },
    {
      "cell_type": "code",
      "source": [
        "def my_eval(X, y, classifer = clf, k=10, scoring = 'f1'):\n",
        "  '''\n",
        "  return evaluation results (f1-score or ROC_AUC). \n",
        "  Built in k-fold evaluation.\n",
        "  INPUTS:\n",
        "  ----\n",
        "  - X: features; DataFrame or Numpy ndarray;\n",
        "  - y: target; DataFrame or Numpy ndarray;\n",
        "  - classifier: any sklearn (or its add-on) based classifier\n",
        "  - k: number of folds in cross validation\n",
        "  - scoring: evaluation metric ('f1' default or 'roc_auc')\n",
        "  OUTPUT:\n",
        "  ----\n",
        "  bias/variance score of selected metric.\n",
        "  '''\n",
        "  scores = []\n",
        "  for i in range(50):\n",
        "    #### generate random numbers to shuffle the data for training and test\n",
        "    np.random.seed(2021)\n",
        "    random_int = np.random.randint(0,3000)\n",
        "    #### create cross validation folds\n",
        "    kfold = model_selection.KFold(n_splits=k, random_state=random_int, shuffle=True)\n",
        "    #### record the score\n",
        "    score = model_selection.cross_val_score(clf, X=X, y=y, cv=kfold, scoring=scoring)\n",
        "    scores.append(score)\n",
        "  scores = np.array(scores)\n",
        "  #### we need to calculate the bias (average score) and viariance (std)\n",
        "  bias, variance = round(scores.mean(),4), round(scores.std(),4)\n",
        "  return(bias, variance)"
      ],
      "metadata": {
        "id": "xMOpz_Ol1iBN"
      },
      "execution_count": null,
      "outputs": []
    },
    {
      "cell_type": "code",
      "source": [
        "# getting averaged f1_score from 10-fold CV (default)\n",
        "my_eval(X_res, y_res, clf, 10)"
      ],
      "metadata": {
        "id": "ihzM1oBw2Fdi",
        "colab": {
          "base_uri": "https://localhost:8080/"
        },
        "outputId": "f71e8f9b-e4e6-4807-852b-22229cd81a3b"
      },
      "execution_count": null,
      "outputs": [
        {
          "output_type": "execute_result",
          "data": {
            "text/plain": [
              "(0.9883, 0.003)"
            ]
          },
          "metadata": {},
          "execution_count": 27
        }
      ]
    },
    {
      "cell_type": "code",
      "source": [
        "# getting averaged ROC_AUC from 10-fold CV\n",
        "my_eval(X_res, y_res, clf, 10, 'roc_auc')"
      ],
      "metadata": {
        "id": "FOpnDXSO2Q5_",
        "colab": {
          "base_uri": "https://localhost:8080/"
        },
        "outputId": "c888d4ea-df4b-42a7-9d81-54f40dc43346"
      },
      "execution_count": null,
      "outputs": [
        {
          "output_type": "execute_result",
          "data": {
            "text/plain": [
              "(0.9982, 0.0008)"
            ]
          },
          "metadata": {},
          "execution_count": 28
        }
      ]
    },
    {
      "cell_type": "code",
      "source": [
        "clf = xgb.XGBClassifier(n_estimators= 219, max_depth= 3, gamma= 5)"
      ],
      "metadata": {
        "id": "1msm3VQpKmTx"
      },
      "execution_count": null,
      "outputs": []
    },
    {
      "cell_type": "code",
      "source": [
        "# getting averaged f1_score from 10-fold CV (default)\n",
        "my_eval(X_res, y_res, clf, 10)"
      ],
      "metadata": {
        "colab": {
          "base_uri": "https://localhost:8080/"
        },
        "id": "e9SpsQX6KvNr",
        "outputId": "1e7f71d8-f208-47f3-b6ff-85a4f1ca0bfa"
      },
      "execution_count": null,
      "outputs": [
        {
          "output_type": "execute_result",
          "data": {
            "text/plain": [
              "(0.9881, 0.0031)"
            ]
          },
          "metadata": {},
          "execution_count": 30
        }
      ]
    },
    {
      "cell_type": "code",
      "source": [
        "# getting averaged ROC_AUC from 10-fold CV\n",
        "my_eval(X_res, y_res, clf, 10, 'roc_auc')"
      ],
      "metadata": {
        "colab": {
          "base_uri": "https://localhost:8080/"
        },
        "id": "uAY58eMOKvnv",
        "outputId": "a115e931-8580-4940-baea-786e0d4bcba4"
      },
      "execution_count": null,
      "outputs": [
        {
          "output_type": "execute_result",
          "data": {
            "text/plain": [
              "(0.9982, 0.0008)"
            ]
          },
          "metadata": {},
          "execution_count": 31
        }
      ]
    }
  ]
}
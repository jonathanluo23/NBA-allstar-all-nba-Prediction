{
  "nbformat": 4,
  "nbformat_minor": 0,
  "metadata": {
    "colab": {
      "name": "Modeling All NBA.ipynb",
      "provenance": [],
      "toc_visible": true,
      "collapsed_sections": [
        "Nvoym7bbqFNW"
      ],
      "authorship_tag": "ABX9TyO/QG8x2o8wBBtpWchoJYPV",
      "include_colab_link": true
    },
    "kernelspec": {
      "name": "python3",
      "display_name": "Python 3"
    },
    "language_info": {
      "name": "python"
    }
  },
  "cells": [
    {
      "cell_type": "markdown",
      "metadata": {
        "id": "view-in-github",
        "colab_type": "text"
      },
      "source": [
        "<a href=\"https://colab.research.google.com/github/jonathanluo23/NBA-allstar-all-nba-Prediction/blob/main/Modeling_All_NBA.ipynb\" target=\"_parent\"><img src=\"https://colab.research.google.com/assets/colab-badge.svg\" alt=\"Open In Colab\"/></a>"
      ]
    },
    {
      "cell_type": "markdown",
      "source": [
        "#Train Test Split"
      ],
      "metadata": {
        "id": "OLUhX6k_rpRc"
      }
    },
    {
      "cell_type": "code",
      "source": [
        "import pandas as pd\n",
        "import numpy as np\n",
        "\n",
        "from google.colab import drive\n",
        "drive.mount('/content/drive/')"
      ],
      "metadata": {
        "colab": {
          "base_uri": "https://localhost:8080/"
        },
        "id": "Os0G5d4vmzDo",
        "outputId": "0508241a-bf8d-43f1-e301-3cb306e38d3b"
      },
      "execution_count": null,
      "outputs": [
        {
          "output_type": "stream",
          "name": "stdout",
          "text": [
            "Mounted at /content/drive/\n"
          ]
        }
      ]
    },
    {
      "cell_type": "code",
      "source": [
        "data = pd.read_csv('/content/drive/MyDrive/Capstone/features_allnba')\n",
        "data"
      ],
      "metadata": {
        "colab": {
          "base_uri": "https://localhost:8080/",
          "height": 424
        },
        "id": "Y9GxkP2Gm5k5",
        "outputId": "b5919932-037c-4373-ba50-8bcd3e38361f"
      },
      "execution_count": null,
      "outputs": [
        {
          "output_type": "execute_result",
          "data": {
            "text/plain": [
              "             W       PIE      POSS       FGM       FGA       FTM       FTA  \\\n",
              "0     0.512548  0.549559  0.402178  0.298372  0.409601  0.307733  0.309540   \n",
              "1     0.371560  0.452906  0.474800  0.359273  0.364825  0.269963  0.358982   \n",
              "2     0.623642  0.601646  0.729872  0.707735  0.733066  0.600212  0.625887   \n",
              "3     0.195063  0.755714  0.302438  0.694274  0.649253  0.614219  0.615881   \n",
              "4     0.575695  0.902713  0.781053  0.879514  0.859997  0.640186  0.635549   \n",
              "...        ...       ...       ...       ...       ...       ...       ...   \n",
              "5622  0.635318  0.749689  0.859264  0.874806  0.870871  0.841262  0.814499   \n",
              "5623  0.039722  0.347545  0.217864  0.666163  0.757987  0.497239  0.421983   \n",
              "5624  0.472608  0.452906  0.459714  0.437141  0.438665  0.428622  0.474918   \n",
              "5625  0.680907  0.325719  0.660283  0.523485  0.550525  0.342032  0.335126   \n",
              "5626  0.000000  0.000000  0.025356  0.000000  0.343872  0.000000  0.000000   \n",
              "\n",
              "           TOV       PTS  PLUS_MINUS  Y  \n",
              "0     0.369804  0.331965    0.588911  0  \n",
              "1     0.469986  0.331965    0.299963  0  \n",
              "2     0.660123  0.663537    0.718178  0  \n",
              "3     0.598569  0.621795    0.867368  0  \n",
              "4     0.469986  0.762711    0.718178  0  \n",
              "...        ...       ...         ... ..  \n",
              "5622  0.788212  0.847901    0.501347  0  \n",
              "5623  0.774409  0.586318    0.000000  0  \n",
              "5624  0.330948  0.449480    0.449558  0  \n",
              "5625  0.369804  0.501579    0.675272  0  \n",
              "5626  0.000000  0.000000    0.000000  0  \n",
              "\n",
              "[5627 rows x 11 columns]"
            ],
            "text/html": [
              "\n",
              "  <div id=\"df-96f4f37f-a658-4903-acf8-7d07fcac95d2\">\n",
              "    <div class=\"colab-df-container\">\n",
              "      <div>\n",
              "<style scoped>\n",
              "    .dataframe tbody tr th:only-of-type {\n",
              "        vertical-align: middle;\n",
              "    }\n",
              "\n",
              "    .dataframe tbody tr th {\n",
              "        vertical-align: top;\n",
              "    }\n",
              "\n",
              "    .dataframe thead th {\n",
              "        text-align: right;\n",
              "    }\n",
              "</style>\n",
              "<table border=\"1\" class=\"dataframe\">\n",
              "  <thead>\n",
              "    <tr style=\"text-align: right;\">\n",
              "      <th></th>\n",
              "      <th>W</th>\n",
              "      <th>PIE</th>\n",
              "      <th>POSS</th>\n",
              "      <th>FGM</th>\n",
              "      <th>FGA</th>\n",
              "      <th>FTM</th>\n",
              "      <th>FTA</th>\n",
              "      <th>TOV</th>\n",
              "      <th>PTS</th>\n",
              "      <th>PLUS_MINUS</th>\n",
              "      <th>Y</th>\n",
              "    </tr>\n",
              "  </thead>\n",
              "  <tbody>\n",
              "    <tr>\n",
              "      <th>0</th>\n",
              "      <td>0.512548</td>\n",
              "      <td>0.549559</td>\n",
              "      <td>0.402178</td>\n",
              "      <td>0.298372</td>\n",
              "      <td>0.409601</td>\n",
              "      <td>0.307733</td>\n",
              "      <td>0.309540</td>\n",
              "      <td>0.369804</td>\n",
              "      <td>0.331965</td>\n",
              "      <td>0.588911</td>\n",
              "      <td>0</td>\n",
              "    </tr>\n",
              "    <tr>\n",
              "      <th>1</th>\n",
              "      <td>0.371560</td>\n",
              "      <td>0.452906</td>\n",
              "      <td>0.474800</td>\n",
              "      <td>0.359273</td>\n",
              "      <td>0.364825</td>\n",
              "      <td>0.269963</td>\n",
              "      <td>0.358982</td>\n",
              "      <td>0.469986</td>\n",
              "      <td>0.331965</td>\n",
              "      <td>0.299963</td>\n",
              "      <td>0</td>\n",
              "    </tr>\n",
              "    <tr>\n",
              "      <th>2</th>\n",
              "      <td>0.623642</td>\n",
              "      <td>0.601646</td>\n",
              "      <td>0.729872</td>\n",
              "      <td>0.707735</td>\n",
              "      <td>0.733066</td>\n",
              "      <td>0.600212</td>\n",
              "      <td>0.625887</td>\n",
              "      <td>0.660123</td>\n",
              "      <td>0.663537</td>\n",
              "      <td>0.718178</td>\n",
              "      <td>0</td>\n",
              "    </tr>\n",
              "    <tr>\n",
              "      <th>3</th>\n",
              "      <td>0.195063</td>\n",
              "      <td>0.755714</td>\n",
              "      <td>0.302438</td>\n",
              "      <td>0.694274</td>\n",
              "      <td>0.649253</td>\n",
              "      <td>0.614219</td>\n",
              "      <td>0.615881</td>\n",
              "      <td>0.598569</td>\n",
              "      <td>0.621795</td>\n",
              "      <td>0.867368</td>\n",
              "      <td>0</td>\n",
              "    </tr>\n",
              "    <tr>\n",
              "      <th>4</th>\n",
              "      <td>0.575695</td>\n",
              "      <td>0.902713</td>\n",
              "      <td>0.781053</td>\n",
              "      <td>0.879514</td>\n",
              "      <td>0.859997</td>\n",
              "      <td>0.640186</td>\n",
              "      <td>0.635549</td>\n",
              "      <td>0.469986</td>\n",
              "      <td>0.762711</td>\n",
              "      <td>0.718178</td>\n",
              "      <td>0</td>\n",
              "    </tr>\n",
              "    <tr>\n",
              "      <th>...</th>\n",
              "      <td>...</td>\n",
              "      <td>...</td>\n",
              "      <td>...</td>\n",
              "      <td>...</td>\n",
              "      <td>...</td>\n",
              "      <td>...</td>\n",
              "      <td>...</td>\n",
              "      <td>...</td>\n",
              "      <td>...</td>\n",
              "      <td>...</td>\n",
              "      <td>...</td>\n",
              "    </tr>\n",
              "    <tr>\n",
              "      <th>5622</th>\n",
              "      <td>0.635318</td>\n",
              "      <td>0.749689</td>\n",
              "      <td>0.859264</td>\n",
              "      <td>0.874806</td>\n",
              "      <td>0.870871</td>\n",
              "      <td>0.841262</td>\n",
              "      <td>0.814499</td>\n",
              "      <td>0.788212</td>\n",
              "      <td>0.847901</td>\n",
              "      <td>0.501347</td>\n",
              "      <td>0</td>\n",
              "    </tr>\n",
              "    <tr>\n",
              "      <th>5623</th>\n",
              "      <td>0.039722</td>\n",
              "      <td>0.347545</td>\n",
              "      <td>0.217864</td>\n",
              "      <td>0.666163</td>\n",
              "      <td>0.757987</td>\n",
              "      <td>0.497239</td>\n",
              "      <td>0.421983</td>\n",
              "      <td>0.774409</td>\n",
              "      <td>0.586318</td>\n",
              "      <td>0.000000</td>\n",
              "      <td>0</td>\n",
              "    </tr>\n",
              "    <tr>\n",
              "      <th>5624</th>\n",
              "      <td>0.472608</td>\n",
              "      <td>0.452906</td>\n",
              "      <td>0.459714</td>\n",
              "      <td>0.437141</td>\n",
              "      <td>0.438665</td>\n",
              "      <td>0.428622</td>\n",
              "      <td>0.474918</td>\n",
              "      <td>0.330948</td>\n",
              "      <td>0.449480</td>\n",
              "      <td>0.449558</td>\n",
              "      <td>0</td>\n",
              "    </tr>\n",
              "    <tr>\n",
              "      <th>5625</th>\n",
              "      <td>0.680907</td>\n",
              "      <td>0.325719</td>\n",
              "      <td>0.660283</td>\n",
              "      <td>0.523485</td>\n",
              "      <td>0.550525</td>\n",
              "      <td>0.342032</td>\n",
              "      <td>0.335126</td>\n",
              "      <td>0.369804</td>\n",
              "      <td>0.501579</td>\n",
              "      <td>0.675272</td>\n",
              "      <td>0</td>\n",
              "    </tr>\n",
              "    <tr>\n",
              "      <th>5626</th>\n",
              "      <td>0.000000</td>\n",
              "      <td>0.000000</td>\n",
              "      <td>0.025356</td>\n",
              "      <td>0.000000</td>\n",
              "      <td>0.343872</td>\n",
              "      <td>0.000000</td>\n",
              "      <td>0.000000</td>\n",
              "      <td>0.000000</td>\n",
              "      <td>0.000000</td>\n",
              "      <td>0.000000</td>\n",
              "      <td>0</td>\n",
              "    </tr>\n",
              "  </tbody>\n",
              "</table>\n",
              "<p>5627 rows × 11 columns</p>\n",
              "</div>\n",
              "      <button class=\"colab-df-convert\" onclick=\"convertToInteractive('df-96f4f37f-a658-4903-acf8-7d07fcac95d2')\"\n",
              "              title=\"Convert this dataframe to an interactive table.\"\n",
              "              style=\"display:none;\">\n",
              "        \n",
              "  <svg xmlns=\"http://www.w3.org/2000/svg\" height=\"24px\"viewBox=\"0 0 24 24\"\n",
              "       width=\"24px\">\n",
              "    <path d=\"M0 0h24v24H0V0z\" fill=\"none\"/>\n",
              "    <path d=\"M18.56 5.44l.94 2.06.94-2.06 2.06-.94-2.06-.94-.94-2.06-.94 2.06-2.06.94zm-11 1L8.5 8.5l.94-2.06 2.06-.94-2.06-.94L8.5 2.5l-.94 2.06-2.06.94zm10 10l.94 2.06.94-2.06 2.06-.94-2.06-.94-.94-2.06-.94 2.06-2.06.94z\"/><path d=\"M17.41 7.96l-1.37-1.37c-.4-.4-.92-.59-1.43-.59-.52 0-1.04.2-1.43.59L10.3 9.45l-7.72 7.72c-.78.78-.78 2.05 0 2.83L4 21.41c.39.39.9.59 1.41.59.51 0 1.02-.2 1.41-.59l7.78-7.78 2.81-2.81c.8-.78.8-2.07 0-2.86zM5.41 20L4 18.59l7.72-7.72 1.47 1.35L5.41 20z\"/>\n",
              "  </svg>\n",
              "      </button>\n",
              "      \n",
              "  <style>\n",
              "    .colab-df-container {\n",
              "      display:flex;\n",
              "      flex-wrap:wrap;\n",
              "      gap: 12px;\n",
              "    }\n",
              "\n",
              "    .colab-df-convert {\n",
              "      background-color: #E8F0FE;\n",
              "      border: none;\n",
              "      border-radius: 50%;\n",
              "      cursor: pointer;\n",
              "      display: none;\n",
              "      fill: #1967D2;\n",
              "      height: 32px;\n",
              "      padding: 0 0 0 0;\n",
              "      width: 32px;\n",
              "    }\n",
              "\n",
              "    .colab-df-convert:hover {\n",
              "      background-color: #E2EBFA;\n",
              "      box-shadow: 0px 1px 2px rgba(60, 64, 67, 0.3), 0px 1px 3px 1px rgba(60, 64, 67, 0.15);\n",
              "      fill: #174EA6;\n",
              "    }\n",
              "\n",
              "    [theme=dark] .colab-df-convert {\n",
              "      background-color: #3B4455;\n",
              "      fill: #D2E3FC;\n",
              "    }\n",
              "\n",
              "    [theme=dark] .colab-df-convert:hover {\n",
              "      background-color: #434B5C;\n",
              "      box-shadow: 0px 1px 3px 1px rgba(0, 0, 0, 0.15);\n",
              "      filter: drop-shadow(0px 1px 2px rgba(0, 0, 0, 0.3));\n",
              "      fill: #FFFFFF;\n",
              "    }\n",
              "  </style>\n",
              "\n",
              "      <script>\n",
              "        const buttonEl =\n",
              "          document.querySelector('#df-96f4f37f-a658-4903-acf8-7d07fcac95d2 button.colab-df-convert');\n",
              "        buttonEl.style.display =\n",
              "          google.colab.kernel.accessAllowed ? 'block' : 'none';\n",
              "\n",
              "        async function convertToInteractive(key) {\n",
              "          const element = document.querySelector('#df-96f4f37f-a658-4903-acf8-7d07fcac95d2');\n",
              "          const dataTable =\n",
              "            await google.colab.kernel.invokeFunction('convertToInteractive',\n",
              "                                                     [key], {});\n",
              "          if (!dataTable) return;\n",
              "\n",
              "          const docLinkHtml = 'Like what you see? Visit the ' +\n",
              "            '<a target=\"_blank\" href=https://colab.research.google.com/notebooks/data_table.ipynb>data table notebook</a>'\n",
              "            + ' to learn more about interactive tables.';\n",
              "          element.innerHTML = '';\n",
              "          dataTable['output_type'] = 'display_data';\n",
              "          await google.colab.output.renderOutput(dataTable, element);\n",
              "          const docLink = document.createElement('div');\n",
              "          docLink.innerHTML = docLinkHtml;\n",
              "          element.appendChild(docLink);\n",
              "        }\n",
              "      </script>\n",
              "    </div>\n",
              "  </div>\n",
              "  "
            ]
          },
          "metadata": {},
          "execution_count": 2
        }
      ]
    },
    {
      "cell_type": "code",
      "source": [
        "X_cols = data.iloc[:,:-1]\n",
        "y_cols = data.iloc[:,-1]"
      ],
      "metadata": {
        "id": "9smuQxr3q9Si"
      },
      "execution_count": null,
      "outputs": []
    },
    {
      "cell_type": "code",
      "source": [
        "X_cols"
      ],
      "metadata": {
        "colab": {
          "base_uri": "https://localhost:8080/",
          "height": 424
        },
        "id": "JVrkJL7XrE0z",
        "outputId": "0700d9ae-6faa-4271-e07c-1d0678ef664e"
      },
      "execution_count": null,
      "outputs": [
        {
          "output_type": "execute_result",
          "data": {
            "text/plain": [
              "             W       PIE      POSS       FGM       FGA       FTM       FTA  \\\n",
              "0     0.512548  0.549559  0.402178  0.298372  0.409601  0.307733  0.309540   \n",
              "1     0.371560  0.452906  0.474800  0.359273  0.364825  0.269963  0.358982   \n",
              "2     0.623642  0.601646  0.729872  0.707735  0.733066  0.600212  0.625887   \n",
              "3     0.195063  0.755714  0.302438  0.694274  0.649253  0.614219  0.615881   \n",
              "4     0.575695  0.902713  0.781053  0.879514  0.859997  0.640186  0.635549   \n",
              "...        ...       ...       ...       ...       ...       ...       ...   \n",
              "5622  0.635318  0.749689  0.859264  0.874806  0.870871  0.841262  0.814499   \n",
              "5623  0.039722  0.347545  0.217864  0.666163  0.757987  0.497239  0.421983   \n",
              "5624  0.472608  0.452906  0.459714  0.437141  0.438665  0.428622  0.474918   \n",
              "5625  0.680907  0.325719  0.660283  0.523485  0.550525  0.342032  0.335126   \n",
              "5626  0.000000  0.000000  0.025356  0.000000  0.343872  0.000000  0.000000   \n",
              "\n",
              "           TOV       PTS  PLUS_MINUS  \n",
              "0     0.369804  0.331965    0.588911  \n",
              "1     0.469986  0.331965    0.299963  \n",
              "2     0.660123  0.663537    0.718178  \n",
              "3     0.598569  0.621795    0.867368  \n",
              "4     0.469986  0.762711    0.718178  \n",
              "...        ...       ...         ...  \n",
              "5622  0.788212  0.847901    0.501347  \n",
              "5623  0.774409  0.586318    0.000000  \n",
              "5624  0.330948  0.449480    0.449558  \n",
              "5625  0.369804  0.501579    0.675272  \n",
              "5626  0.000000  0.000000    0.000000  \n",
              "\n",
              "[5627 rows x 10 columns]"
            ],
            "text/html": [
              "\n",
              "  <div id=\"df-07d6a4f8-d7b1-4987-a5cd-8e205e16cfc4\">\n",
              "    <div class=\"colab-df-container\">\n",
              "      <div>\n",
              "<style scoped>\n",
              "    .dataframe tbody tr th:only-of-type {\n",
              "        vertical-align: middle;\n",
              "    }\n",
              "\n",
              "    .dataframe tbody tr th {\n",
              "        vertical-align: top;\n",
              "    }\n",
              "\n",
              "    .dataframe thead th {\n",
              "        text-align: right;\n",
              "    }\n",
              "</style>\n",
              "<table border=\"1\" class=\"dataframe\">\n",
              "  <thead>\n",
              "    <tr style=\"text-align: right;\">\n",
              "      <th></th>\n",
              "      <th>W</th>\n",
              "      <th>PIE</th>\n",
              "      <th>POSS</th>\n",
              "      <th>FGM</th>\n",
              "      <th>FGA</th>\n",
              "      <th>FTM</th>\n",
              "      <th>FTA</th>\n",
              "      <th>TOV</th>\n",
              "      <th>PTS</th>\n",
              "      <th>PLUS_MINUS</th>\n",
              "    </tr>\n",
              "  </thead>\n",
              "  <tbody>\n",
              "    <tr>\n",
              "      <th>0</th>\n",
              "      <td>0.512548</td>\n",
              "      <td>0.549559</td>\n",
              "      <td>0.402178</td>\n",
              "      <td>0.298372</td>\n",
              "      <td>0.409601</td>\n",
              "      <td>0.307733</td>\n",
              "      <td>0.309540</td>\n",
              "      <td>0.369804</td>\n",
              "      <td>0.331965</td>\n",
              "      <td>0.588911</td>\n",
              "    </tr>\n",
              "    <tr>\n",
              "      <th>1</th>\n",
              "      <td>0.371560</td>\n",
              "      <td>0.452906</td>\n",
              "      <td>0.474800</td>\n",
              "      <td>0.359273</td>\n",
              "      <td>0.364825</td>\n",
              "      <td>0.269963</td>\n",
              "      <td>0.358982</td>\n",
              "      <td>0.469986</td>\n",
              "      <td>0.331965</td>\n",
              "      <td>0.299963</td>\n",
              "    </tr>\n",
              "    <tr>\n",
              "      <th>2</th>\n",
              "      <td>0.623642</td>\n",
              "      <td>0.601646</td>\n",
              "      <td>0.729872</td>\n",
              "      <td>0.707735</td>\n",
              "      <td>0.733066</td>\n",
              "      <td>0.600212</td>\n",
              "      <td>0.625887</td>\n",
              "      <td>0.660123</td>\n",
              "      <td>0.663537</td>\n",
              "      <td>0.718178</td>\n",
              "    </tr>\n",
              "    <tr>\n",
              "      <th>3</th>\n",
              "      <td>0.195063</td>\n",
              "      <td>0.755714</td>\n",
              "      <td>0.302438</td>\n",
              "      <td>0.694274</td>\n",
              "      <td>0.649253</td>\n",
              "      <td>0.614219</td>\n",
              "      <td>0.615881</td>\n",
              "      <td>0.598569</td>\n",
              "      <td>0.621795</td>\n",
              "      <td>0.867368</td>\n",
              "    </tr>\n",
              "    <tr>\n",
              "      <th>4</th>\n",
              "      <td>0.575695</td>\n",
              "      <td>0.902713</td>\n",
              "      <td>0.781053</td>\n",
              "      <td>0.879514</td>\n",
              "      <td>0.859997</td>\n",
              "      <td>0.640186</td>\n",
              "      <td>0.635549</td>\n",
              "      <td>0.469986</td>\n",
              "      <td>0.762711</td>\n",
              "      <td>0.718178</td>\n",
              "    </tr>\n",
              "    <tr>\n",
              "      <th>...</th>\n",
              "      <td>...</td>\n",
              "      <td>...</td>\n",
              "      <td>...</td>\n",
              "      <td>...</td>\n",
              "      <td>...</td>\n",
              "      <td>...</td>\n",
              "      <td>...</td>\n",
              "      <td>...</td>\n",
              "      <td>...</td>\n",
              "      <td>...</td>\n",
              "    </tr>\n",
              "    <tr>\n",
              "      <th>5622</th>\n",
              "      <td>0.635318</td>\n",
              "      <td>0.749689</td>\n",
              "      <td>0.859264</td>\n",
              "      <td>0.874806</td>\n",
              "      <td>0.870871</td>\n",
              "      <td>0.841262</td>\n",
              "      <td>0.814499</td>\n",
              "      <td>0.788212</td>\n",
              "      <td>0.847901</td>\n",
              "      <td>0.501347</td>\n",
              "    </tr>\n",
              "    <tr>\n",
              "      <th>5623</th>\n",
              "      <td>0.039722</td>\n",
              "      <td>0.347545</td>\n",
              "      <td>0.217864</td>\n",
              "      <td>0.666163</td>\n",
              "      <td>0.757987</td>\n",
              "      <td>0.497239</td>\n",
              "      <td>0.421983</td>\n",
              "      <td>0.774409</td>\n",
              "      <td>0.586318</td>\n",
              "      <td>0.000000</td>\n",
              "    </tr>\n",
              "    <tr>\n",
              "      <th>5624</th>\n",
              "      <td>0.472608</td>\n",
              "      <td>0.452906</td>\n",
              "      <td>0.459714</td>\n",
              "      <td>0.437141</td>\n",
              "      <td>0.438665</td>\n",
              "      <td>0.428622</td>\n",
              "      <td>0.474918</td>\n",
              "      <td>0.330948</td>\n",
              "      <td>0.449480</td>\n",
              "      <td>0.449558</td>\n",
              "    </tr>\n",
              "    <tr>\n",
              "      <th>5625</th>\n",
              "      <td>0.680907</td>\n",
              "      <td>0.325719</td>\n",
              "      <td>0.660283</td>\n",
              "      <td>0.523485</td>\n",
              "      <td>0.550525</td>\n",
              "      <td>0.342032</td>\n",
              "      <td>0.335126</td>\n",
              "      <td>0.369804</td>\n",
              "      <td>0.501579</td>\n",
              "      <td>0.675272</td>\n",
              "    </tr>\n",
              "    <tr>\n",
              "      <th>5626</th>\n",
              "      <td>0.000000</td>\n",
              "      <td>0.000000</td>\n",
              "      <td>0.025356</td>\n",
              "      <td>0.000000</td>\n",
              "      <td>0.343872</td>\n",
              "      <td>0.000000</td>\n",
              "      <td>0.000000</td>\n",
              "      <td>0.000000</td>\n",
              "      <td>0.000000</td>\n",
              "      <td>0.000000</td>\n",
              "    </tr>\n",
              "  </tbody>\n",
              "</table>\n",
              "<p>5627 rows × 10 columns</p>\n",
              "</div>\n",
              "      <button class=\"colab-df-convert\" onclick=\"convertToInteractive('df-07d6a4f8-d7b1-4987-a5cd-8e205e16cfc4')\"\n",
              "              title=\"Convert this dataframe to an interactive table.\"\n",
              "              style=\"display:none;\">\n",
              "        \n",
              "  <svg xmlns=\"http://www.w3.org/2000/svg\" height=\"24px\"viewBox=\"0 0 24 24\"\n",
              "       width=\"24px\">\n",
              "    <path d=\"M0 0h24v24H0V0z\" fill=\"none\"/>\n",
              "    <path d=\"M18.56 5.44l.94 2.06.94-2.06 2.06-.94-2.06-.94-.94-2.06-.94 2.06-2.06.94zm-11 1L8.5 8.5l.94-2.06 2.06-.94-2.06-.94L8.5 2.5l-.94 2.06-2.06.94zm10 10l.94 2.06.94-2.06 2.06-.94-2.06-.94-.94-2.06-.94 2.06-2.06.94z\"/><path d=\"M17.41 7.96l-1.37-1.37c-.4-.4-.92-.59-1.43-.59-.52 0-1.04.2-1.43.59L10.3 9.45l-7.72 7.72c-.78.78-.78 2.05 0 2.83L4 21.41c.39.39.9.59 1.41.59.51 0 1.02-.2 1.41-.59l7.78-7.78 2.81-2.81c.8-.78.8-2.07 0-2.86zM5.41 20L4 18.59l7.72-7.72 1.47 1.35L5.41 20z\"/>\n",
              "  </svg>\n",
              "      </button>\n",
              "      \n",
              "  <style>\n",
              "    .colab-df-container {\n",
              "      display:flex;\n",
              "      flex-wrap:wrap;\n",
              "      gap: 12px;\n",
              "    }\n",
              "\n",
              "    .colab-df-convert {\n",
              "      background-color: #E8F0FE;\n",
              "      border: none;\n",
              "      border-radius: 50%;\n",
              "      cursor: pointer;\n",
              "      display: none;\n",
              "      fill: #1967D2;\n",
              "      height: 32px;\n",
              "      padding: 0 0 0 0;\n",
              "      width: 32px;\n",
              "    }\n",
              "\n",
              "    .colab-df-convert:hover {\n",
              "      background-color: #E2EBFA;\n",
              "      box-shadow: 0px 1px 2px rgba(60, 64, 67, 0.3), 0px 1px 3px 1px rgba(60, 64, 67, 0.15);\n",
              "      fill: #174EA6;\n",
              "    }\n",
              "\n",
              "    [theme=dark] .colab-df-convert {\n",
              "      background-color: #3B4455;\n",
              "      fill: #D2E3FC;\n",
              "    }\n",
              "\n",
              "    [theme=dark] .colab-df-convert:hover {\n",
              "      background-color: #434B5C;\n",
              "      box-shadow: 0px 1px 3px 1px rgba(0, 0, 0, 0.15);\n",
              "      filter: drop-shadow(0px 1px 2px rgba(0, 0, 0, 0.3));\n",
              "      fill: #FFFFFF;\n",
              "    }\n",
              "  </style>\n",
              "\n",
              "      <script>\n",
              "        const buttonEl =\n",
              "          document.querySelector('#df-07d6a4f8-d7b1-4987-a5cd-8e205e16cfc4 button.colab-df-convert');\n",
              "        buttonEl.style.display =\n",
              "          google.colab.kernel.accessAllowed ? 'block' : 'none';\n",
              "\n",
              "        async function convertToInteractive(key) {\n",
              "          const element = document.querySelector('#df-07d6a4f8-d7b1-4987-a5cd-8e205e16cfc4');\n",
              "          const dataTable =\n",
              "            await google.colab.kernel.invokeFunction('convertToInteractive',\n",
              "                                                     [key], {});\n",
              "          if (!dataTable) return;\n",
              "\n",
              "          const docLinkHtml = 'Like what you see? Visit the ' +\n",
              "            '<a target=\"_blank\" href=https://colab.research.google.com/notebooks/data_table.ipynb>data table notebook</a>'\n",
              "            + ' to learn more about interactive tables.';\n",
              "          element.innerHTML = '';\n",
              "          dataTable['output_type'] = 'display_data';\n",
              "          await google.colab.output.renderOutput(dataTable, element);\n",
              "          const docLink = document.createElement('div');\n",
              "          docLink.innerHTML = docLinkHtml;\n",
              "          element.appendChild(docLink);\n",
              "        }\n",
              "      </script>\n",
              "    </div>\n",
              "  </div>\n",
              "  "
            ]
          },
          "metadata": {},
          "execution_count": 4
        }
      ]
    },
    {
      "cell_type": "code",
      "source": [
        "from sklearn.model_selection import train_test_split"
      ],
      "metadata": {
        "id": "wias1pAga_u-"
      },
      "execution_count": null,
      "outputs": []
    },
    {
      "cell_type": "code",
      "source": [
        "X_train_cols,X_test_cols,y_train_cols,y_test_cols = train_test_split(X_cols, y_cols,test_size=.25,random_state=2021)"
      ],
      "metadata": {
        "id": "hGybX1GhrGaA"
      },
      "execution_count": null,
      "outputs": []
    },
    {
      "cell_type": "code",
      "source": [
        "X = data.iloc[:,:-1].values\n",
        "y = data.iloc[:,-1].values"
      ],
      "metadata": {
        "id": "PGEHNK3xnG3R"
      },
      "execution_count": null,
      "outputs": []
    },
    {
      "cell_type": "code",
      "source": [
        "y"
      ],
      "metadata": {
        "colab": {
          "base_uri": "https://localhost:8080/"
        },
        "id": "WcwsxHKIo6Qc",
        "outputId": "14ebac8d-37cb-4b37-9e69-fd2c14dbd21e"
      },
      "execution_count": null,
      "outputs": [
        {
          "output_type": "execute_result",
          "data": {
            "text/plain": [
              "array([0, 0, 0, ..., 0, 0, 0])"
            ]
          },
          "metadata": {},
          "execution_count": 8
        }
      ]
    },
    {
      "cell_type": "code",
      "source": [
        "X"
      ],
      "metadata": {
        "colab": {
          "base_uri": "https://localhost:8080/"
        },
        "id": "9QV68jUho00O",
        "outputId": "23a0c393-6d43-463b-8d7d-e7c2977d2a3b"
      },
      "execution_count": null,
      "outputs": [
        {
          "output_type": "execute_result",
          "data": {
            "text/plain": [
              "array([[0.51254781, 0.54955888, 0.40217812, ..., 0.36980419, 0.33196459,\n",
              "        0.58891127],\n",
              "       [0.37156035, 0.45290566, 0.47480017, ..., 0.46998606, 0.33196459,\n",
              "        0.29996302],\n",
              "       [0.62364221, 0.60164558, 0.72987198, ..., 0.66012339, 0.66353657,\n",
              "        0.7181779 ],\n",
              "       ...,\n",
              "       [0.47260805, 0.45290566, 0.45971447, ..., 0.33094812, 0.44948006,\n",
              "        0.44955818],\n",
              "       [0.68090663, 0.32571943, 0.66028338, ..., 0.36980419, 0.50157885,\n",
              "        0.67527243],\n",
              "       [0.        , 0.        , 0.02535584, ..., 0.        , 0.        ,\n",
              "        0.        ]])"
            ]
          },
          "metadata": {},
          "execution_count": 9
        }
      ]
    },
    {
      "cell_type": "code",
      "source": [
        "X_train,X_test,y_train,y_test = train_test_split(X, y,test_size=.25,random_state=2021)"
      ],
      "metadata": {
        "id": "eXpIz47Do0DB"
      },
      "execution_count": null,
      "outputs": []
    },
    {
      "cell_type": "markdown",
      "source": [
        "#Descision Tree"
      ],
      "metadata": {
        "id": "_TI0sCwLjRSa"
      }
    },
    {
      "cell_type": "code",
      "source": [
        "!pip install imblearn==0.0"
      ],
      "metadata": {
        "colab": {
          "base_uri": "https://localhost:8080/"
        },
        "id": "7qIDpCN0phlo",
        "outputId": "cd505f8f-79e3-460f-c28b-946e2fd0fc6b"
      },
      "execution_count": null,
      "outputs": [
        {
          "output_type": "stream",
          "name": "stdout",
          "text": [
            "Looking in indexes: https://pypi.org/simple, https://us-python.pkg.dev/colab-wheels/public/simple/\n",
            "Requirement already satisfied: imblearn==0.0 in /usr/local/lib/python3.7/dist-packages (0.0)\n",
            "Requirement already satisfied: imbalanced-learn in /usr/local/lib/python3.7/dist-packages (from imblearn==0.0) (0.8.1)\n",
            "Requirement already satisfied: numpy>=1.13.3 in /usr/local/lib/python3.7/dist-packages (from imbalanced-learn->imblearn==0.0) (1.21.6)\n",
            "Requirement already satisfied: joblib>=0.11 in /usr/local/lib/python3.7/dist-packages (from imbalanced-learn->imblearn==0.0) (1.1.0)\n",
            "Requirement already satisfied: scipy>=0.19.1 in /usr/local/lib/python3.7/dist-packages (from imbalanced-learn->imblearn==0.0) (1.4.1)\n",
            "Requirement already satisfied: scikit-learn>=0.24 in /usr/local/lib/python3.7/dist-packages (from imbalanced-learn->imblearn==0.0) (1.0.2)\n",
            "Requirement already satisfied: threadpoolctl>=2.0.0 in /usr/local/lib/python3.7/dist-packages (from scikit-learn>=0.24->imbalanced-learn->imblearn==0.0) (3.1.0)\n"
          ]
        }
      ]
    },
    {
      "cell_type": "code",
      "source": [
        "# import required packages for splitting data\n",
        "from sklearn import model_selection\n",
        "from sklearn import linear_model\n",
        "from sklearn import ensemble\n",
        "from sklearn.model_selection import cross_val_score\n",
        "from sklearn.model_selection import train_test_split\n",
        "\n",
        "# import required packages for evaluating models\n",
        "from sklearn import metrics\n",
        "from sklearn.metrics import confusion_matrix\n",
        "from sklearn.metrics import classification_report\n",
        "from sklearn.metrics import roc_auc_score\n",
        "from sklearn.metrics import accuracy_score\n",
        "from sklearn.metrics import precision_recall_fscore_support\n",
        "\n",
        "# import `Decision Tree` model\n",
        "from sklearn.tree import DecisionTreeClassifier\n",
        "\n",
        "# balance the data\n",
        "from imblearn.over_sampling import SMOTE"
      ],
      "metadata": {
        "id": "P9dbuMlypMRP"
      },
      "execution_count": null,
      "outputs": []
    },
    {
      "cell_type": "code",
      "source": [
        "#Create a Decision Tree Classifier\n",
        "clf = DecisionTreeClassifier()\n",
        "\n",
        "#Train the model using the training sets\n",
        "clf.fit(X_train, y_train)\n",
        "\n",
        "#Predict the response for test dataset\n",
        "y_pred = clf.predict(X_test)"
      ],
      "metadata": {
        "id": "r3RzGEHvpKKd"
      },
      "execution_count": null,
      "outputs": []
    },
    {
      "cell_type": "code",
      "source": [
        "print(classification_report(y_test, y_pred))"
      ],
      "metadata": {
        "colab": {
          "base_uri": "https://localhost:8080/"
        },
        "id": "-_G1qrAqpO18",
        "outputId": "3ba6796f-e22a-4ec4-bfc6-fe2b1f8c3d80"
      },
      "execution_count": null,
      "outputs": [
        {
          "output_type": "stream",
          "name": "stdout",
          "text": [
            "              precision    recall  f1-score   support\n",
            "\n",
            "           0       0.99      0.99      0.99      1369\n",
            "           1       0.67      0.82      0.74        38\n",
            "\n",
            "    accuracy                           0.98      1407\n",
            "   macro avg       0.83      0.90      0.87      1407\n",
            "weighted avg       0.99      0.98      0.99      1407\n",
            "\n"
          ]
        }
      ]
    },
    {
      "cell_type": "code",
      "source": [
        "cnf_matrix = metrics.confusion_matrix(y_test, y_pred)\n",
        "cnf_matrix"
      ],
      "metadata": {
        "colab": {
          "base_uri": "https://localhost:8080/"
        },
        "id": "Ml9ZNIjPppXV",
        "outputId": "b308c2e6-7c42-4851-a7e6-46e6a27f01b9"
      },
      "execution_count": null,
      "outputs": [
        {
          "output_type": "execute_result",
          "data": {
            "text/plain": [
              "array([[1354,   15],\n",
              "       [   7,   31]])"
            ]
          },
          "metadata": {},
          "execution_count": 15
        }
      ]
    },
    {
      "cell_type": "code",
      "source": [
        "import seaborn as sns\n",
        "import matplotlib.pyplot as plt\n",
        "class_names=[0,1] # name  of classes\n",
        "fig, ax = plt.subplots()\n",
        "tick_marks = np.arange(len(class_names))\n",
        "plt.xticks(tick_marks, class_names)\n",
        "plt.yticks(tick_marks, class_names)\n",
        "# create heatmap\n",
        "sns.heatmap(pd.DataFrame(cnf_matrix), annot=True, cmap=\"YlGnBu\" ,fmt='g')\n",
        "ax.xaxis.set_label_position(\"top\")\n",
        "plt.tight_layout()\n",
        "plt.title('Confusion matrix', y=1.1)\n",
        "plt.ylabel('Actual label')\n",
        "plt.xlabel('Predicted label')"
      ],
      "metadata": {
        "colab": {
          "base_uri": "https://localhost:8080/",
          "height": 342
        },
        "id": "xWGRH7sBpZqo",
        "outputId": "50ee59c6-f6a1-4c67-dfef-2b4f54193e47"
      },
      "execution_count": null,
      "outputs": [
        {
          "output_type": "execute_result",
          "data": {
            "text/plain": [
              "Text(0.5, 257.44, 'Predicted label')"
            ]
          },
          "metadata": {},
          "execution_count": 16
        },
        {
          "output_type": "display_data",
          "data": {
            "text/plain": [
              "<Figure size 432x288 with 2 Axes>"
            ],
            "image/png": "[encoded data removed]"
          },
          "metadata": {
            "needs_background": "light"
          }
        }
      ]
    },
    {
      "cell_type": "code",
      "source": [
        "print(\"Accuracy:\",metrics.accuracy_score(y_test, y_pred))\n",
        "print(\"Precision:\",metrics.precision_score(y_test, y_pred))\n",
        "print(\"Recall:\",metrics.recall_score(y_test, y_pred))"
      ],
      "metadata": {
        "colab": {
          "base_uri": "https://localhost:8080/"
        },
        "id": "TzVIXhZHp29u",
        "outputId": "a6c16def-2506-4457-bb34-084a7e027165"
      },
      "execution_count": null,
      "outputs": [
        {
          "output_type": "stream",
          "name": "stdout",
          "text": [
            "Accuracy: 0.984363894811656\n",
            "Precision: 0.6739130434782609\n",
            "Recall: 0.8157894736842105\n"
          ]
        }
      ]
    },
    {
      "cell_type": "code",
      "source": [
        "y_pred_proba = clf.predict_proba(X_test)[::,1]\n",
        "fpr, tpr, _ = metrics.roc_curve(y_test,  y_pred_proba)\n",
        "auc = metrics.roc_auc_score(y_test, y_pred_proba)\n",
        "plt.plot(fpr,tpr,label= 'AUC = %0.2f' % auc)\n",
        "plt.legend(loc=4)\n",
        "plt.title('Receiver Operating Characteristic (ROC)')\n",
        "plt.ylabel('True Positive Rate')\n",
        "plt.xlabel('False Positive Rate')\n",
        "plt.show()\n",
        "print('AUC Score:', auc)"
      ],
      "metadata": {
        "colab": {
          "base_uri": "https://localhost:8080/",
          "height": 312
        },
        "id": "tx-j342ap4Yw",
        "outputId": "c7f5f94c-0056-4f61-f712-340304ef6c97"
      },
      "execution_count": null,
      "outputs": [
        {
          "output_type": "display_data",
          "data": {
            "text/plain": [
              "<Figure size 432x288 with 1 Axes>"
            ],
            "image/png": "[encoded data removed]"
          },
          "metadata": {
            "needs_background": "light"
          }
        },
        {
          "output_type": "stream",
          "name": "stdout",
          "text": [
            "AUC Score: 0.902416285417708\n"
          ]
        }
      ]
    },
    {
      "cell_type": "code",
      "source": [
        "feature_imp = pd.Series(clf.feature_importances_, index=list(X_train_cols.columns)).sort_values(ascending=False)\n",
        "feature_imp"
      ],
      "metadata": {
        "colab": {
          "base_uri": "https://localhost:8080/"
        },
        "id": "yVLwpN35p7g2",
        "outputId": "bcf6738f-2413-437e-c147-111f5d00aa31"
      },
      "execution_count": null,
      "outputs": [
        {
          "output_type": "execute_result",
          "data": {
            "text/plain": [
              "PTS           0.377935\n",
              "W             0.193491\n",
              "PIE           0.110521\n",
              "FTA           0.070958\n",
              "POSS          0.062647\n",
              "PLUS_MINUS    0.062485\n",
              "FGM           0.040646\n",
              "TOV           0.038926\n",
              "FTM           0.032650\n",
              "FGA           0.009742\n",
              "dtype: float64"
            ]
          },
          "metadata": {},
          "execution_count": 19
        }
      ]
    },
    {
      "cell_type": "code",
      "source": [
        "%matplotlib inline\n",
        "plt.style.use('ggplot')\n",
        "\n",
        "# Creating a bar plot\n",
        "sns.barplot(x=feature_imp, y=feature_imp.index,color='r')\n",
        "\n",
        "# Add labels to your graph\n",
        "plt.xlabel('Feature Importance Score')\n",
        "plt.ylabel('Features')\n",
        "plt.title(\"Visualizing Important Features\")\n",
        "plt.show()"
      ],
      "metadata": {
        "colab": {
          "base_uri": "https://localhost:8080/",
          "height": 299
        },
        "id": "3VrfeegFp_Vy",
        "outputId": "cb8f8699-3d84-4c17-8e68-f01346df20fb"
      },
      "execution_count": null,
      "outputs": [
        {
          "output_type": "display_data",
          "data": {
            "text/plain": [
              "<Figure size 432x288 with 1 Axes>"
            ],
            "image/png": "[encoded data removed]"
          },
          "metadata": {}
        }
      ]
    },
    {
      "cell_type": "markdown",
      "source": [
        "##Evaluation"
      ],
      "metadata": {
        "id": "Nvoym7bbqFNW"
      }
    },
    {
      "cell_type": "code",
      "source": [
        "clf = DecisionTreeClassifier()"
      ],
      "metadata": {
        "id": "M3JgRUzQrZ7H"
      },
      "execution_count": null,
      "outputs": []
    },
    {
      "cell_type": "code",
      "source": [
        "#function inputs X:features.Y: Target, classifer: sklearn classifier, K:folds in cross validation, scoring: evaluation metric(f1)\n",
        "def my_eval(X, y, classifer = clf, k=10, scoring = 'f1'):\n",
        "    scores = []\n",
        "    for i in range(5):\n",
        "        #### generate random numbers to shuffle the data for training and test\n",
        "        np.random.seed(2021)\n",
        "        random_int = np.random.randint(0,3000)\n",
        "        #### create cross validation folds\n",
        "        kfold = model_selection.KFold(n_splits=k, random_state=random_int, shuffle=True)\n",
        "        #### record the score \n",
        "        score = model_selection.cross_val_score(clf, X=X, y=y, cv=kfold, scoring=scoring)\n",
        "        scores.append(score)\n",
        "    scores = np.array(scores)\n",
        "    #### we need to calculate the bias (average score) and viariance (std)\n",
        "    bias, variance = round(scores.mean(),4), round(scores.std(),4)\n",
        "    return(bias, variance)"
      ],
      "metadata": {
        "id": "MIeFyIAWqJhO"
      },
      "execution_count": null,
      "outputs": []
    },
    {
      "cell_type": "code",
      "source": [
        "# Resampling and Balancing the data\n",
        "sm = SMOTE(random_state = 2021) \n",
        "X_res, Y_res = sm.fit_resample(X_train, y_train)"
      ],
      "metadata": {
        "id": "nVC5zqjOrcfX"
      },
      "execution_count": null,
      "outputs": []
    },
    {
      "cell_type": "code",
      "source": [
        "#average f1_score from 10-fold CV \n",
        "clf = DecisionTreeClassifier()\n",
        "my_eval(X_res, Y_res, clf, 10)"
      ],
      "metadata": {
        "colab": {
          "base_uri": "https://localhost:8080/"
        },
        "id": "iEGKiLx0rdyA",
        "outputId": "36fef446-6436-4fa8-8a32-2df73c987f8e"
      },
      "execution_count": null,
      "outputs": [
        {
          "output_type": "execute_result",
          "data": {
            "text/plain": [
              "(0.989, 0.0032)"
            ]
          },
          "metadata": {},
          "execution_count": 24
        }
      ]
    },
    {
      "cell_type": "code",
      "source": [
        "#average ROC_AUC from 10-fold CV\n",
        "my_eval(X_res, Y_res, clf, 10, 'roc_auc')"
      ],
      "metadata": {
        "colab": {
          "base_uri": "https://localhost:8080/"
        },
        "id": "Z1DIIBn-rgrs",
        "outputId": "741a24b0-f05a-4437-b280-e0b4205cf771"
      },
      "execution_count": null,
      "outputs": [
        {
          "output_type": "execute_result",
          "data": {
            "text/plain": [
              "(0.989, 0.0032)"
            ]
          },
          "metadata": {},
          "execution_count": 25
        }
      ]
    },
    {
      "cell_type": "markdown",
      "source": [
        "#Random Forest "
      ],
      "metadata": {
        "id": "tn_0CXTgjRhi"
      }
    },
    {
      "cell_type": "code",
      "source": [
        "# import 'random forest' model\n",
        "from sklearn.ensemble import RandomForestClassifier"
      ],
      "metadata": {
        "id": "s_e9iOw3bJ9Z"
      },
      "execution_count": null,
      "outputs": []
    },
    {
      "cell_type": "code",
      "source": [
        "#Create Classifier\n",
        "clf = RandomForestClassifier(n_estimators=100, random_state=2022)\n",
        "\n",
        "#Train the model using the training sets\n",
        "clf.fit(X_train, y_train)\n",
        "\n",
        "#Predict the response for test dataset\n",
        "y_pred = clf.predict(X_test)"
      ],
      "metadata": {
        "id": "u7c9BSOHmq6C"
      },
      "execution_count": null,
      "outputs": []
    },
    {
      "cell_type": "code",
      "source": [
        "print(classification_report(y_test, y_pred))"
      ],
      "metadata": {
        "colab": {
          "base_uri": "https://localhost:8080/"
        },
        "id": "8GnRiQ7DbMwM",
        "outputId": "47634783-9a55-455a-d5a9-f6feb5c088cd"
      },
      "execution_count": null,
      "outputs": [
        {
          "output_type": "stream",
          "name": "stdout",
          "text": [
            "              precision    recall  f1-score   support\n",
            "\n",
            "           0       0.99      0.99      0.99      1369\n",
            "           1       0.81      0.79      0.80        38\n",
            "\n",
            "    accuracy                           0.99      1407\n",
            "   macro avg       0.90      0.89      0.90      1407\n",
            "weighted avg       0.99      0.99      0.99      1407\n",
            "\n"
          ]
        }
      ]
    },
    {
      "cell_type": "code",
      "source": [
        "cnf_matrix = metrics.confusion_matrix(y_test, y_pred)\n",
        "cnf_matrix"
      ],
      "metadata": {
        "colab": {
          "base_uri": "https://localhost:8080/"
        },
        "id": "ZVpMC4DjbQHN",
        "outputId": "041380f3-e711-4d0d-db5f-173e592beabc"
      },
      "execution_count": null,
      "outputs": [
        {
          "output_type": "execute_result",
          "data": {
            "text/plain": [
              "array([[1362,    7],\n",
              "       [   8,   30]])"
            ]
          },
          "metadata": {},
          "execution_count": 29
        }
      ]
    },
    {
      "cell_type": "code",
      "source": [
        "import seaborn as sns\n",
        "import matplotlib.pyplot as plt\n",
        "class_names=[0,1] # name  of classes\n",
        "fig, ax = plt.subplots()\n",
        "tick_marks = np.arange(len(class_names))\n",
        "plt.xticks(tick_marks, class_names)\n",
        "plt.yticks(tick_marks, class_names)\n",
        "# create heatmap\n",
        "sns.heatmap(pd.DataFrame(cnf_matrix), annot=True, cmap=\"YlGnBu\" ,fmt='g')\n",
        "ax.xaxis.set_label_position(\"top\")\n",
        "plt.tight_layout()\n",
        "plt.title('Confusion matrix', y=1.1)\n",
        "plt.ylabel('Actual label')\n",
        "plt.xlabel('Predicted label')"
      ],
      "metadata": {
        "colab": {
          "base_uri": "https://localhost:8080/",
          "height": 345
        },
        "id": "3qny6UQEbSqw",
        "outputId": "11a9b02a-7167-4a24-8d46-c6426344cd88"
      },
      "execution_count": null,
      "outputs": [
        {
          "output_type": "execute_result",
          "data": {
            "text/plain": [
              "Text(0.5, 257.44, 'Predicted label')"
            ]
          },
          "metadata": {},
          "execution_count": 30
        },
        {
          "output_type": "display_data",
          "data": {
            "text/plain": [
              "<Figure size 432x288 with 2 Axes>"
            ],
            "image/png": "[encoded data removed]"
          },
          "metadata": {}
        }
      ]
    },
    {
      "cell_type": "code",
      "source": [
        "y_pred_proba = clf.predict_proba(X_test)[::,1]\n",
        "fpr, tpr, _ = metrics.roc_curve(y_test,  y_pred_proba)\n",
        "auc = metrics.roc_auc_score(y_test, y_pred_proba)\n",
        "plt.plot(fpr,tpr,label= 'AUC = %0.2f' % auc)\n",
        "plt.legend(loc=4)\n",
        "plt.title('Receiver Operating Characteristic (ROC)')\n",
        "plt.ylabel('True Positive Rate')\n",
        "plt.xlabel('False Positive Rate')\n",
        "plt.show()\n",
        "print('AUC Score:', auc)"
      ],
      "metadata": {
        "colab": {
          "base_uri": "https://localhost:8080/",
          "height": 316
        },
        "id": "Y_EXtJB0Ye4w",
        "outputId": "fc679e61-74cb-43c0-91df-ab2f86c9589c"
      },
      "execution_count": null,
      "outputs": [
        {
          "output_type": "display_data",
          "data": {
            "text/plain": [
              "<Figure size 432x288 with 1 Axes>"
            ],
            "image/png": "[encoded data removed]"
          },
          "metadata": {}
        },
        {
          "output_type": "stream",
          "name": "stdout",
          "text": [
            "AUC Score: 0.980383299373342\n"
          ]
        }
      ]
    },
    {
      "cell_type": "code",
      "source": [
        "feature_imp = pd.Series(clf.feature_importances_, index=list(X_train_cols.columns)).sort_values(ascending=False)\n",
        "feature_imp"
      ],
      "metadata": {
        "colab": {
          "base_uri": "https://localhost:8080/"
        },
        "id": "f1dNpGyJY9bf",
        "outputId": "cf926bbd-8575-457f-f417-845a1dd5e49c"
      },
      "execution_count": null,
      "outputs": [
        {
          "output_type": "execute_result",
          "data": {
            "text/plain": [
              "PTS           0.159522\n",
              "FGM           0.141164\n",
              "PIE           0.126600\n",
              "PLUS_MINUS    0.116051\n",
              "FTA           0.111389\n",
              "W             0.103309\n",
              "POSS          0.075187\n",
              "FTM           0.071928\n",
              "FGA           0.062355\n",
              "TOV           0.032496\n",
              "dtype: float64"
            ]
          },
          "metadata": {},
          "execution_count": 32
        }
      ]
    },
    {
      "cell_type": "code",
      "source": [
        "%matplotlib inline\n",
        "plt.style.use('ggplot')\n",
        "\n",
        "# Creating a bar plot\n",
        "sns.barplot(x=feature_imp, y=feature_imp.index,color='r')\n",
        "\n",
        "# Add labels to your graph\n",
        "plt.xlabel('Feature Importance Score')\n",
        "plt.ylabel('Features')\n",
        "plt.title(\"Visualizing Important Features\")\n",
        "plt.show()"
      ],
      "metadata": {
        "id": "aPJN_6_FZD6S",
        "outputId": "1f60e2f6-bc9a-481c-cf84-b9385975e293",
        "colab": {
          "base_uri": "https://localhost:8080/",
          "height": 54
        }
      },
      "execution_count": null,
      "outputs": [
        {
          "output_type": "display_data",
          "data": {
            "text/plain": [
              "<Figure size 432x288 with 1 Axes>"
            ],
            "image/png": "[encoded data removed]"
          },
          "metadata": {}
        }
      ]
    }
  ]
}
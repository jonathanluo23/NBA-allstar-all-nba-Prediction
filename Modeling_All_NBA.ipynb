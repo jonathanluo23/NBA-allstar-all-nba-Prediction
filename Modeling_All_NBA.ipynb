{
  "nbformat": 4,
  "nbformat_minor": 0,
  "metadata": {
    "colab": {
      "name": "Modeling All NBA.ipynb",
      "provenance": [],
      "toc_visible": true,
      "collapsed_sections": [
        "Nvoym7bbqFNW"
      ],
      "authorship_tag": "ABX9TyMXNWrJvvT6R+V84ffY2XCi",
      "include_colab_link": true
    },
    "kernelspec": {
      "name": "python3",
      "display_name": "Python 3"
    },
    "language_info": {
      "name": "python"
    }
  },
  "cells": [
    {
      "cell_type": "markdown",
      "metadata": {
        "id": "view-in-github",
        "colab_type": "text"
      },
      "source": [
        "<a href=\"https://colab.research.google.com/github/jonathanluo23/NBA-allstar-all-nba-Prediction/blob/main/Modeling_All_NBA.ipynb\" target=\"_parent\"><img src=\"https://colab.research.google.com/assets/colab-badge.svg\" alt=\"Open In Colab\"/></a>"
      ]
    },
    {
      "cell_type": "markdown",
      "source": [
        "#Train Test Split"
      ],
      "metadata": {
        "id": "OLUhX6k_rpRc"
      }
    },
    {
      "cell_type": "code",
      "source": [
        "import pandas as pd\n",
        "import numpy as np\n",
        "\n",
        "from google.colab import drive\n",
        "drive.mount('/content/drive/')"
      ],
      "metadata": {
        "colab": {
          "base_uri": "https://localhost:8080/"
        },
        "id": "Os0G5d4vmzDo",
        "outputId": "cbeda2d2-33d6-4986-84e3-71abf3a7cb9d"
      },
      "execution_count": null,
      "outputs": [
        {
          "output_type": "stream",
          "name": "stdout",
          "text": [
            "Mounted at /content/drive/\n"
          ]
        }
      ]
    },
    {
      "cell_type": "code",
      "source": [
        "data = pd.read_csv('/content/drive/MyDrive/Capstone/features_allnba')\n",
        "data"
      ],
      "metadata": {
        "colab": {
          "base_uri": "https://localhost:8080/",
          "height": 424
        },
        "id": "Y9GxkP2Gm5k5",
        "outputId": "3fe4a0fb-d860-4c62-b2e5-a0cafe16747b"
      },
      "execution_count": null,
      "outputs": [
        {
          "output_type": "execute_result",
          "data": {
            "text/plain": [
              "           PTS       FGM       PIE       FTA         W  PLUS_MINUS       FGA  \\\n",
              "0     0.331965  0.298372  0.549559  0.309540  0.512548    0.588911  0.409601   \n",
              "1     0.331965  0.359273  0.452906  0.358982  0.371560    0.299963  0.364825   \n",
              "2     0.663537  0.707735  0.601646  0.625887  0.623642    0.718178  0.733066   \n",
              "3     0.621795  0.694274  0.755714  0.615881  0.195063    0.867368  0.649253   \n",
              "4     0.762711  0.879514  0.902713  0.635549  0.575695    0.718178  0.859997   \n",
              "...        ...       ...       ...       ...       ...         ...       ...   \n",
              "5622  0.847901  0.874806  0.749689  0.814499  0.635318    0.501347  0.870871   \n",
              "5623  0.586318  0.666163  0.347545  0.421983  0.039722    0.000000  0.757987   \n",
              "5624  0.449480  0.437141  0.452906  0.474918  0.472608    0.449558  0.438665   \n",
              "5625  0.501579  0.523485  0.325719  0.335126  0.680907    0.675272  0.550525   \n",
              "5626  0.000000  0.000000  0.000000  0.000000  0.000000    0.000000  0.343872   \n",
              "\n",
              "          POSS       FTM   USG_PCT  Y  \n",
              "0     0.402178  0.307733  0.477575  0  \n",
              "1     0.474800  0.269963  0.335325  0  \n",
              "2     0.729872  0.600212  0.715859  0  \n",
              "3     0.302438  0.614219  0.488580  0  \n",
              "4     0.781053  0.640186  0.768371  0  \n",
              "...        ...       ...       ... ..  \n",
              "5622  0.859264  0.841262  0.845072  0  \n",
              "5623  0.217864  0.497239  0.428994  0  \n",
              "5624  0.459714  0.428622  0.382823  0  \n",
              "5625  0.660283  0.342032  0.375000  0  \n",
              "5626  0.025356  0.000000  0.743900  0  \n",
              "\n",
              "[5627 rows x 11 columns]"
            ],
            "text/html": [
              "\n",
              "  <div id=\"df-876c795e-e36f-4d67-8354-1d848ce89149\">\n",
              "    <div class=\"colab-df-container\">\n",
              "      <div>\n",
              "<style scoped>\n",
              "    .dataframe tbody tr th:only-of-type {\n",
              "        vertical-align: middle;\n",
              "    }\n",
              "\n",
              "    .dataframe tbody tr th {\n",
              "        vertical-align: top;\n",
              "    }\n",
              "\n",
              "    .dataframe thead th {\n",
              "        text-align: right;\n",
              "    }\n",
              "</style>\n",
              "<table border=\"1\" class=\"dataframe\">\n",
              "  <thead>\n",
              "    <tr style=\"text-align: right;\">\n",
              "      <th></th>\n",
              "      <th>PTS</th>\n",
              "      <th>FGM</th>\n",
              "      <th>PIE</th>\n",
              "      <th>FTA</th>\n",
              "      <th>W</th>\n",
              "      <th>PLUS_MINUS</th>\n",
              "      <th>FGA</th>\n",
              "      <th>POSS</th>\n",
              "      <th>FTM</th>\n",
              "      <th>USG_PCT</th>\n",
              "      <th>Y</th>\n",
              "    </tr>\n",
              "  </thead>\n",
              "  <tbody>\n",
              "    <tr>\n",
              "      <th>0</th>\n",
              "      <td>0.331965</td>\n",
              "      <td>0.298372</td>\n",
              "      <td>0.549559</td>\n",
              "      <td>0.309540</td>\n",
              "      <td>0.512548</td>\n",
              "      <td>0.588911</td>\n",
              "      <td>0.409601</td>\n",
              "      <td>0.402178</td>\n",
              "      <td>0.307733</td>\n",
              "      <td>0.477575</td>\n",
              "      <td>0</td>\n",
              "    </tr>\n",
              "    <tr>\n",
              "      <th>1</th>\n",
              "      <td>0.331965</td>\n",
              "      <td>0.359273</td>\n",
              "      <td>0.452906</td>\n",
              "      <td>0.358982</td>\n",
              "      <td>0.371560</td>\n",
              "      <td>0.299963</td>\n",
              "      <td>0.364825</td>\n",
              "      <td>0.474800</td>\n",
              "      <td>0.269963</td>\n",
              "      <td>0.335325</td>\n",
              "      <td>0</td>\n",
              "    </tr>\n",
              "    <tr>\n",
              "      <th>2</th>\n",
              "      <td>0.663537</td>\n",
              "      <td>0.707735</td>\n",
              "      <td>0.601646</td>\n",
              "      <td>0.625887</td>\n",
              "      <td>0.623642</td>\n",
              "      <td>0.718178</td>\n",
              "      <td>0.733066</td>\n",
              "      <td>0.729872</td>\n",
              "      <td>0.600212</td>\n",
              "      <td>0.715859</td>\n",
              "      <td>0</td>\n",
              "    </tr>\n",
              "    <tr>\n",
              "      <th>3</th>\n",
              "      <td>0.621795</td>\n",
              "      <td>0.694274</td>\n",
              "      <td>0.755714</td>\n",
              "      <td>0.615881</td>\n",
              "      <td>0.195063</td>\n",
              "      <td>0.867368</td>\n",
              "      <td>0.649253</td>\n",
              "      <td>0.302438</td>\n",
              "      <td>0.614219</td>\n",
              "      <td>0.488580</td>\n",
              "      <td>0</td>\n",
              "    </tr>\n",
              "    <tr>\n",
              "      <th>4</th>\n",
              "      <td>0.762711</td>\n",
              "      <td>0.879514</td>\n",
              "      <td>0.902713</td>\n",
              "      <td>0.635549</td>\n",
              "      <td>0.575695</td>\n",
              "      <td>0.718178</td>\n",
              "      <td>0.859997</td>\n",
              "      <td>0.781053</td>\n",
              "      <td>0.640186</td>\n",
              "      <td>0.768371</td>\n",
              "      <td>0</td>\n",
              "    </tr>\n",
              "    <tr>\n",
              "      <th>...</th>\n",
              "      <td>...</td>\n",
              "      <td>...</td>\n",
              "      <td>...</td>\n",
              "      <td>...</td>\n",
              "      <td>...</td>\n",
              "      <td>...</td>\n",
              "      <td>...</td>\n",
              "      <td>...</td>\n",
              "      <td>...</td>\n",
              "      <td>...</td>\n",
              "      <td>...</td>\n",
              "    </tr>\n",
              "    <tr>\n",
              "      <th>5622</th>\n",
              "      <td>0.847901</td>\n",
              "      <td>0.874806</td>\n",
              "      <td>0.749689</td>\n",
              "      <td>0.814499</td>\n",
              "      <td>0.635318</td>\n",
              "      <td>0.501347</td>\n",
              "      <td>0.870871</td>\n",
              "      <td>0.859264</td>\n",
              "      <td>0.841262</td>\n",
              "      <td>0.845072</td>\n",
              "      <td>0</td>\n",
              "    </tr>\n",
              "    <tr>\n",
              "      <th>5623</th>\n",
              "      <td>0.586318</td>\n",
              "      <td>0.666163</td>\n",
              "      <td>0.347545</td>\n",
              "      <td>0.421983</td>\n",
              "      <td>0.039722</td>\n",
              "      <td>0.000000</td>\n",
              "      <td>0.757987</td>\n",
              "      <td>0.217864</td>\n",
              "      <td>0.497239</td>\n",
              "      <td>0.428994</td>\n",
              "      <td>0</td>\n",
              "    </tr>\n",
              "    <tr>\n",
              "      <th>5624</th>\n",
              "      <td>0.449480</td>\n",
              "      <td>0.437141</td>\n",
              "      <td>0.452906</td>\n",
              "      <td>0.474918</td>\n",
              "      <td>0.472608</td>\n",
              "      <td>0.449558</td>\n",
              "      <td>0.438665</td>\n",
              "      <td>0.459714</td>\n",
              "      <td>0.428622</td>\n",
              "      <td>0.382823</td>\n",
              "      <td>0</td>\n",
              "    </tr>\n",
              "    <tr>\n",
              "      <th>5625</th>\n",
              "      <td>0.501579</td>\n",
              "      <td>0.523485</td>\n",
              "      <td>0.325719</td>\n",
              "      <td>0.335126</td>\n",
              "      <td>0.680907</td>\n",
              "      <td>0.675272</td>\n",
              "      <td>0.550525</td>\n",
              "      <td>0.660283</td>\n",
              "      <td>0.342032</td>\n",
              "      <td>0.375000</td>\n",
              "      <td>0</td>\n",
              "    </tr>\n",
              "    <tr>\n",
              "      <th>5626</th>\n",
              "      <td>0.000000</td>\n",
              "      <td>0.000000</td>\n",
              "      <td>0.000000</td>\n",
              "      <td>0.000000</td>\n",
              "      <td>0.000000</td>\n",
              "      <td>0.000000</td>\n",
              "      <td>0.343872</td>\n",
              "      <td>0.025356</td>\n",
              "      <td>0.000000</td>\n",
              "      <td>0.743900</td>\n",
              "      <td>0</td>\n",
              "    </tr>\n",
              "  </tbody>\n",
              "</table>\n",
              "<p>5627 rows × 11 columns</p>\n",
              "</div>\n",
              "      <button class=\"colab-df-convert\" onclick=\"convertToInteractive('df-876c795e-e36f-4d67-8354-1d848ce89149')\"\n",
              "              title=\"Convert this dataframe to an interactive table.\"\n",
              "              style=\"display:none;\">\n",
              "        \n",
              "  <svg xmlns=\"http://www.w3.org/2000/svg\" height=\"24px\"viewBox=\"0 0 24 24\"\n",
              "       width=\"24px\">\n",
              "    <path d=\"M0 0h24v24H0V0z\" fill=\"none\"/>\n",
              "    <path d=\"M18.56 5.44l.94 2.06.94-2.06 2.06-.94-2.06-.94-.94-2.06-.94 2.06-2.06.94zm-11 1L8.5 8.5l.94-2.06 2.06-.94-2.06-.94L8.5 2.5l-.94 2.06-2.06.94zm10 10l.94 2.06.94-2.06 2.06-.94-2.06-.94-.94-2.06-.94 2.06-2.06.94z\"/><path d=\"M17.41 7.96l-1.37-1.37c-.4-.4-.92-.59-1.43-.59-.52 0-1.04.2-1.43.59L10.3 9.45l-7.72 7.72c-.78.78-.78 2.05 0 2.83L4 21.41c.39.39.9.59 1.41.59.51 0 1.02-.2 1.41-.59l7.78-7.78 2.81-2.81c.8-.78.8-2.07 0-2.86zM5.41 20L4 18.59l7.72-7.72 1.47 1.35L5.41 20z\"/>\n",
              "  </svg>\n",
              "      </button>\n",
              "      \n",
              "  <style>\n",
              "    .colab-df-container {\n",
              "      display:flex;\n",
              "      flex-wrap:wrap;\n",
              "      gap: 12px;\n",
              "    }\n",
              "\n",
              "    .colab-df-convert {\n",
              "      background-color: #E8F0FE;\n",
              "      border: none;\n",
              "      border-radius: 50%;\n",
              "      cursor: pointer;\n",
              "      display: none;\n",
              "      fill: #1967D2;\n",
              "      height: 32px;\n",
              "      padding: 0 0 0 0;\n",
              "      width: 32px;\n",
              "    }\n",
              "\n",
              "    .colab-df-convert:hover {\n",
              "      background-color: #E2EBFA;\n",
              "      box-shadow: 0px 1px 2px rgba(60, 64, 67, 0.3), 0px 1px 3px 1px rgba(60, 64, 67, 0.15);\n",
              "      fill: #174EA6;\n",
              "    }\n",
              "\n",
              "    [theme=dark] .colab-df-convert {\n",
              "      background-color: #3B4455;\n",
              "      fill: #D2E3FC;\n",
              "    }\n",
              "\n",
              "    [theme=dark] .colab-df-convert:hover {\n",
              "      background-color: #434B5C;\n",
              "      box-shadow: 0px 1px 3px 1px rgba(0, 0, 0, 0.15);\n",
              "      filter: drop-shadow(0px 1px 2px rgba(0, 0, 0, 0.3));\n",
              "      fill: #FFFFFF;\n",
              "    }\n",
              "  </style>\n",
              "\n",
              "      <script>\n",
              "        const buttonEl =\n",
              "          document.querySelector('#df-876c795e-e36f-4d67-8354-1d848ce89149 button.colab-df-convert');\n",
              "        buttonEl.style.display =\n",
              "          google.colab.kernel.accessAllowed ? 'block' : 'none';\n",
              "\n",
              "        async function convertToInteractive(key) {\n",
              "          const element = document.querySelector('#df-876c795e-e36f-4d67-8354-1d848ce89149');\n",
              "          const dataTable =\n",
              "            await google.colab.kernel.invokeFunction('convertToInteractive',\n",
              "                                                     [key], {});\n",
              "          if (!dataTable) return;\n",
              "\n",
              "          const docLinkHtml = 'Like what you see? Visit the ' +\n",
              "            '<a target=\"_blank\" href=https://colab.research.google.com/notebooks/data_table.ipynb>data table notebook</a>'\n",
              "            + ' to learn more about interactive tables.';\n",
              "          element.innerHTML = '';\n",
              "          dataTable['output_type'] = 'display_data';\n",
              "          await google.colab.output.renderOutput(dataTable, element);\n",
              "          const docLink = document.createElement('div');\n",
              "          docLink.innerHTML = docLinkHtml;\n",
              "          element.appendChild(docLink);\n",
              "        }\n",
              "      </script>\n",
              "    </div>\n",
              "  </div>\n",
              "  "
            ]
          },
          "metadata": {},
          "execution_count": 2
        }
      ]
    },
    {
      "cell_type": "code",
      "source": [
        "X_cols = data.iloc[:,:-1]\n",
        "y_cols = data.iloc[:,-1]"
      ],
      "metadata": {
        "id": "9smuQxr3q9Si"
      },
      "execution_count": null,
      "outputs": []
    },
    {
      "cell_type": "code",
      "source": [
        "X_cols"
      ],
      "metadata": {
        "colab": {
          "base_uri": "https://localhost:8080/",
          "height": 424
        },
        "id": "JVrkJL7XrE0z",
        "outputId": "77b46d33-2550-4637-a1a2-c66416a04f84"
      },
      "execution_count": null,
      "outputs": [
        {
          "output_type": "execute_result",
          "data": {
            "text/plain": [
              "           PTS       FGM       PIE       FTA         W  PLUS_MINUS       FGA  \\\n",
              "0     0.331965  0.298372  0.549559  0.309540  0.512548    0.588911  0.409601   \n",
              "1     0.331965  0.359273  0.452906  0.358982  0.371560    0.299963  0.364825   \n",
              "2     0.663537  0.707735  0.601646  0.625887  0.623642    0.718178  0.733066   \n",
              "3     0.621795  0.694274  0.755714  0.615881  0.195063    0.867368  0.649253   \n",
              "4     0.762711  0.879514  0.902713  0.635549  0.575695    0.718178  0.859997   \n",
              "...        ...       ...       ...       ...       ...         ...       ...   \n",
              "5622  0.847901  0.874806  0.749689  0.814499  0.635318    0.501347  0.870871   \n",
              "5623  0.586318  0.666163  0.347545  0.421983  0.039722    0.000000  0.757987   \n",
              "5624  0.449480  0.437141  0.452906  0.474918  0.472608    0.449558  0.438665   \n",
              "5625  0.501579  0.523485  0.325719  0.335126  0.680907    0.675272  0.550525   \n",
              "5626  0.000000  0.000000  0.000000  0.000000  0.000000    0.000000  0.343872   \n",
              "\n",
              "          POSS       FTM   USG_PCT  \n",
              "0     0.402178  0.307733  0.477575  \n",
              "1     0.474800  0.269963  0.335325  \n",
              "2     0.729872  0.600212  0.715859  \n",
              "3     0.302438  0.614219  0.488580  \n",
              "4     0.781053  0.640186  0.768371  \n",
              "...        ...       ...       ...  \n",
              "5622  0.859264  0.841262  0.845072  \n",
              "5623  0.217864  0.497239  0.428994  \n",
              "5624  0.459714  0.428622  0.382823  \n",
              "5625  0.660283  0.342032  0.375000  \n",
              "5626  0.025356  0.000000  0.743900  \n",
              "\n",
              "[5627 rows x 10 columns]"
            ],
            "text/html": [
              "\n",
              "  <div id=\"df-1cc3c2d9-74ac-42c6-802c-378a4dee36b0\">\n",
              "    <div class=\"colab-df-container\">\n",
              "      <div>\n",
              "<style scoped>\n",
              "    .dataframe tbody tr th:only-of-type {\n",
              "        vertical-align: middle;\n",
              "    }\n",
              "\n",
              "    .dataframe tbody tr th {\n",
              "        vertical-align: top;\n",
              "    }\n",
              "\n",
              "    .dataframe thead th {\n",
              "        text-align: right;\n",
              "    }\n",
              "</style>\n",
              "<table border=\"1\" class=\"dataframe\">\n",
              "  <thead>\n",
              "    <tr style=\"text-align: right;\">\n",
              "      <th></th>\n",
              "      <th>PTS</th>\n",
              "      <th>FGM</th>\n",
              "      <th>PIE</th>\n",
              "      <th>FTA</th>\n",
              "      <th>W</th>\n",
              "      <th>PLUS_MINUS</th>\n",
              "      <th>FGA</th>\n",
              "      <th>POSS</th>\n",
              "      <th>FTM</th>\n",
              "      <th>USG_PCT</th>\n",
              "    </tr>\n",
              "  </thead>\n",
              "  <tbody>\n",
              "    <tr>\n",
              "      <th>0</th>\n",
              "      <td>0.331965</td>\n",
              "      <td>0.298372</td>\n",
              "      <td>0.549559</td>\n",
              "      <td>0.309540</td>\n",
              "      <td>0.512548</td>\n",
              "      <td>0.588911</td>\n",
              "      <td>0.409601</td>\n",
              "      <td>0.402178</td>\n",
              "      <td>0.307733</td>\n",
              "      <td>0.477575</td>\n",
              "    </tr>\n",
              "    <tr>\n",
              "      <th>1</th>\n",
              "      <td>0.331965</td>\n",
              "      <td>0.359273</td>\n",
              "      <td>0.452906</td>\n",
              "      <td>0.358982</td>\n",
              "      <td>0.371560</td>\n",
              "      <td>0.299963</td>\n",
              "      <td>0.364825</td>\n",
              "      <td>0.474800</td>\n",
              "      <td>0.269963</td>\n",
              "      <td>0.335325</td>\n",
              "    </tr>\n",
              "    <tr>\n",
              "      <th>2</th>\n",
              "      <td>0.663537</td>\n",
              "      <td>0.707735</td>\n",
              "      <td>0.601646</td>\n",
              "      <td>0.625887</td>\n",
              "      <td>0.623642</td>\n",
              "      <td>0.718178</td>\n",
              "      <td>0.733066</td>\n",
              "      <td>0.729872</td>\n",
              "      <td>0.600212</td>\n",
              "      <td>0.715859</td>\n",
              "    </tr>\n",
              "    <tr>\n",
              "      <th>3</th>\n",
              "      <td>0.621795</td>\n",
              "      <td>0.694274</td>\n",
              "      <td>0.755714</td>\n",
              "      <td>0.615881</td>\n",
              "      <td>0.195063</td>\n",
              "      <td>0.867368</td>\n",
              "      <td>0.649253</td>\n",
              "      <td>0.302438</td>\n",
              "      <td>0.614219</td>\n",
              "      <td>0.488580</td>\n",
              "    </tr>\n",
              "    <tr>\n",
              "      <th>4</th>\n",
              "      <td>0.762711</td>\n",
              "      <td>0.879514</td>\n",
              "      <td>0.902713</td>\n",
              "      <td>0.635549</td>\n",
              "      <td>0.575695</td>\n",
              "      <td>0.718178</td>\n",
              "      <td>0.859997</td>\n",
              "      <td>0.781053</td>\n",
              "      <td>0.640186</td>\n",
              "      <td>0.768371</td>\n",
              "    </tr>\n",
              "    <tr>\n",
              "      <th>...</th>\n",
              "      <td>...</td>\n",
              "      <td>...</td>\n",
              "      <td>...</td>\n",
              "      <td>...</td>\n",
              "      <td>...</td>\n",
              "      <td>...</td>\n",
              "      <td>...</td>\n",
              "      <td>...</td>\n",
              "      <td>...</td>\n",
              "      <td>...</td>\n",
              "    </tr>\n",
              "    <tr>\n",
              "      <th>5622</th>\n",
              "      <td>0.847901</td>\n",
              "      <td>0.874806</td>\n",
              "      <td>0.749689</td>\n",
              "      <td>0.814499</td>\n",
              "      <td>0.635318</td>\n",
              "      <td>0.501347</td>\n",
              "      <td>0.870871</td>\n",
              "      <td>0.859264</td>\n",
              "      <td>0.841262</td>\n",
              "      <td>0.845072</td>\n",
              "    </tr>\n",
              "    <tr>\n",
              "      <th>5623</th>\n",
              "      <td>0.586318</td>\n",
              "      <td>0.666163</td>\n",
              "      <td>0.347545</td>\n",
              "      <td>0.421983</td>\n",
              "      <td>0.039722</td>\n",
              "      <td>0.000000</td>\n",
              "      <td>0.757987</td>\n",
              "      <td>0.217864</td>\n",
              "      <td>0.497239</td>\n",
              "      <td>0.428994</td>\n",
              "    </tr>\n",
              "    <tr>\n",
              "      <th>5624</th>\n",
              "      <td>0.449480</td>\n",
              "      <td>0.437141</td>\n",
              "      <td>0.452906</td>\n",
              "      <td>0.474918</td>\n",
              "      <td>0.472608</td>\n",
              "      <td>0.449558</td>\n",
              "      <td>0.438665</td>\n",
              "      <td>0.459714</td>\n",
              "      <td>0.428622</td>\n",
              "      <td>0.382823</td>\n",
              "    </tr>\n",
              "    <tr>\n",
              "      <th>5625</th>\n",
              "      <td>0.501579</td>\n",
              "      <td>0.523485</td>\n",
              "      <td>0.325719</td>\n",
              "      <td>0.335126</td>\n",
              "      <td>0.680907</td>\n",
              "      <td>0.675272</td>\n",
              "      <td>0.550525</td>\n",
              "      <td>0.660283</td>\n",
              "      <td>0.342032</td>\n",
              "      <td>0.375000</td>\n",
              "    </tr>\n",
              "    <tr>\n",
              "      <th>5626</th>\n",
              "      <td>0.000000</td>\n",
              "      <td>0.000000</td>\n",
              "      <td>0.000000</td>\n",
              "      <td>0.000000</td>\n",
              "      <td>0.000000</td>\n",
              "      <td>0.000000</td>\n",
              "      <td>0.343872</td>\n",
              "      <td>0.025356</td>\n",
              "      <td>0.000000</td>\n",
              "      <td>0.743900</td>\n",
              "    </tr>\n",
              "  </tbody>\n",
              "</table>\n",
              "<p>5627 rows × 10 columns</p>\n",
              "</div>\n",
              "      <button class=\"colab-df-convert\" onclick=\"convertToInteractive('df-1cc3c2d9-74ac-42c6-802c-378a4dee36b0')\"\n",
              "              title=\"Convert this dataframe to an interactive table.\"\n",
              "              style=\"display:none;\">\n",
              "        \n",
              "  <svg xmlns=\"http://www.w3.org/2000/svg\" height=\"24px\"viewBox=\"0 0 24 24\"\n",
              "       width=\"24px\">\n",
              "    <path d=\"M0 0h24v24H0V0z\" fill=\"none\"/>\n",
              "    <path d=\"M18.56 5.44l.94 2.06.94-2.06 2.06-.94-2.06-.94-.94-2.06-.94 2.06-2.06.94zm-11 1L8.5 8.5l.94-2.06 2.06-.94-2.06-.94L8.5 2.5l-.94 2.06-2.06.94zm10 10l.94 2.06.94-2.06 2.06-.94-2.06-.94-.94-2.06-.94 2.06-2.06.94z\"/><path d=\"M17.41 7.96l-1.37-1.37c-.4-.4-.92-.59-1.43-.59-.52 0-1.04.2-1.43.59L10.3 9.45l-7.72 7.72c-.78.78-.78 2.05 0 2.83L4 21.41c.39.39.9.59 1.41.59.51 0 1.02-.2 1.41-.59l7.78-7.78 2.81-2.81c.8-.78.8-2.07 0-2.86zM5.41 20L4 18.59l7.72-7.72 1.47 1.35L5.41 20z\"/>\n",
              "  </svg>\n",
              "      </button>\n",
              "      \n",
              "  <style>\n",
              "    .colab-df-container {\n",
              "      display:flex;\n",
              "      flex-wrap:wrap;\n",
              "      gap: 12px;\n",
              "    }\n",
              "\n",
              "    .colab-df-convert {\n",
              "      background-color: #E8F0FE;\n",
              "      border: none;\n",
              "      border-radius: 50%;\n",
              "      cursor: pointer;\n",
              "      display: none;\n",
              "      fill: #1967D2;\n",
              "      height: 32px;\n",
              "      padding: 0 0 0 0;\n",
              "      width: 32px;\n",
              "    }\n",
              "\n",
              "    .colab-df-convert:hover {\n",
              "      background-color: #E2EBFA;\n",
              "      box-shadow: 0px 1px 2px rgba(60, 64, 67, 0.3), 0px 1px 3px 1px rgba(60, 64, 67, 0.15);\n",
              "      fill: #174EA6;\n",
              "    }\n",
              "\n",
              "    [theme=dark] .colab-df-convert {\n",
              "      background-color: #3B4455;\n",
              "      fill: #D2E3FC;\n",
              "    }\n",
              "\n",
              "    [theme=dark] .colab-df-convert:hover {\n",
              "      background-color: #434B5C;\n",
              "      box-shadow: 0px 1px 3px 1px rgba(0, 0, 0, 0.15);\n",
              "      filter: drop-shadow(0px 1px 2px rgba(0, 0, 0, 0.3));\n",
              "      fill: #FFFFFF;\n",
              "    }\n",
              "  </style>\n",
              "\n",
              "      <script>\n",
              "        const buttonEl =\n",
              "          document.querySelector('#df-1cc3c2d9-74ac-42c6-802c-378a4dee36b0 button.colab-df-convert');\n",
              "        buttonEl.style.display =\n",
              "          google.colab.kernel.accessAllowed ? 'block' : 'none';\n",
              "\n",
              "        async function convertToInteractive(key) {\n",
              "          const element = document.querySelector('#df-1cc3c2d9-74ac-42c6-802c-378a4dee36b0');\n",
              "          const dataTable =\n",
              "            await google.colab.kernel.invokeFunction('convertToInteractive',\n",
              "                                                     [key], {});\n",
              "          if (!dataTable) return;\n",
              "\n",
              "          const docLinkHtml = 'Like what you see? Visit the ' +\n",
              "            '<a target=\"_blank\" href=https://colab.research.google.com/notebooks/data_table.ipynb>data table notebook</a>'\n",
              "            + ' to learn more about interactive tables.';\n",
              "          element.innerHTML = '';\n",
              "          dataTable['output_type'] = 'display_data';\n",
              "          await google.colab.output.renderOutput(dataTable, element);\n",
              "          const docLink = document.createElement('div');\n",
              "          docLink.innerHTML = docLinkHtml;\n",
              "          element.appendChild(docLink);\n",
              "        }\n",
              "      </script>\n",
              "    </div>\n",
              "  </div>\n",
              "  "
            ]
          },
          "metadata": {},
          "execution_count": 4
        }
      ]
    },
    {
      "cell_type": "code",
      "source": [
        "from sklearn.model_selection import train_test_split"
      ],
      "metadata": {
        "id": "wias1pAga_u-"
      },
      "execution_count": null,
      "outputs": []
    },
    {
      "cell_type": "code",
      "source": [
        "X_train_cols,X_test_cols,y_train_cols,y_test_cols = train_test_split(X_cols, y_cols,test_size=.25,random_state=2021)"
      ],
      "metadata": {
        "id": "hGybX1GhrGaA"
      },
      "execution_count": null,
      "outputs": []
    },
    {
      "cell_type": "code",
      "source": [
        "X = data.iloc[:,:-1].values\n",
        "y = data.iloc[:,-1].values"
      ],
      "metadata": {
        "id": "PGEHNK3xnG3R"
      },
      "execution_count": null,
      "outputs": []
    },
    {
      "cell_type": "code",
      "source": [
        "y"
      ],
      "metadata": {
        "colab": {
          "base_uri": "https://localhost:8080/"
        },
        "id": "WcwsxHKIo6Qc",
        "outputId": "fae4a962-a246-47f3-8cf1-3f7d44ed16df"
      },
      "execution_count": null,
      "outputs": [
        {
          "output_type": "execute_result",
          "data": {
            "text/plain": [
              "array([0, 0, 0, ..., 0, 0, 0])"
            ]
          },
          "metadata": {},
          "execution_count": 8
        }
      ]
    },
    {
      "cell_type": "code",
      "source": [
        "X"
      ],
      "metadata": {
        "colab": {
          "base_uri": "https://localhost:8080/"
        },
        "id": "9QV68jUho00O",
        "outputId": "c42f3488-6681-403f-f051-4436b646cef2"
      },
      "execution_count": null,
      "outputs": [
        {
          "output_type": "execute_result",
          "data": {
            "text/plain": [
              "array([[0.33196459, 0.29837157, 0.54955888, ..., 0.40217812, 0.3077331 ,\n",
              "        0.47757542],\n",
              "       [0.33196459, 0.35927267, 0.45290566, ..., 0.47480017, 0.26996283,\n",
              "        0.33532537],\n",
              "       [0.66353657, 0.70773505, 0.60164558, ..., 0.72987198, 0.60021159,\n",
              "        0.71585904],\n",
              "       ...,\n",
              "       [0.44948006, 0.43714147, 0.45290566, ..., 0.45971447, 0.42862203,\n",
              "        0.38282277],\n",
              "       [0.50157885, 0.52348524, 0.32571943, ..., 0.66028338, 0.34203238,\n",
              "        0.375     ],\n",
              "       [0.        , 0.        , 0.        , ..., 0.02535584, 0.        ,\n",
              "        0.74390023]])"
            ]
          },
          "metadata": {},
          "execution_count": 9
        }
      ]
    },
    {
      "cell_type": "code",
      "source": [
        "X_train,X_test,y_train,y_test = train_test_split(X, y,test_size=.25,random_state=2021)"
      ],
      "metadata": {
        "id": "eXpIz47Do0DB"
      },
      "execution_count": null,
      "outputs": []
    },
    {
      "cell_type": "markdown",
      "source": [
        "#Descision Tree"
      ],
      "metadata": {
        "id": "_TI0sCwLjRSa"
      }
    },
    {
      "cell_type": "code",
      "source": [
        "!pip install imblearn==0.0"
      ],
      "metadata": {
        "colab": {
          "base_uri": "https://localhost:8080/"
        },
        "id": "7qIDpCN0phlo",
        "outputId": "237213f0-f1f7-4c63-9334-509b79c8fd73"
      },
      "execution_count": null,
      "outputs": [
        {
          "output_type": "stream",
          "name": "stdout",
          "text": [
            "Looking in indexes: https://pypi.org/simple, https://us-python.pkg.dev/colab-wheels/public/simple/\n",
            "Requirement already satisfied: imblearn==0.0 in /usr/local/lib/python3.7/dist-packages (0.0)\n",
            "Requirement already satisfied: imbalanced-learn in /usr/local/lib/python3.7/dist-packages (from imblearn==0.0) (0.8.1)\n",
            "Requirement already satisfied: joblib>=0.11 in /usr/local/lib/python3.7/dist-packages (from imbalanced-learn->imblearn==0.0) (1.1.0)\n",
            "Requirement already satisfied: scikit-learn>=0.24 in /usr/local/lib/python3.7/dist-packages (from imbalanced-learn->imblearn==0.0) (1.0.2)\n",
            "Requirement already satisfied: numpy>=1.13.3 in /usr/local/lib/python3.7/dist-packages (from imbalanced-learn->imblearn==0.0) (1.21.6)\n",
            "Requirement already satisfied: scipy>=0.19.1 in /usr/local/lib/python3.7/dist-packages (from imbalanced-learn->imblearn==0.0) (1.4.1)\n",
            "Requirement already satisfied: threadpoolctl>=2.0.0 in /usr/local/lib/python3.7/dist-packages (from scikit-learn>=0.24->imbalanced-learn->imblearn==0.0) (3.1.0)\n"
          ]
        }
      ]
    },
    {
      "cell_type": "code",
      "source": [
        "# import required packages for splitting data\n",
        "from sklearn import model_selection\n",
        "from sklearn import linear_model\n",
        "from sklearn import ensemble\n",
        "from sklearn.model_selection import cross_val_score\n",
        "from sklearn.model_selection import train_test_split\n",
        "\n",
        "# import required packages for evaluating models\n",
        "from sklearn import metrics\n",
        "from sklearn.metrics import confusion_matrix\n",
        "from sklearn.metrics import classification_report\n",
        "from sklearn.metrics import roc_auc_score\n",
        "from sklearn.metrics import accuracy_score\n",
        "from sklearn.metrics import precision_recall_fscore_support\n",
        "\n",
        "# import `Decision Tree` model\n",
        "from sklearn.tree import DecisionTreeClassifier\n",
        "\n",
        "# balance the data\n",
        "from imblearn.over_sampling import SMOTE"
      ],
      "metadata": {
        "id": "P9dbuMlypMRP"
      },
      "execution_count": null,
      "outputs": []
    },
    {
      "cell_type": "code",
      "source": [
        "#Create a Decision Tree Classifier\n",
        "clf = DecisionTreeClassifier()\n",
        "\n",
        "#Train the model using the training sets\n",
        "clf.fit(X_train, y_train)\n",
        "\n",
        "#Predict the response for test dataset\n",
        "y_pred = clf.predict(X_test)"
      ],
      "metadata": {
        "id": "r3RzGEHvpKKd"
      },
      "execution_count": null,
      "outputs": []
    },
    {
      "cell_type": "code",
      "source": [
        "print(classification_report(y_test, y_pred))"
      ],
      "metadata": {
        "colab": {
          "base_uri": "https://localhost:8080/"
        },
        "id": "-_G1qrAqpO18",
        "outputId": "683c774e-0bfd-4871-a4e2-dfbbc5b1d5cd"
      },
      "execution_count": null,
      "outputs": [
        {
          "output_type": "stream",
          "name": "stdout",
          "text": [
            "              precision    recall  f1-score   support\n",
            "\n",
            "           0       0.99      0.99      0.99      1369\n",
            "           1       0.70      0.82      0.76        38\n",
            "\n",
            "    accuracy                           0.99      1407\n",
            "   macro avg       0.85      0.90      0.87      1407\n",
            "weighted avg       0.99      0.99      0.99      1407\n",
            "\n"
          ]
        }
      ]
    },
    {
      "cell_type": "code",
      "source": [
        "cnf_matrix = metrics.confusion_matrix(y_test, y_pred)\n",
        "cnf_matrix"
      ],
      "metadata": {
        "colab": {
          "base_uri": "https://localhost:8080/"
        },
        "id": "Ml9ZNIjPppXV",
        "outputId": "afcc774d-5974-4c24-8b25-505a19e8665c"
      },
      "execution_count": null,
      "outputs": [
        {
          "output_type": "execute_result",
          "data": {
            "text/plain": [
              "array([[1356,   13],\n",
              "       [   7,   31]])"
            ]
          },
          "metadata": {},
          "execution_count": 15
        }
      ]
    },
    {
      "cell_type": "code",
      "source": [
        "import seaborn as sns\n",
        "import matplotlib.pyplot as plt\n",
        "class_names=[0,1] # name  of classes\n",
        "fig, ax = plt.subplots()\n",
        "tick_marks = np.arange(len(class_names))\n",
        "plt.xticks(tick_marks, class_names)\n",
        "plt.yticks(tick_marks, class_names)\n",
        "# create heatmap\n",
        "sns.heatmap(pd.DataFrame(cnf_matrix), annot=True, cmap=\"YlGnBu\" ,fmt='g')\n",
        "ax.xaxis.set_label_position(\"top\")\n",
        "plt.tight_layout()\n",
        "plt.title('Confusion matrix', y=1.1)\n",
        "plt.ylabel('Actual label')\n",
        "plt.xlabel('Predicted label')"
      ],
      "metadata": {
        "colab": {
          "base_uri": "https://localhost:8080/",
          "height": 342
        },
        "id": "xWGRH7sBpZqo",
        "outputId": "9cafe875-1498-4147-e5e6-38600f05747f"
      },
      "execution_count": null,
      "outputs": [
        {
          "output_type": "execute_result",
          "data": {
            "text/plain": [
              "Text(0.5, 257.44, 'Predicted label')"
            ]
          },
          "metadata": {},
          "execution_count": 16
        },
        {
          "output_type": "display_data",
          "data": {
            "text/plain": [
              "<Figure size 432x288 with 2 Axes>"
            ],
            "image/png": "[encoded data removed]"
          },
          "metadata": {
            "needs_background": "light"
          }
        }
      ]
    },
    {
      "cell_type": "code",
      "source": [
        "print(\"Accuracy:\",metrics.accuracy_score(y_test, y_pred))\n",
        "print(\"Precision:\",metrics.precision_score(y_test, y_pred))\n",
        "print(\"Recall:\",metrics.recall_score(y_test, y_pred))"
      ],
      "metadata": {
        "colab": {
          "base_uri": "https://localhost:8080/"
        },
        "id": "TzVIXhZHp29u",
        "outputId": "8a98a398-70ae-4a7c-f3e4-13b41c4398de"
      },
      "execution_count": null,
      "outputs": [
        {
          "output_type": "stream",
          "name": "stdout",
          "text": [
            "Accuracy: 0.9857853589196873\n",
            "Precision: 0.7045454545454546\n",
            "Recall: 0.8157894736842105\n"
          ]
        }
      ]
    },
    {
      "cell_type": "code",
      "source": [
        "y_pred_proba = clf.predict_proba(X_test)[::,1]\n",
        "fpr, tpr, _ = metrics.roc_curve(y_test,  y_pred_proba)\n",
        "auc = metrics.roc_auc_score(y_test, y_pred_proba)\n",
        "plt.plot(fpr,tpr,label= 'AUC = %0.2f' % auc)\n",
        "plt.legend(loc=4)\n",
        "plt.title('Receiver Operating Characteristic (ROC)')\n",
        "plt.ylabel('True Positive Rate')\n",
        "plt.xlabel('False Positive Rate')\n",
        "plt.show()\n",
        "print('AUC Score:', auc)"
      ],
      "metadata": {
        "colab": {
          "base_uri": "https://localhost:8080/",
          "height": 312
        },
        "id": "tx-j342ap4Yw",
        "outputId": "2c1f764e-3da2-4ae1-fcf0-8245ddb1f95f"
      },
      "execution_count": null,
      "outputs": [
        {
          "output_type": "display_data",
          "data": {
            "text/plain": [
              "<Figure size 432x288 with 1 Axes>"
            ],
            "image/png": "[encoded data removed]"
          },
          "metadata": {
            "needs_background": "light"
          }
        },
        {
          "output_type": "stream",
          "name": "stdout",
          "text": [
            "AUC Score: 0.9031467456076276\n"
          ]
        }
      ]
    },
    {
      "cell_type": "code",
      "source": [
        "feature_imp = pd.Series(clf.feature_importances_, index=list(X_train_cols.columns)).sort_values(ascending=False)\n",
        "feature_imp"
      ],
      "metadata": {
        "colab": {
          "base_uri": "https://localhost:8080/"
        },
        "id": "yVLwpN35p7g2",
        "outputId": "75f9ccee-88b8-4ae0-a022-887f9236670e"
      },
      "execution_count": null,
      "outputs": [
        {
          "output_type": "execute_result",
          "data": {
            "text/plain": [
              "PTS           0.372523\n",
              "W             0.199451\n",
              "PIE           0.120135\n",
              "POSS          0.071577\n",
              "PLUS_MINUS    0.060568\n",
              "USG_PCT       0.050346\n",
              "FGM           0.046492\n",
              "FTA           0.046258\n",
              "FTM           0.032650\n",
              "FGA           0.000000\n",
              "dtype: float64"
            ]
          },
          "metadata": {},
          "execution_count": 19
        }
      ]
    },
    {
      "cell_type": "code",
      "source": [
        "%matplotlib inline\n",
        "plt.style.use('ggplot')\n",
        "\n",
        "# Creating a bar plot\n",
        "sns.barplot(x=feature_imp, y=feature_imp.index,color='r')\n",
        "\n",
        "# Add labels to your graph\n",
        "plt.xlabel('Feature Importance Score')\n",
        "plt.ylabel('Features')\n",
        "plt.title(\"Visualizing Important Features\")\n",
        "plt.show()"
      ],
      "metadata": {
        "colab": {
          "base_uri": "https://localhost:8080/",
          "height": 299
        },
        "id": "3VrfeegFp_Vy",
        "outputId": "8ff5baa0-a264-4984-f5be-56d1f4f539c0"
      },
      "execution_count": null,
      "outputs": [
        {
          "output_type": "display_data",
          "data": {
            "text/plain": [
              "<Figure size 432x288 with 1 Axes>"
            ],
            "image/png": "[encoded data removed]"
          },
          "metadata": {}
        }
      ]
    },
    {
      "cell_type": "markdown",
      "source": [
        "##Evaluation"
      ],
      "metadata": {
        "id": "Nvoym7bbqFNW"
      }
    },
    {
      "cell_type": "code",
      "source": [
        "clf = DecisionTreeClassifier()"
      ],
      "metadata": {
        "id": "M3JgRUzQrZ7H"
      },
      "execution_count": null,
      "outputs": []
    },
    {
      "cell_type": "code",
      "source": [
        "#function inputs X:features.Y: Target, classifer: sklearn classifier, K:folds in cross validation, scoring: evaluation metric(f1)\n",
        "def my_eval(X, y, classifer = clf, k=10, scoring = 'f1'):\n",
        "    scores = []\n",
        "    for i in range(5):\n",
        "        #### generate random numbers to shuffle the data for training and test\n",
        "        np.random.seed(2021)\n",
        "        random_int = np.random.randint(0,3000)\n",
        "        #### create cross validation folds\n",
        "        kfold = model_selection.KFold(n_splits=k, random_state=random_int, shuffle=True)\n",
        "        #### record the score \n",
        "        score = model_selection.cross_val_score(clf, X=X, y=y, cv=kfold, scoring=scoring)\n",
        "        scores.append(score)\n",
        "    scores = np.array(scores)\n",
        "    #### we need to calculate the bias (average score) and viariance (std)\n",
        "    bias, variance = round(scores.mean(),4), round(scores.std(),4)\n",
        "    return(bias, variance)"
      ],
      "metadata": {
        "id": "MIeFyIAWqJhO"
      },
      "execution_count": null,
      "outputs": []
    },
    {
      "cell_type": "code",
      "source": [
        "# Resampling and Balancing the data\n",
        "sm = SMOTE(random_state = 2021) \n",
        "X_res, Y_res = sm.fit_resample(X_train, y_train)"
      ],
      "metadata": {
        "id": "nVC5zqjOrcfX"
      },
      "execution_count": null,
      "outputs": []
    },
    {
      "cell_type": "code",
      "source": [
        "#average f1_score from 10-fold CV \n",
        "clf = DecisionTreeClassifier()\n",
        "my_eval(X_res, Y_res, clf, 10)"
      ],
      "metadata": {
        "colab": {
          "base_uri": "https://localhost:8080/"
        },
        "id": "iEGKiLx0rdyA",
        "outputId": "d527c37d-ffab-467b-d827-f4b4148ed148"
      },
      "execution_count": null,
      "outputs": [
        {
          "output_type": "execute_result",
          "data": {
            "text/plain": [
              "(0.9882, 0.004)"
            ]
          },
          "metadata": {},
          "execution_count": 24
        }
      ]
    },
    {
      "cell_type": "code",
      "source": [
        "#average ROC_AUC from 10-fold CV\n",
        "my_eval(X_res, Y_res, clf, 10, 'roc_auc')"
      ],
      "metadata": {
        "colab": {
          "base_uri": "https://localhost:8080/"
        },
        "id": "Z1DIIBn-rgrs",
        "outputId": "0075d7ae-8e54-4642-bcfd-96dda669a68f"
      },
      "execution_count": null,
      "outputs": [
        {
          "output_type": "execute_result",
          "data": {
            "text/plain": [
              "(0.9882, 0.004)"
            ]
          },
          "metadata": {},
          "execution_count": 25
        }
      ]
    },
    {
      "cell_type": "markdown",
      "source": [
        "#Random Forest "
      ],
      "metadata": {
        "id": "tn_0CXTgjRhi"
      }
    },
    {
      "cell_type": "code",
      "source": [
        "# import 'random forest' model\n",
        "from sklearn.ensemble import RandomForestClassifier"
      ],
      "metadata": {
        "id": "s_e9iOw3bJ9Z"
      },
      "execution_count": null,
      "outputs": []
    },
    {
      "cell_type": "code",
      "source": [
        "#Create Classifier\n",
        "clf = RandomForestClassifier(n_estimators=100, random_state=2022)\n",
        "\n",
        "#Train the model using the training sets\n",
        "clf.fit(X_train, y_train)\n",
        "\n",
        "#Predict the response for test dataset\n",
        "y_pred = clf.predict(X_test)"
      ],
      "metadata": {
        "id": "u7c9BSOHmq6C"
      },
      "execution_count": null,
      "outputs": []
    },
    {
      "cell_type": "code",
      "source": [
        "print(classification_report(y_test, y_pred))"
      ],
      "metadata": {
        "colab": {
          "base_uri": "https://localhost:8080/"
        },
        "id": "8GnRiQ7DbMwM",
        "outputId": "0eb71643-29d1-4007-be2f-18e646be096b"
      },
      "execution_count": null,
      "outputs": [
        {
          "output_type": "stream",
          "name": "stdout",
          "text": [
            "              precision    recall  f1-score   support\n",
            "\n",
            "           0       0.99      0.99      0.99      1369\n",
            "           1       0.81      0.76      0.78        38\n",
            "\n",
            "    accuracy                           0.99      1407\n",
            "   macro avg       0.90      0.88      0.89      1407\n",
            "weighted avg       0.99      0.99      0.99      1407\n",
            "\n"
          ]
        }
      ]
    },
    {
      "cell_type": "code",
      "source": [
        "cnf_matrix = metrics.confusion_matrix(y_test, y_pred)\n",
        "cnf_matrix"
      ],
      "metadata": {
        "colab": {
          "base_uri": "https://localhost:8080/"
        },
        "id": "ZVpMC4DjbQHN",
        "outputId": "7b6e426f-0af4-4b04-bf96-a06012d02846"
      },
      "execution_count": null,
      "outputs": [
        {
          "output_type": "execute_result",
          "data": {
            "text/plain": [
              "array([[1362,    7],\n",
              "       [   9,   29]])"
            ]
          },
          "metadata": {},
          "execution_count": 29
        }
      ]
    },
    {
      "cell_type": "code",
      "source": [
        "import seaborn as sns\n",
        "import matplotlib.pyplot as plt\n",
        "class_names=[0,1] # name  of classes\n",
        "fig, ax = plt.subplots()\n",
        "tick_marks = np.arange(len(class_names))\n",
        "plt.xticks(tick_marks, class_names)\n",
        "plt.yticks(tick_marks, class_names)\n",
        "# create heatmap\n",
        "sns.heatmap(pd.DataFrame(cnf_matrix), annot=True, cmap=\"YlGnBu\" ,fmt='g')\n",
        "ax.xaxis.set_label_position(\"top\")\n",
        "plt.tight_layout()\n",
        "plt.title('Confusion matrix', y=1.1)\n",
        "plt.ylabel('Actual label')\n",
        "plt.xlabel('Predicted label')"
      ],
      "metadata": {
        "colab": {
          "base_uri": "https://localhost:8080/",
          "height": 345
        },
        "id": "3qny6UQEbSqw",
        "outputId": "39cf8df6-5167-4814-e110-d2b163f352e3"
      },
      "execution_count": null,
      "outputs": [
        {
          "output_type": "execute_result",
          "data": {
            "text/plain": [
              "Text(0.5, 257.44, 'Predicted label')"
            ]
          },
          "metadata": {},
          "execution_count": 30
        },
        {
          "output_type": "display_data",
          "data": {
            "text/plain": [
              "<Figure size 432x288 with 2 Axes>"
            ],
            "image/png": "[encoded data removed]"
          },
          "metadata": {}
        }
      ]
    },
    {
      "cell_type": "code",
      "source": [
        "y_pred_proba = clf.predict_proba(X_test)[::,1]\n",
        "fpr, tpr, _ = metrics.roc_curve(y_test,  y_pred_proba)\n",
        "auc = metrics.roc_auc_score(y_test, y_pred_proba)\n",
        "plt.plot(fpr,tpr,label= 'AUC = %0.2f' % auc)\n",
        "plt.legend(loc=4)\n",
        "plt.title('Receiver Operating Characteristic (ROC)')\n",
        "plt.ylabel('True Positive Rate')\n",
        "plt.xlabel('False Positive Rate')\n",
        "plt.show()\n",
        "print('AUC Score:', auc)"
      ],
      "metadata": {
        "colab": {
          "base_uri": "https://localhost:8080/",
          "height": 316
        },
        "id": "Y_EXtJB0Ye4w",
        "outputId": "fe4cecfc-1152-4998-d098-7d8103fa6b63"
      },
      "execution_count": null,
      "outputs": [
        {
          "output_type": "display_data",
          "data": {
            "text/plain": [
              "<Figure size 432x288 with 1 Axes>"
            ],
            "image/png": "[encoded data removed]"
          },
          "metadata": {}
        },
        {
          "output_type": "stream",
          "name": "stdout",
          "text": [
            "AUC Score: 0.9790473261312522\n"
          ]
        }
      ]
    },
    {
      "cell_type": "code",
      "source": [
        "feature_imp = pd.Series(clf.feature_importances_, index=list(X_train_cols.columns)).sort_values(ascending=False)\n",
        "feature_imp"
      ],
      "metadata": {
        "colab": {
          "base_uri": "https://localhost:8080/"
        },
        "id": "f1dNpGyJY9bf",
        "outputId": "3d224d18-88f5-4d3c-81d1-ddb099829b13"
      },
      "execution_count": null,
      "outputs": [
        {
          "output_type": "execute_result",
          "data": {
            "text/plain": [
              "PTS           0.171985\n",
              "PIE           0.147225\n",
              "FTA           0.131085\n",
              "W             0.113220\n",
              "FGM           0.102876\n",
              "PLUS_MINUS    0.093956\n",
              "FGA           0.079775\n",
              "POSS          0.077303\n",
              "FTM           0.042694\n",
              "USG_PCT       0.039880\n",
              "dtype: float64"
            ]
          },
          "metadata": {},
          "execution_count": 32
        }
      ]
    },
    {
      "cell_type": "code",
      "source": [
        "%matplotlib inline\n",
        "plt.style.use('ggplot')\n",
        "\n",
        "# Creating a bar plot\n",
        "sns.barplot(x=feature_imp, y=feature_imp.index,color='r')\n",
        "\n",
        "# Add labels to your graph\n",
        "plt.xlabel('Feature Importance Score')\n",
        "plt.ylabel('Features')\n",
        "plt.title(\"Visualizing Important Features\")\n",
        "plt.show()"
      ],
      "metadata": {
        "id": "aPJN_6_FZD6S",
        "outputId": "0799a658-a15e-4c96-f303-4f3074c10555",
        "colab": {
          "base_uri": "https://localhost:8080/",
          "height": 299
        }
      },
      "execution_count": null,
      "outputs": [
        {
          "output_type": "display_data",
          "data": {
            "text/plain": [
              "<Figure size 432x288 with 1 Axes>"
            ],
            "image/png": "[encoded data removed]"
          },
          "metadata": {}
        }
      ]
    },
    {
      "cell_type": "markdown",
      "source": [
        "##eval "
      ],
      "metadata": {
        "id": "t6Xo0Szqf8ev"
      }
    },
    {
      "cell_type": "code",
      "source": [
        "# resample/balance the data\n",
        "sm = SMOTE(random_state = 2021) \n",
        "X_res, y_res = sm.fit_resample(X, y) "
      ],
      "metadata": {
        "id": "j4WiEFB1eEKs"
      },
      "execution_count": null,
      "outputs": []
    },
    {
      "cell_type": "code",
      "source": [
        "clf = DecisionTreeClassifier()"
      ],
      "metadata": {
        "id": "EgbZ15QEgBqn"
      },
      "execution_count": null,
      "outputs": []
    },
    {
      "cell_type": "code",
      "source": [
        "def my_eval(X, y, classifer = clf, k=10, scoring = 'f1'):\n",
        "  '''\n",
        "  return evaluation results (f1-score or ROC_AUC). \n",
        "  Built in k-fold evaluation.\n",
        "  INPUTS:\n",
        "  ----\n",
        "  - X: features; DataFrame or Numpy ndarray;\n",
        "  - y: target; DataFrame or Numpy ndarray;\n",
        "  - classifier: any sklearn (or its add-on) based classifier\n",
        "  - k: number of folds in cross validation\n",
        "  - scoring: evaluation metric ('f1' default or 'roc_auc')\n",
        "  OUTPUT:\n",
        "  ----\n",
        "  bias/variance score of selected metric.\n",
        "  '''\n",
        "  scores = []\n",
        "  for i in range(50):\n",
        "    #### generate random numbers to shuffle the data for training and test\n",
        "    np.random.seed(2021)\n",
        "    random_int = np.random.randint(0,3000)\n",
        "    #### create cross validation folds\n",
        "    kfold = model_selection.KFold(n_splits=k, random_state=random_int, shuffle=True)\n",
        "    #### record the score\n",
        "    score = model_selection.cross_val_score(clf, X=X, y=y, cv=kfold, scoring=scoring)\n",
        "    scores.append(score)\n",
        "  scores = np.array(scores)\n",
        "  #### we need to calculate the bias (average score) and viariance (std)\n",
        "  bias, variance = round(scores.mean(),4), round(scores.std(),4)\n",
        "  return(bias, variance)"
      ],
      "metadata": {
        "id": "rDOzEwYBgC-t"
      },
      "execution_count": null,
      "outputs": []
    },
    {
      "cell_type": "code",
      "source": [
        "# getting averaged f1_score from 10-fold CV (default)\n",
        "my_eval(X_res, y_res, clf, 10)"
      ],
      "metadata": {
        "colab": {
          "base_uri": "https://localhost:8080/"
        },
        "id": "LPIuo3ADgEWa",
        "outputId": "ecbf4b90-f470-4256-c336-dfaa6043167c"
      },
      "execution_count": null,
      "outputs": [
        {
          "output_type": "execute_result",
          "data": {
            "text/plain": [
              "(0.9881, 0.0016)"
            ]
          },
          "metadata": {},
          "execution_count": 37
        }
      ]
    },
    {
      "cell_type": "code",
      "source": [
        "# getting averaged ROC_AUC from 10-fold CV\n",
        "my_eval(X_res, y_res, clf, 10, 'roc_auc')"
      ],
      "metadata": {
        "colab": {
          "base_uri": "https://localhost:8080/"
        },
        "id": "bFCmoclQgFo3",
        "outputId": "c27ea7a4-5c60-4566-b9b3-e3566da6a4ff"
      },
      "execution_count": null,
      "outputs": [
        {
          "output_type": "execute_result",
          "data": {
            "text/plain": [
              "(0.9881, 0.0017)"
            ]
          },
          "metadata": {},
          "execution_count": 38
        }
      ]
    },
    {
      "cell_type": "markdown",
      "source": [
        "#XGBoost "
      ],
      "metadata": {
        "id": "zrD59hlDUkpu"
      }
    },
    {
      "cell_type": "code",
      "source": [
        "#Initiate the LR model with random hyperparameters\n",
        "import xgboost as xgb\n",
        "import warnings\n",
        "warnings.filterwarnings('ignore')\n",
        "xgb0 = xgb.XGBClassifier(learning_rate = 0.05, n_estimators=300, max_depth=5)"
      ],
      "metadata": {
        "id": "bA1fDX3xUmpn"
      },
      "execution_count": null,
      "outputs": []
    },
    {
      "cell_type": "code",
      "source": [
        "# Train the model using the training sets\n",
        "xgb0.fit(X_train, y_train)\n",
        "\n",
        "# given a trained model, predict the label of a new set of data.\n",
        "y_pred = xgb0.predict(X_test)"
      ],
      "metadata": {
        "id": "MKq70vPKUzxc"
      },
      "execution_count": null,
      "outputs": []
    },
    {
      "cell_type": "code",
      "source": [
        "# Print the classification report using comparison of `y_test` and `y_pred`\n",
        "from sklearn.metrics import classification_report \n",
        "print(classification_report(y_test, y_pred))"
      ],
      "metadata": {
        "colab": {
          "base_uri": "https://localhost:8080/"
        },
        "id": "bRLUfaxWUzqL",
        "outputId": "41bd2cb1-b9e1-489d-8233-9baecd0bd847"
      },
      "execution_count": null,
      "outputs": [
        {
          "output_type": "stream",
          "name": "stdout",
          "text": [
            "              precision    recall  f1-score   support\n",
            "\n",
            "           0       0.99      0.99      0.99      1369\n",
            "           1       0.76      0.82      0.78        38\n",
            "\n",
            "    accuracy                           0.99      1407\n",
            "   macro avg       0.88      0.90      0.89      1407\n",
            "weighted avg       0.99      0.99      0.99      1407\n",
            "\n"
          ]
        }
      ]
    },
    {
      "cell_type": "code",
      "source": [
        "# import the metrics class\n",
        "from sklearn import metrics\n",
        "cnf_matrix = metrics.confusion_matrix(y_test, y_pred)\n",
        "cnf_matrix"
      ],
      "metadata": {
        "colab": {
          "base_uri": "https://localhost:8080/"
        },
        "id": "CRWW4QagUznc",
        "outputId": "73df237f-6a27-4528-e08c-eb64215dbc68"
      },
      "execution_count": null,
      "outputs": [
        {
          "output_type": "execute_result",
          "data": {
            "text/plain": [
              "array([[1359,   10],\n",
              "       [   7,   31]])"
            ]
          },
          "metadata": {},
          "execution_count": 42
        }
      ]
    },
    {
      "cell_type": "code",
      "source": [
        "import seaborn as sns\n",
        "import matplotlib.pyplot as plt\n",
        "import numpy as np\n",
        "class_names=[0,1] # name  of classes\n",
        "fig, ax = plt.subplots()\n",
        "tick_marks = np.arange(len(class_names))\n",
        "plt.xticks(tick_marks, class_names)\n",
        "plt.yticks(tick_marks, class_names)\n",
        "# create heatmap\n",
        "sns.heatmap(pd.DataFrame(cnf_matrix), annot=True, cmap=\"YlGnBu\" ,fmt='g')\n",
        "ax.xaxis.set_label_position(\"top\")\n",
        "plt.tight_layout()\n",
        "plt.title('Confusion matrix', y=1.1)\n",
        "plt.ylabel('Actual label')\n",
        "plt.xlabel('Predicted label')"
      ],
      "metadata": {
        "colab": {
          "base_uri": "https://localhost:8080/",
          "height": 345
        },
        "id": "1pbsmBtwUzk0",
        "outputId": "d441abbe-bd98-44df-c28a-c559e6398069"
      },
      "execution_count": null,
      "outputs": [
        {
          "output_type": "execute_result",
          "data": {
            "text/plain": [
              "Text(0.5, 257.44, 'Predicted label')"
            ]
          },
          "metadata": {},
          "execution_count": 43
        },
        {
          "output_type": "display_data",
          "data": {
            "text/plain": [
              "<Figure size 432x288 with 2 Axes>"
            ],
            "image/png": "[encoded data removed]"
          },
          "metadata": {}
        }
      ]
    },
    {
      "cell_type": "code",
      "source": [
        "print(\"Accuracy:\",metrics.accuracy_score(y_test, y_pred))\n",
        "print(\"Precision:\",metrics.precision_score(y_test, y_pred))\n",
        "print(\"Recall:\",metrics.recall_score(y_test, y_pred))"
      ],
      "metadata": {
        "colab": {
          "base_uri": "https://localhost:8080/"
        },
        "id": "o985vy42U3ZQ",
        "outputId": "99ac49ad-b45b-49bd-bc63-2e4cff991176"
      },
      "execution_count": null,
      "outputs": [
        {
          "output_type": "stream",
          "name": "stdout",
          "text": [
            "Accuracy: 0.9879175550817342\n",
            "Precision: 0.7560975609756098\n",
            "Recall: 0.8157894736842105\n"
          ]
        }
      ]
    },
    {
      "cell_type": "code",
      "source": [
        "y_pred_proba = xgb0.predict_proba(X_test)[::,1]\n",
        "fpr, tpr, _ = metrics.roc_curve(y_test,  y_pred_proba)\n",
        "auc = metrics.roc_auc_score(y_test, y_pred_proba)\n",
        "plt.plot(fpr,tpr,label= 'AUC = %0.2f' % auc)\n",
        "plt.legend(loc=4)\n",
        "plt.title('Receiver Operating Characteristic (ROC)')\n",
        "plt.ylabel('True Positive Rate')\n",
        "plt.xlabel('False Positive Rate')\n",
        "plt.show()\n",
        "print('AUC Score:', auc)"
      ],
      "metadata": {
        "colab": {
          "base_uri": "https://localhost:8080/",
          "height": 316
        },
        "id": "SMNQODgbU5OP",
        "outputId": "c3ae57f3-4c71-416f-f4e9-0e2bf7a58498"
      },
      "execution_count": null,
      "outputs": [
        {
          "output_type": "display_data",
          "data": {
            "text/plain": [
              "<Figure size 432x288 with 1 Axes>"
            ],
            "image/png": "[encoded data removed]"
          },
          "metadata": {}
        },
        {
          "output_type": "stream",
          "name": "stdout",
          "text": [
            "AUC Score: 0.9939064242051439\n"
          ]
        }
      ]
    },
    {
      "cell_type": "code",
      "source": [
        "from xgboost import plot_importance\n",
        "import matplotlib.pyplot as plt\n",
        "\n",
        "# plot feature importance\n",
        "plot_importance(xgb0)\n",
        "plt.show()"
      ],
      "metadata": {
        "colab": {
          "base_uri": "https://localhost:8080/",
          "height": 299
        },
        "id": "OSgECdqSU6G-",
        "outputId": "8aef558e-73e1-47b1-a6ea-ea31e85f0f8a"
      },
      "execution_count": null,
      "outputs": [
        {
          "output_type": "display_data",
          "data": {
            "text/plain": [
              "<Figure size 432x288 with 1 Axes>"
            ],
            "image/png": "[encoded data removed]"
          },
          "metadata": {}
        }
      ]
    },
    {
      "cell_type": "code",
      "source": [
        "%matplotlib inline\n",
        "from xgboost import plot_importance\n",
        "import matplotlib.pyplot as plt\n",
        "import seaborn as sns\n",
        "plt.style.use('ggplot')\n",
        "\n",
        "# Creating a bar plot\n",
        "plot_importance(xgb0,color='b',height=0.8)\n",
        "\n",
        "# Add labels to your graph\n",
        "plt.xlabel('Feature Importance Score')\n",
        "plt.ylabel('Features')\n",
        "plt.title(\"Visualizing Important Features\")\n",
        "plt.show()"
      ],
      "metadata": {
        "colab": {
          "base_uri": "https://localhost:8080/",
          "height": 299
        },
        "id": "hP26Kz0mU7J-",
        "outputId": "13c4e0e9-19cd-4dba-9d56-fb718346c284"
      },
      "execution_count": null,
      "outputs": [
        {
          "output_type": "display_data",
          "data": {
            "text/plain": [
              "<Figure size 432x288 with 1 Axes>"
            ],
            "image/png": "[encoded data removed]"
          },
          "metadata": {}
        }
      ]
    },
    {
      "cell_type": "markdown",
      "source": [
        "##Eval "
      ],
      "metadata": {
        "id": "vO4vaFoDU8NV"
      }
    },
    {
      "cell_type": "code",
      "source": [
        "# resample/balance the data\n",
        "sm = SMOTE(random_state = 2021) \n",
        "X_res, y_res = sm.fit_resample(X, y) "
      ],
      "metadata": {
        "id": "vhxT4XVeU9a3"
      },
      "execution_count": null,
      "outputs": []
    },
    {
      "cell_type": "code",
      "source": [
        "clf = xgb.XGBClassifier(learning_rate = 0.05, n_estimators=300, max_depth=5)"
      ],
      "metadata": {
        "id": "auMqe3WsVAMV"
      },
      "execution_count": null,
      "outputs": []
    },
    {
      "cell_type": "code",
      "source": [
        "def my_eval(X, y, classifer = clf, k=10, scoring = 'f1'):\n",
        "  '''\n",
        "  return evaluation results (f1-score or ROC_AUC). \n",
        "  Built in k-fold evaluation.\n",
        "  INPUTS:\n",
        "  ----\n",
        "  - X: features; DataFrame or Numpy ndarray;\n",
        "  - y: target; DataFrame or Numpy ndarray;\n",
        "  - classifier: any sklearn (or its add-on) based classifier\n",
        "  - k: number of folds in cross validation\n",
        "  - scoring: evaluation metric ('f1' default or 'roc_auc')\n",
        "  OUTPUT:\n",
        "  ----\n",
        "  bias/variance score of selected metric.\n",
        "  '''\n",
        "  scores = []\n",
        "  for i in range(50):\n",
        "    #### generate random numbers to shuffle the data for training and test\n",
        "    np.random.seed(2021)\n",
        "    random_int = np.random.randint(0,3000)\n",
        "    #### create cross validation folds\n",
        "    kfold = model_selection.KFold(n_splits=k, random_state=random_int, shuffle=True)\n",
        "    #### record the score\n",
        "    score = model_selection.cross_val_score(clf, X=X, y=y, cv=kfold, scoring=scoring)\n",
        "    scores.append(score)\n",
        "  scores = np.array(scores)\n",
        "  #### we need to calculate the bias (average score) and viariance (std)\n",
        "  bias, variance = round(scores.mean(),4), round(scores.std(),4)\n",
        "  return(bias, variance)"
      ],
      "metadata": {
        "id": "wmTK3bbcVCec"
      },
      "execution_count": null,
      "outputs": []
    },
    {
      "cell_type": "code",
      "source": [
        "# getting averaged f1_score from 10-fold CV (default)\n",
        "my_eval(X_res, y_res, clf, 10)"
      ],
      "metadata": {
        "colab": {
          "base_uri": "https://localhost:8080/"
        },
        "id": "q2oVDjZoVFi9",
        "outputId": "f385f1ff-b2c7-47d1-eac5-86e51019fb65"
      },
      "execution_count": null,
      "outputs": [
        {
          "output_type": "execute_result",
          "data": {
            "text/plain": [
              "(0.9922, 0.0032)"
            ]
          },
          "metadata": {},
          "execution_count": 51
        }
      ]
    },
    {
      "cell_type": "code",
      "source": [
        "# getting averaged ROC_AUC from 10-fold CV\n",
        "my_eval(X_res, y_res, clf, 10, 'roc_auc')"
      ],
      "metadata": {
        "colab": {
          "base_uri": "https://localhost:8080/"
        },
        "id": "3iT6s2NWVGgf",
        "outputId": "3e4ea684-a668-4164-ba61-e0b27cd82b2d"
      },
      "execution_count": null,
      "outputs": [
        {
          "output_type": "execute_result",
          "data": {
            "text/plain": [
              "(0.9991, 0.0006)"
            ]
          },
          "metadata": {},
          "execution_count": 52
        }
      ]
    }
  ]
}
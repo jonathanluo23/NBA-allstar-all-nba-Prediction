{
  "nbformat": 4,
  "nbformat_minor": 0,
  "metadata": {
    "colab": {
      "name": "XGB Hypertuning Allstar",
      "provenance": [],
      "authorship_tag": "ABX9TyPsxVFYc45a+jVcUS0xFq2d",
      "include_colab_link": true
    },
    "kernelspec": {
      "name": "python3",
      "display_name": "Python 3"
    },
    "language_info": {
      "name": "python"
    }
  },
  "cells": [
    {
      "cell_type": "markdown",
      "metadata": {
        "id": "view-in-github",
        "colab_type": "text"
      },
      "source": [
        "<a href=\"https://colab.research.google.com/github/jonathanluo23/NBA-allstar-all-nba-Prediction/blob/main/XGB_Hypertuning_Allstar.ipynb\" target=\"_parent\"><img src=\"https://colab.research.google.com/assets/colab-badge.svg\" alt=\"Open In Colab\"/></a>"
      ]
    },
    {
      "cell_type": "code",
      "execution_count": null,
      "metadata": {
        "colab": {
          "base_uri": "https://localhost:8080/"
        },
        "id": "A1dXMjU7tnww",
        "outputId": "c69ca11f-5c3f-4df0-cb1a-22a863c05a12"
      },
      "outputs": [
        {
          "output_type": "stream",
          "name": "stdout",
          "text": [
            "Mounted at /content/drive/\n"
          ]
        }
      ],
      "source": [
        "import pandas as pd\n",
        "import numpy as np\n",
        "\n",
        "from google.colab import drive\n",
        "drive.mount('/content/drive/')"
      ]
    },
    {
      "cell_type": "code",
      "source": [
        "data = pd.read_csv('/content/drive/MyDrive/Capstone/features_allstar')\n",
        "data"
      ],
      "metadata": {
        "colab": {
          "base_uri": "https://localhost:8080/",
          "height": 424
        },
        "id": "LpBsOY_Fw29T",
        "outputId": "8441a41c-8fb4-45b7-c985-46d2ab0b9172"
      },
      "execution_count": null,
      "outputs": [
        {
          "output_type": "execute_result",
          "data": {
            "text/plain": [
              "           PTS       FTA       FTM       PIE       FGM       FGA       TOV  \\\n",
              "0     0.364654  0.331058  0.397395  0.694731  0.339809  0.415240  0.409157   \n",
              "1     0.304896  0.376859  0.225032  0.437634  0.339809  0.351921  0.465928   \n",
              "2     0.658228  0.648300  0.608492  0.605293  0.708391  0.726190  0.670808   \n",
              "3     0.614272  0.610308  0.608492  0.731632  0.688276  0.644164  0.560714   \n",
              "4     0.753611  0.657040  0.657989  0.869063  0.865016  0.860573  0.491722   \n",
              "...        ...       ...       ...       ...       ...       ...       ...   \n",
              "5329  0.411726  0.305702  0.225032  0.537071  0.443154  0.479934  0.581339   \n",
              "5330  0.844027  0.773438  0.803580  0.736907  0.883919  0.878163  0.756013   \n",
              "5331  0.449854  0.469857  0.423716  0.484695  0.443154  0.432405  0.267857   \n",
              "5332  0.467574  0.248934  0.266438  0.281296  0.497437  0.531531  0.307468   \n",
              "5333  0.000000  0.000000  0.000000  0.000000  0.000000  0.337898  0.000000   \n",
              "\n",
              "      PLUS_MINUS       AST   USG_PCT  Y  \n",
              "0       0.645435  0.540045  0.525572  0  \n",
              "1       0.202159  0.204132  0.329326  0  \n",
              "2       0.726321  0.491915  0.727329  0  \n",
              "3       0.845783  0.593746  0.490974  0  \n",
              "4       0.477736  0.568187  0.811683  0  \n",
              "...          ...       ...       ... ..  \n",
              "5329    0.484965  0.593746  0.532402  0  \n",
              "5330    0.672536  0.781773  0.842407  1  \n",
              "5331    0.455946  0.204132  0.397378  0  \n",
              "5332    0.583796  0.364866  0.359913  0  \n",
              "5333    0.000000  0.000000  0.736289  0  \n",
              "\n",
              "[5334 rows x 11 columns]"
            ],
            "text/html": [
              "\n",
              "  <div id=\"df-e6f0df09-441d-4982-84af-f9d75c1970c8\">\n",
              "    <div class=\"colab-df-container\">\n",
              "      <div>\n",
              "<style scoped>\n",
              "    .dataframe tbody tr th:only-of-type {\n",
              "        vertical-align: middle;\n",
              "    }\n",
              "\n",
              "    .dataframe tbody tr th {\n",
              "        vertical-align: top;\n",
              "    }\n",
              "\n",
              "    .dataframe thead th {\n",
              "        text-align: right;\n",
              "    }\n",
              "</style>\n",
              "<table border=\"1\" class=\"dataframe\">\n",
              "  <thead>\n",
              "    <tr style=\"text-align: right;\">\n",
              "      <th></th>\n",
              "      <th>PTS</th>\n",
              "      <th>FTA</th>\n",
              "      <th>FTM</th>\n",
              "      <th>PIE</th>\n",
              "      <th>FGM</th>\n",
              "      <th>FGA</th>\n",
              "      <th>TOV</th>\n",
              "      <th>PLUS_MINUS</th>\n",
              "      <th>AST</th>\n",
              "      <th>USG_PCT</th>\n",
              "      <th>Y</th>\n",
              "    </tr>\n",
              "  </thead>\n",
              "  <tbody>\n",
              "    <tr>\n",
              "      <th>0</th>\n",
              "      <td>0.364654</td>\n",
              "      <td>0.331058</td>\n",
              "      <td>0.397395</td>\n",
              "      <td>0.694731</td>\n",
              "      <td>0.339809</td>\n",
              "      <td>0.415240</td>\n",
              "      <td>0.409157</td>\n",
              "      <td>0.645435</td>\n",
              "      <td>0.540045</td>\n",
              "      <td>0.525572</td>\n",
              "      <td>0</td>\n",
              "    </tr>\n",
              "    <tr>\n",
              "      <th>1</th>\n",
              "      <td>0.304896</td>\n",
              "      <td>0.376859</td>\n",
              "      <td>0.225032</td>\n",
              "      <td>0.437634</td>\n",
              "      <td>0.339809</td>\n",
              "      <td>0.351921</td>\n",
              "      <td>0.465928</td>\n",
              "      <td>0.202159</td>\n",
              "      <td>0.204132</td>\n",
              "      <td>0.329326</td>\n",
              "      <td>0</td>\n",
              "    </tr>\n",
              "    <tr>\n",
              "      <th>2</th>\n",
              "      <td>0.658228</td>\n",
              "      <td>0.648300</td>\n",
              "      <td>0.608492</td>\n",
              "      <td>0.605293</td>\n",
              "      <td>0.708391</td>\n",
              "      <td>0.726190</td>\n",
              "      <td>0.670808</td>\n",
              "      <td>0.726321</td>\n",
              "      <td>0.491915</td>\n",
              "      <td>0.727329</td>\n",
              "      <td>0</td>\n",
              "    </tr>\n",
              "    <tr>\n",
              "      <th>3</th>\n",
              "      <td>0.614272</td>\n",
              "      <td>0.610308</td>\n",
              "      <td>0.608492</td>\n",
              "      <td>0.731632</td>\n",
              "      <td>0.688276</td>\n",
              "      <td>0.644164</td>\n",
              "      <td>0.560714</td>\n",
              "      <td>0.845783</td>\n",
              "      <td>0.593746</td>\n",
              "      <td>0.490974</td>\n",
              "      <td>0</td>\n",
              "    </tr>\n",
              "    <tr>\n",
              "      <th>4</th>\n",
              "      <td>0.753611</td>\n",
              "      <td>0.657040</td>\n",
              "      <td>0.657989</td>\n",
              "      <td>0.869063</td>\n",
              "      <td>0.865016</td>\n",
              "      <td>0.860573</td>\n",
              "      <td>0.491722</td>\n",
              "      <td>0.477736</td>\n",
              "      <td>0.568187</td>\n",
              "      <td>0.811683</td>\n",
              "      <td>0</td>\n",
              "    </tr>\n",
              "    <tr>\n",
              "      <th>...</th>\n",
              "      <td>...</td>\n",
              "      <td>...</td>\n",
              "      <td>...</td>\n",
              "      <td>...</td>\n",
              "      <td>...</td>\n",
              "      <td>...</td>\n",
              "      <td>...</td>\n",
              "      <td>...</td>\n",
              "      <td>...</td>\n",
              "      <td>...</td>\n",
              "      <td>...</td>\n",
              "    </tr>\n",
              "    <tr>\n",
              "      <th>5329</th>\n",
              "      <td>0.411726</td>\n",
              "      <td>0.305702</td>\n",
              "      <td>0.225032</td>\n",
              "      <td>0.537071</td>\n",
              "      <td>0.443154</td>\n",
              "      <td>0.479934</td>\n",
              "      <td>0.581339</td>\n",
              "      <td>0.484965</td>\n",
              "      <td>0.593746</td>\n",
              "      <td>0.532402</td>\n",
              "      <td>0</td>\n",
              "    </tr>\n",
              "    <tr>\n",
              "      <th>5330</th>\n",
              "      <td>0.844027</td>\n",
              "      <td>0.773438</td>\n",
              "      <td>0.803580</td>\n",
              "      <td>0.736907</td>\n",
              "      <td>0.883919</td>\n",
              "      <td>0.878163</td>\n",
              "      <td>0.756013</td>\n",
              "      <td>0.672536</td>\n",
              "      <td>0.781773</td>\n",
              "      <td>0.842407</td>\n",
              "      <td>1</td>\n",
              "    </tr>\n",
              "    <tr>\n",
              "      <th>5331</th>\n",
              "      <td>0.449854</td>\n",
              "      <td>0.469857</td>\n",
              "      <td>0.423716</td>\n",
              "      <td>0.484695</td>\n",
              "      <td>0.443154</td>\n",
              "      <td>0.432405</td>\n",
              "      <td>0.267857</td>\n",
              "      <td>0.455946</td>\n",
              "      <td>0.204132</td>\n",
              "      <td>0.397378</td>\n",
              "      <td>0</td>\n",
              "    </tr>\n",
              "    <tr>\n",
              "      <th>5332</th>\n",
              "      <td>0.467574</td>\n",
              "      <td>0.248934</td>\n",
              "      <td>0.266438</td>\n",
              "      <td>0.281296</td>\n",
              "      <td>0.497437</td>\n",
              "      <td>0.531531</td>\n",
              "      <td>0.307468</td>\n",
              "      <td>0.583796</td>\n",
              "      <td>0.364866</td>\n",
              "      <td>0.359913</td>\n",
              "      <td>0</td>\n",
              "    </tr>\n",
              "    <tr>\n",
              "      <th>5333</th>\n",
              "      <td>0.000000</td>\n",
              "      <td>0.000000</td>\n",
              "      <td>0.000000</td>\n",
              "      <td>0.000000</td>\n",
              "      <td>0.000000</td>\n",
              "      <td>0.337898</td>\n",
              "      <td>0.000000</td>\n",
              "      <td>0.000000</td>\n",
              "      <td>0.000000</td>\n",
              "      <td>0.736289</td>\n",
              "      <td>0</td>\n",
              "    </tr>\n",
              "  </tbody>\n",
              "</table>\n",
              "<p>5334 rows × 11 columns</p>\n",
              "</div>\n",
              "      <button class=\"colab-df-convert\" onclick=\"convertToInteractive('df-e6f0df09-441d-4982-84af-f9d75c1970c8')\"\n",
              "              title=\"Convert this dataframe to an interactive table.\"\n",
              "              style=\"display:none;\">\n",
              "        \n",
              "  <svg xmlns=\"http://www.w3.org/2000/svg\" height=\"24px\"viewBox=\"0 0 24 24\"\n",
              "       width=\"24px\">\n",
              "    <path d=\"M0 0h24v24H0V0z\" fill=\"none\"/>\n",
              "    <path d=\"M18.56 5.44l.94 2.06.94-2.06 2.06-.94-2.06-.94-.94-2.06-.94 2.06-2.06.94zm-11 1L8.5 8.5l.94-2.06 2.06-.94-2.06-.94L8.5 2.5l-.94 2.06-2.06.94zm10 10l.94 2.06.94-2.06 2.06-.94-2.06-.94-.94-2.06-.94 2.06-2.06.94z\"/><path d=\"M17.41 7.96l-1.37-1.37c-.4-.4-.92-.59-1.43-.59-.52 0-1.04.2-1.43.59L10.3 9.45l-7.72 7.72c-.78.78-.78 2.05 0 2.83L4 21.41c.39.39.9.59 1.41.59.51 0 1.02-.2 1.41-.59l7.78-7.78 2.81-2.81c.8-.78.8-2.07 0-2.86zM5.41 20L4 18.59l7.72-7.72 1.47 1.35L5.41 20z\"/>\n",
              "  </svg>\n",
              "      </button>\n",
              "      \n",
              "  <style>\n",
              "    .colab-df-container {\n",
              "      display:flex;\n",
              "      flex-wrap:wrap;\n",
              "      gap: 12px;\n",
              "    }\n",
              "\n",
              "    .colab-df-convert {\n",
              "      background-color: #E8F0FE;\n",
              "      border: none;\n",
              "      border-radius: 50%;\n",
              "      cursor: pointer;\n",
              "      display: none;\n",
              "      fill: #1967D2;\n",
              "      height: 32px;\n",
              "      padding: 0 0 0 0;\n",
              "      width: 32px;\n",
              "    }\n",
              "\n",
              "    .colab-df-convert:hover {\n",
              "      background-color: #E2EBFA;\n",
              "      box-shadow: 0px 1px 2px rgba(60, 64, 67, 0.3), 0px 1px 3px 1px rgba(60, 64, 67, 0.15);\n",
              "      fill: #174EA6;\n",
              "    }\n",
              "\n",
              "    [theme=dark] .colab-df-convert {\n",
              "      background-color: #3B4455;\n",
              "      fill: #D2E3FC;\n",
              "    }\n",
              "\n",
              "    [theme=dark] .colab-df-convert:hover {\n",
              "      background-color: #434B5C;\n",
              "      box-shadow: 0px 1px 3px 1px rgba(0, 0, 0, 0.15);\n",
              "      filter: drop-shadow(0px 1px 2px rgba(0, 0, 0, 0.3));\n",
              "      fill: #FFFFFF;\n",
              "    }\n",
              "  </style>\n",
              "\n",
              "      <script>\n",
              "        const buttonEl =\n",
              "          document.querySelector('#df-e6f0df09-441d-4982-84af-f9d75c1970c8 button.colab-df-convert');\n",
              "        buttonEl.style.display =\n",
              "          google.colab.kernel.accessAllowed ? 'block' : 'none';\n",
              "\n",
              "        async function convertToInteractive(key) {\n",
              "          const element = document.querySelector('#df-e6f0df09-441d-4982-84af-f9d75c1970c8');\n",
              "          const dataTable =\n",
              "            await google.colab.kernel.invokeFunction('convertToInteractive',\n",
              "                                                     [key], {});\n",
              "          if (!dataTable) return;\n",
              "\n",
              "          const docLinkHtml = 'Like what you see? Visit the ' +\n",
              "            '<a target=\"_blank\" href=https://colab.research.google.com/notebooks/data_table.ipynb>data table notebook</a>'\n",
              "            + ' to learn more about interactive tables.';\n",
              "          element.innerHTML = '';\n",
              "          dataTable['output_type'] = 'display_data';\n",
              "          await google.colab.output.renderOutput(dataTable, element);\n",
              "          const docLink = document.createElement('div');\n",
              "          docLink.innerHTML = docLinkHtml;\n",
              "          element.appendChild(docLink);\n",
              "        }\n",
              "      </script>\n",
              "    </div>\n",
              "  </div>\n",
              "  "
            ]
          },
          "metadata": {},
          "execution_count": 2
        }
      ]
    },
    {
      "cell_type": "code",
      "source": [
        "X = data.iloc[:,:-1]\n",
        "y = data.iloc[:,-1]"
      ],
      "metadata": {
        "id": "cqge5CtDw93e"
      },
      "execution_count": null,
      "outputs": []
    },
    {
      "cell_type": "markdown",
      "source": [
        "#Hypertuning\n"
      ],
      "metadata": {
        "id": "njFi_Xf8zq3B"
      }
    },
    {
      "cell_type": "code",
      "source": [
        "#Initiate the LR model with random hyperparameters\n",
        "import xgboost as xgb\n",
        "import warnings\n",
        "warnings.filterwarnings('ignore')\n",
        "xgb0 = xgb.XGBClassifier(learning_rate = 0.05, n_estimators=300, max_depth=5)"
      ],
      "metadata": {
        "id": "n048BFIwxBhU"
      },
      "execution_count": null,
      "outputs": []
    },
    {
      "cell_type": "code",
      "source": [
        "xgb0.fit(X,y)"
      ],
      "metadata": {
        "colab": {
          "base_uri": "https://localhost:8080/"
        },
        "id": "4b6FK3kvxBdn",
        "outputId": "ba6b9afe-9feb-4cca-8aa5-0ea1380654e6"
      },
      "execution_count": null,
      "outputs": [
        {
          "output_type": "execute_result",
          "data": {
            "text/plain": [
              "XGBClassifier(learning_rate=0.05, max_depth=5, n_estimators=300)"
            ]
          },
          "metadata": {},
          "execution_count": 5
        }
      ]
    },
    {
      "cell_type": "code",
      "source": [
        "xgb0.score(X,y)"
      ],
      "metadata": {
        "colab": {
          "base_uri": "https://localhost:8080/"
        },
        "id": "PMtL3UcPxBWl",
        "outputId": "8afab93a-818a-4f21-8e97-fb98634dd781"
      },
      "execution_count": null,
      "outputs": [
        {
          "output_type": "execute_result",
          "data": {
            "text/plain": [
              "0.9981252343457068"
            ]
          },
          "metadata": {},
          "execution_count": 6
        }
      ]
    },
    {
      "cell_type": "code",
      "source": [
        "# You will need the following dependencies for applying Cross-validation and evaluating the cross-validated score\n",
        "\n",
        "from sklearn.model_selection import KFold\n",
        "from sklearn.model_selection import cross_val_score\n",
        "\n",
        "# Build the k-fold cross-validator\n",
        "\n",
        "kfold = KFold(n_splits=3, random_state=2019,shuffle=True)"
      ],
      "metadata": {
        "id": "8N4o_VNCxYpk"
      },
      "execution_count": null,
      "outputs": []
    },
    {
      "cell_type": "code",
      "source": [
        "result = cross_val_score(xgb0, X, y, cv=kfold, scoring='accuracy')\n",
        "print('accuracy', result.mean())\n",
        "result = cross_val_score(xgb0, X, y, cv=kfold, scoring='precision')\n",
        "print('precision', result.mean())\n",
        "result = cross_val_score(xgb0, X, y, cv=kfold, scoring='recall')\n",
        "print('recall', result.mean())"
      ],
      "metadata": {
        "colab": {
          "base_uri": "https://localhost:8080/"
        },
        "id": "MYRVEOunxb1R",
        "outputId": "607ddb49-76b9-49c0-d0d5-60b2e6d334b9"
      },
      "execution_count": null,
      "outputs": [
        {
          "output_type": "stream",
          "name": "stdout",
          "text": [
            "accuracy 0.970753655793026\n",
            "precision 0.7426964498984246\n",
            "recall 0.6592864923747277\n"
          ]
        }
      ]
    },
    {
      "cell_type": "code",
      "source": [
        "learning_rate = [0.1,0.01,0.05]\n",
        "n_estimators = [200,300,400]\n",
        "max_depth = [3,5,10]\n",
        "gamma =[5,6,7]\n",
        "colsample_bytree=[1.0, 1.5]\n",
        "param_grid = dict(learning_rate=learning_rate,n_estimators=n_estimators,max_depth=max_depth, gamma=gamma, colsample_bytree=colsample_bytree)"
      ],
      "metadata": {
        "id": "ouagD4gox6rj"
      },
      "execution_count": null,
      "outputs": []
    },
    {
      "cell_type": "code",
      "source": [
        "import numpy as np\n",
        "np.random.seed(7)\n",
        "n_estimators1 = np.random.randint(200,300,400)\n",
        "max_depth1 = np.random.randint(3,5,10)\n",
        "gamma1 = np.random.randint(5,6,7)\n",
        "param_grid1 = dict(n_estimators=n_estimators1,max_depth=max_depth1, gamma=gamma1)"
      ],
      "metadata": {
        "id": "t6P5zeB3yMGj"
      },
      "execution_count": null,
      "outputs": []
    },
    {
      "cell_type": "code",
      "source": [
        "from sklearn.model_selection import RandomizedSearchCV"
      ],
      "metadata": {
        "id": "EPm7kUojySm5"
      },
      "execution_count": null,
      "outputs": []
    },
    {
      "cell_type": "code",
      "source": [
        "random = RandomizedSearchCV(estimator=xgb0, param_distributions=param_grid1, cv = 3, n_jobs=-1)\n",
        "\n",
        "import time\n",
        "start_time = time.time()\n",
        "random_result = random.fit(X, y)\n",
        "# Summarize results\n",
        "print(\"Best: %f using %s\" % (random_result.best_score_, random_result.best_params_))\n",
        "print(\"Execution time: \" + str((time.time() - start_time)) + ' ms')"
      ],
      "metadata": {
        "colab": {
          "base_uri": "https://localhost:8080/"
        },
        "id": "tUsvr3wpyQWu",
        "outputId": "d15592a8-d3d6-455e-c161-c91b646d89bb"
      },
      "execution_count": null,
      "outputs": [
        {
          "output_type": "stream",
          "name": "stdout",
          "text": [
            "Best: 0.972066 using {'n_estimators': 277, 'max_depth': 4, 'gamma': 5}\n",
            "Execution time: 14.184200286865234 ms\n"
          ]
        }
      ]
    },
    {
      "cell_type": "markdown",
      "source": [
        "#Evaluation\n"
      ],
      "metadata": {
        "id": "KSW1QYYtzupG"
      }
    },
    {
      "cell_type": "code",
      "source": [
        "# balance the data\n",
        "from imblearn.over_sampling import SMOTE\n",
        "\n",
        "from sklearn import model_selection"
      ],
      "metadata": {
        "id": "KEYCDNqb14o7"
      },
      "execution_count": null,
      "outputs": []
    },
    {
      "cell_type": "code",
      "source": [
        "# resample/balance the data\n",
        "sm = SMOTE(random_state = 2021) \n",
        "X_res, y_res = sm.fit_resample(X, y) "
      ],
      "metadata": {
        "id": "jN9STmER1irX"
      },
      "execution_count": null,
      "outputs": []
    },
    {
      "cell_type": "code",
      "source": [
        "clf = xgb.XGBClassifier(learning_rate = 0.05,n_estimators= 277, max_depth= 4, gamma= 5)"
      ],
      "metadata": {
        "id": "riSyAgiu1inI"
      },
      "execution_count": null,
      "outputs": []
    },
    {
      "cell_type": "code",
      "source": [
        "def my_eval(X, y, classifer = clf, k=10, scoring = 'f1'):\n",
        "  '''\n",
        "  return evaluation results (f1-score or ROC_AUC). \n",
        "  Built in k-fold evaluation.\n",
        "  INPUTS:\n",
        "  ----\n",
        "  - X: features; DataFrame or Numpy ndarray;\n",
        "  - y: target; DataFrame or Numpy ndarray;\n",
        "  - classifier: any sklearn (or its add-on) based classifier\n",
        "  - k: number of folds in cross validation\n",
        "  - scoring: evaluation metric ('f1' default or 'roc_auc')\n",
        "  OUTPUT:\n",
        "  ----\n",
        "  bias/variance score of selected metric.\n",
        "  '''\n",
        "  scores = []\n",
        "  for i in range(50):\n",
        "    #### generate random numbers to shuffle the data for training and test\n",
        "    np.random.seed(2021)\n",
        "    random_int = np.random.randint(0,3000)\n",
        "    #### create cross validation folds\n",
        "    kfold = model_selection.KFold(n_splits=k, random_state=random_int, shuffle=True)\n",
        "    #### record the score\n",
        "    score = model_selection.cross_val_score(clf, X=X, y=y, cv=kfold, scoring=scoring)\n",
        "    scores.append(score)\n",
        "  scores = np.array(scores)\n",
        "  #### we need to calculate the bias (average score) and viariance (std)\n",
        "  bias, variance = round(scores.mean(),4), round(scores.std(),4)\n",
        "  return(bias, variance)"
      ],
      "metadata": {
        "id": "xMOpz_Ol1iBN"
      },
      "execution_count": null,
      "outputs": []
    },
    {
      "cell_type": "code",
      "source": [
        "# getting averaged f1_score from 10-fold CV (default)\n",
        "my_eval(X_res, y_res, clf, 10)"
      ],
      "metadata": {
        "colab": {
          "base_uri": "https://localhost:8080/"
        },
        "id": "ihzM1oBw2Fdi",
        "outputId": "463c48ff-8a61-46d4-bc99-a9a7d17e0977"
      },
      "execution_count": null,
      "outputs": [
        {
          "output_type": "execute_result",
          "data": {
            "text/plain": [
              "(0.9677, 0.0026)"
            ]
          },
          "metadata": {},
          "execution_count": 17
        }
      ]
    },
    {
      "cell_type": "code",
      "source": [
        "# getting averaged ROC_AUC from 10-fold CV\n",
        "my_eval(X_res, y_res, clf, 10, 'roc_auc')"
      ],
      "metadata": {
        "colab": {
          "base_uri": "https://localhost:8080/"
        },
        "id": "FOpnDXSO2Q5_",
        "outputId": "749cdc76-1e7e-43c5-c623-3dac47070ae1"
      },
      "execution_count": null,
      "outputs": [
        {
          "output_type": "execute_result",
          "data": {
            "text/plain": [
              "(0.9921, 0.0018)"
            ]
          },
          "metadata": {},
          "execution_count": 18
        }
      ]
    },
    {
      "cell_type": "code",
      "source": [
        "clf = xgb.XGBClassifier(n_estimators= 277, max_depth= 4, gamma= 5)"
      ],
      "metadata": {
        "id": "c5HWeTeUKqWk"
      },
      "execution_count": null,
      "outputs": []
    },
    {
      "cell_type": "code",
      "source": [
        "# getting averaged f1_score from 10-fold CV (default)\n",
        "my_eval(X_res, y_res, clf, 10)"
      ],
      "metadata": {
        "colab": {
          "base_uri": "https://localhost:8080/"
        },
        "id": "1YnFasC0KsYw",
        "outputId": "eb4826cc-093e-4b95-aa3a-e35afcf7634e"
      },
      "execution_count": null,
      "outputs": [
        {
          "output_type": "execute_result",
          "data": {
            "text/plain": [
              "(0.9676, 0.0021)"
            ]
          },
          "metadata": {},
          "execution_count": 20
        }
      ]
    },
    {
      "cell_type": "code",
      "source": [
        "# getting averaged ROC_AUC from 10-fold CV\n",
        "my_eval(X_res, y_res, clf, 10, 'roc_auc')"
      ],
      "metadata": {
        "colab": {
          "base_uri": "https://localhost:8080/"
        },
        "id": "sbd1wDhXKtOK",
        "outputId": "6ba0b0c6-9729-4319-f953-986ee9c4081d"
      },
      "execution_count": null,
      "outputs": [
        {
          "output_type": "execute_result",
          "data": {
            "text/plain": [
              "(0.9923, 0.0018)"
            ]
          },
          "metadata": {},
          "execution_count": 21
        }
      ]
    }
  ]
}